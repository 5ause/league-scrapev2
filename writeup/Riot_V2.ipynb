{
  "nbformat": 4,
  "nbformat_minor": 0,
  "metadata": {
    "colab": {
      "name": "Riot V2",
      "provenance": []
    },
    "kernelspec": {
      "name": "python3",
      "display_name": "Python 3"
    },
    "language_info": {
      "name": "python"
    }
  },
  "cells": [
    {
      "cell_type": "markdown",
      "source": [
        "# League of Legends prediction\n",
        "\n",
        "### The Data\n",
        "\n",
        "The data used in this notebook was scraped from the web by none other than myself. [the repo can be found here.](https://github.com/5ause/league-scrapev2)\n",
        "\n",
        "The data measures over 200 variables for over 1000 games of the popular game, League of Legends. In this notebook, I will attempt to create a model that predicts the outcome of a League game, given the stats.\n",
        "\n",
        "Some things to note:\n",
        " - The games that I scraped are challenger elo games, meaning they are played by good players. This means that their gameplay is more consistent, implying that, when you match the same players against each other over and over, the outcome will be relatively consistent. I do not know if the same can be said for lower elo(worse) players"
      ],
      "metadata": {
        "id": "4h3Jtl_i2zbL"
      }
    },
    {
      "cell_type": "markdown",
      "source": [
        "## Uploading the data and importing libraries"
      ],
      "metadata": {
        "id": "Kkej8MRE4GbT"
      }
    },
    {
      "cell_type": "code",
      "execution_count": 2,
      "metadata": {
        "id": "rcXtfdDo1zok"
      },
      "outputs": [],
      "source": [
        "from google.colab import files"
      ]
    },
    {
      "cell_type": "code",
      "source": [
        "# upload data.csv\n",
        "uploaded = files.upload()"
      ],
      "metadata": {
        "colab": {
          "resources": {
            "http://localhost:8080/nbextensions/google.colab/files.js": {
              "data": "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",
              "ok": true,
              "headers": [
                [
                  "content-type",
                  "application/javascript"
                ]
              ],
              "status": 200,
              "status_text": ""
            }
          },
          "base_uri": "https://localhost:8080/",
          "height": 38
        },
        "id": "VmVhcKPs2AQW",
        "outputId": "b3b8a247-5e4f-4979-ab02-7724231565d5"
      },
      "execution_count": 3,
      "outputs": [
        {
          "output_type": "display_data",
          "data": {
            "text/html": [
              "\n",
              "     <input type=\"file\" id=\"files-e3f4fae4-bcef-4d9f-a229-8bf467a312b9\" name=\"files[]\" multiple disabled\n",
              "        style=\"border:none\" />\n",
              "     <output id=\"result-e3f4fae4-bcef-4d9f-a229-8bf467a312b9\">\n",
              "      Upload widget is only available when the cell has been executed in the\n",
              "      current browser session. Please rerun this cell to enable.\n",
              "      </output>\n",
              "      <script src=\"/nbextensions/google.colab/files.js\"></script> "
            ],
            "text/plain": [
              "<IPython.core.display.HTML object>"
            ]
          },
          "metadata": {}
        }
      ]
    },
    {
      "cell_type": "code",
      "source": [
        "import pandas as pd\n",
        "import numpy as np\n",
        "import matplotlib\n",
        "import matplotlib.pyplot as plt\n",
        "import seaborn as sns\n",
        "import csv"
      ],
      "metadata": {
        "id": "2jlBRBke2RtV"
      },
      "execution_count": 4,
      "outputs": []
    },
    {
      "cell_type": "markdown",
      "source": [
        "## First look at the data\n",
        "\n",
        "There are 232 variables being measured. Most of these variables are numeric, and some are not.\n",
        "\n",
        "Some of these columns must be converted to a numeric representation, or otherwise mutated, in order to produce insightful variables.\n",
        "\n",
        "For my first model, I will only select the numeric variables."
      ],
      "metadata": {
        "id": "2RLV24743ULB"
      }
    },
    {
      "cell_type": "code",
      "source": [
        "df = pd.read_csv('data.csv')"
      ],
      "metadata": {
        "id": "GLYGrKhN2Wqg"
      },
      "execution_count": 6,
      "outputs": []
    },
    {
      "cell_type": "code",
      "source": [
        "df.head()"
      ],
      "metadata": {
        "colab": {
          "base_uri": "https://localhost:8080/",
          "height": 473
        },
        "id": "AS_M99HV2be2",
        "outputId": "6a793a16-9f5f-4151-f6b4-57f5dd11d14a"
      },
      "execution_count": 7,
      "outputs": [
        {
          "output_type": "execute_result",
          "data": {
            "text/html": [
              "\n",
              "  <div id=\"df-768f651f-0cfd-4e90-a11c-8a5fd971f710\">\n",
              "    <div class=\"colab-df-container\">\n",
              "      <div>\n",
              "<style scoped>\n",
              "    .dataframe tbody tr th:only-of-type {\n",
              "        vertical-align: middle;\n",
              "    }\n",
              "\n",
              "    .dataframe tbody tr th {\n",
              "        vertical-align: top;\n",
              "    }\n",
              "\n",
              "    .dataframe thead th {\n",
              "        text-align: right;\n",
              "    }\n",
              "</style>\n",
              "<table border=\"1\" class=\"dataframe\">\n",
              "  <thead>\n",
              "    <tr style=\"text-align: right;\">\n",
              "      <th></th>\n",
              "      <th>gameid</th>\n",
              "      <th>winning_team</th>\n",
              "      <th>100_TOP_avg_game_time</th>\n",
              "      <th>100_TOP_positions_played</th>\n",
              "      <th>100_TOP_avg_kda</th>\n",
              "      <th>100_TOP_avg_kp</th>\n",
              "      <th>100_TOP_avg_vision</th>\n",
              "      <th>100_TOP_avg_cs</th>\n",
              "      <th>100_TOP_goldpm</th>\n",
              "      <th>100_TOP_dmgpm</th>\n",
              "      <th>100_TOP_dmg_to_obj_pm</th>\n",
              "      <th>100_TOP_wr</th>\n",
              "      <th>100_TOP_tier</th>\n",
              "      <th>100_TOP_rank</th>\n",
              "      <th>100_TOP_lp</th>\n",
              "      <th>100_TOP_wins</th>\n",
              "      <th>100_TOP_losses</th>\n",
              "      <th>100_TOP_veteran</th>\n",
              "      <th>100_TOP_inactive</th>\n",
              "      <th>100_TOP_freshblood</th>\n",
              "      <th>100_TOP_hotstreak</th>\n",
              "      <th>100_TOP_role_total_played</th>\n",
              "      <th>100_TOP_role_wr</th>\n",
              "      <th>100_TOP_champ_games_played</th>\n",
              "      <th>100_TOP_champ_winrate</th>\n",
              "      <th>100_JUNGLE_avg_game_time</th>\n",
              "      <th>100_JUNGLE_positions_played</th>\n",
              "      <th>100_JUNGLE_avg_kda</th>\n",
              "      <th>100_JUNGLE_avg_kp</th>\n",
              "      <th>100_JUNGLE_avg_vision</th>\n",
              "      <th>100_JUNGLE_avg_cs</th>\n",
              "      <th>100_JUNGLE_goldpm</th>\n",
              "      <th>100_JUNGLE_dmgpm</th>\n",
              "      <th>100_JUNGLE_dmg_to_obj_pm</th>\n",
              "      <th>100_JUNGLE_wr</th>\n",
              "      <th>100_JUNGLE_tier</th>\n",
              "      <th>100_JUNGLE_rank</th>\n",
              "      <th>100_JUNGLE_lp</th>\n",
              "      <th>100_JUNGLE_wins</th>\n",
              "      <th>100_JUNGLE_losses</th>\n",
              "      <th>...</th>\n",
              "      <th>200_BOTTOM_goldpm</th>\n",
              "      <th>200_BOTTOM_dmgpm</th>\n",
              "      <th>200_BOTTOM_dmg_to_obj_pm</th>\n",
              "      <th>200_BOTTOM_wr</th>\n",
              "      <th>200_BOTTOM_tier</th>\n",
              "      <th>200_BOTTOM_rank</th>\n",
              "      <th>200_BOTTOM_lp</th>\n",
              "      <th>200_BOTTOM_wins</th>\n",
              "      <th>200_BOTTOM_losses</th>\n",
              "      <th>200_BOTTOM_veteran</th>\n",
              "      <th>200_BOTTOM_inactive</th>\n",
              "      <th>200_BOTTOM_freshblood</th>\n",
              "      <th>200_BOTTOM_hotstreak</th>\n",
              "      <th>200_BOTTOM_role_total_played</th>\n",
              "      <th>200_BOTTOM_role_wr</th>\n",
              "      <th>200_BOTTOM_champ_games_played</th>\n",
              "      <th>200_BOTTOM_champ_winrate</th>\n",
              "      <th>200_UTILITY_avg_game_time</th>\n",
              "      <th>200_UTILITY_positions_played</th>\n",
              "      <th>200_UTILITY_avg_kda</th>\n",
              "      <th>200_UTILITY_avg_kp</th>\n",
              "      <th>200_UTILITY_avg_vision</th>\n",
              "      <th>200_UTILITY_avg_cs</th>\n",
              "      <th>200_UTILITY_goldpm</th>\n",
              "      <th>200_UTILITY_dmgpm</th>\n",
              "      <th>200_UTILITY_dmg_to_obj_pm</th>\n",
              "      <th>200_UTILITY_wr</th>\n",
              "      <th>200_UTILITY_tier</th>\n",
              "      <th>200_UTILITY_rank</th>\n",
              "      <th>200_UTILITY_lp</th>\n",
              "      <th>200_UTILITY_wins</th>\n",
              "      <th>200_UTILITY_losses</th>\n",
              "      <th>200_UTILITY_veteran</th>\n",
              "      <th>200_UTILITY_inactive</th>\n",
              "      <th>200_UTILITY_freshblood</th>\n",
              "      <th>200_UTILITY_hotstreak</th>\n",
              "      <th>200_UTILITY_role_total_played</th>\n",
              "      <th>200_UTILITY_role_wr</th>\n",
              "      <th>200_UTILITY_champ_games_played</th>\n",
              "      <th>200_UTILITY_champ_winrate</th>\n",
              "    </tr>\n",
              "  </thead>\n",
              "  <tbody>\n",
              "    <tr>\n",
              "      <th>0</th>\n",
              "      <td>NA1_4144890019</td>\n",
              "      <td>200</td>\n",
              "      <td>23.271667</td>\n",
              "      <td>TOP TOP TOP TOP TOP TOP TOP BOTTOM TOP TOP</td>\n",
              "      <td>2.344102</td>\n",
              "      <td>0.421483</td>\n",
              "      <td>19.9</td>\n",
              "      <td>7.399556</td>\n",
              "      <td>450.255676</td>\n",
              "      <td>660.584402</td>\n",
              "      <td>430.506338</td>\n",
              "      <td>0.5</td>\n",
              "      <td>GRANDMASTER</td>\n",
              "      <td>I</td>\n",
              "      <td>765</td>\n",
              "      <td>98</td>\n",
              "      <td>82</td>\n",
              "      <td>False</td>\n",
              "      <td>False</td>\n",
              "      <td>False</td>\n",
              "      <td>False</td>\n",
              "      <td>168</td>\n",
              "      <td>0.553571</td>\n",
              "      <td>4</td>\n",
              "      <td>0.250000</td>\n",
              "      <td>23.598333</td>\n",
              "      <td>JUNGLE JUNGLE JUNGLE JUNGLE JUNGLE JUNGLE JUNG...</td>\n",
              "      <td>6.859524</td>\n",
              "      <td>0.531200</td>\n",
              "      <td>19.2</td>\n",
              "      <td>5.322410</td>\n",
              "      <td>434.695953</td>\n",
              "      <td>580.689314</td>\n",
              "      <td>773.656332</td>\n",
              "      <td>0.5</td>\n",
              "      <td>CHALLENGER</td>\n",
              "      <td>I</td>\n",
              "      <td>1223</td>\n",
              "      <td>151</td>\n",
              "      <td>91</td>\n",
              "      <td>...</td>\n",
              "      <td>444.018576</td>\n",
              "      <td>727.816718</td>\n",
              "      <td>317.008050</td>\n",
              "      <td>0.8</td>\n",
              "      <td>GRANDMASTER</td>\n",
              "      <td>I</td>\n",
              "      <td>852</td>\n",
              "      <td>397</td>\n",
              "      <td>356</td>\n",
              "      <td>True</td>\n",
              "      <td>False</td>\n",
              "      <td>False</td>\n",
              "      <td>False</td>\n",
              "      <td>202</td>\n",
              "      <td>0.539604</td>\n",
              "      <td>36</td>\n",
              "      <td>0.555556</td>\n",
              "      <td>25.183333</td>\n",
              "      <td>BOTTOM BOTTOM BOTTOM BOTTOM UTILITY JUNGLE JUN...</td>\n",
              "      <td>3.513095</td>\n",
              "      <td>0.414308</td>\n",
              "      <td>37.1</td>\n",
              "      <td>5.102581</td>\n",
              "      <td>374.791529</td>\n",
              "      <td>439.441429</td>\n",
              "      <td>364.530774</td>\n",
              "      <td>0.4</td>\n",
              "      <td>GRANDMASTER</td>\n",
              "      <td>I</td>\n",
              "      <td>825</td>\n",
              "      <td>419</td>\n",
              "      <td>389</td>\n",
              "      <td>False</td>\n",
              "      <td>False</td>\n",
              "      <td>False</td>\n",
              "      <td>False</td>\n",
              "      <td>616</td>\n",
              "      <td>0.524351</td>\n",
              "      <td>25</td>\n",
              "      <td>0.360000</td>\n",
              "    </tr>\n",
              "    <tr>\n",
              "      <th>1</th>\n",
              "      <td>NA1_4142559007</td>\n",
              "      <td>200</td>\n",
              "      <td>23.271667</td>\n",
              "      <td>TOP TOP TOP TOP TOP TOP TOP BOTTOM TOP TOP</td>\n",
              "      <td>2.344102</td>\n",
              "      <td>0.421483</td>\n",
              "      <td>19.9</td>\n",
              "      <td>7.399556</td>\n",
              "      <td>450.255676</td>\n",
              "      <td>660.584402</td>\n",
              "      <td>430.506338</td>\n",
              "      <td>0.5</td>\n",
              "      <td>GRANDMASTER</td>\n",
              "      <td>I</td>\n",
              "      <td>765</td>\n",
              "      <td>98</td>\n",
              "      <td>82</td>\n",
              "      <td>False</td>\n",
              "      <td>False</td>\n",
              "      <td>False</td>\n",
              "      <td>False</td>\n",
              "      <td>168</td>\n",
              "      <td>0.553571</td>\n",
              "      <td>22</td>\n",
              "      <td>0.500000</td>\n",
              "      <td>24.556667</td>\n",
              "      <td>JUNGLE JUNGLE JUNGLE JUNGLE JUNGLE JUNGLE JUNG...</td>\n",
              "      <td>5.588333</td>\n",
              "      <td>0.545225</td>\n",
              "      <td>20.6</td>\n",
              "      <td>7.452151</td>\n",
              "      <td>471.745622</td>\n",
              "      <td>768.023619</td>\n",
              "      <td>1009.444822</td>\n",
              "      <td>0.5</td>\n",
              "      <td>GRANDMASTER</td>\n",
              "      <td>I</td>\n",
              "      <td>493</td>\n",
              "      <td>148</td>\n",
              "      <td>112</td>\n",
              "      <td>...</td>\n",
              "      <td>482.375967</td>\n",
              "      <td>615.133624</td>\n",
              "      <td>140.509786</td>\n",
              "      <td>0.5</td>\n",
              "      <td>GRANDMASTER</td>\n",
              "      <td>I</td>\n",
              "      <td>495</td>\n",
              "      <td>424</td>\n",
              "      <td>380</td>\n",
              "      <td>True</td>\n",
              "      <td>False</td>\n",
              "      <td>False</td>\n",
              "      <td>False</td>\n",
              "      <td>35</td>\n",
              "      <td>0.714286</td>\n",
              "      <td>212</td>\n",
              "      <td>0.570755</td>\n",
              "      <td>28.300000</td>\n",
              "      <td>UTILITY UTILITY UTILITY UTILITY TOP JUNGLE UTI...</td>\n",
              "      <td>1.660960</td>\n",
              "      <td>0.506136</td>\n",
              "      <td>49.5</td>\n",
              "      <td>2.770318</td>\n",
              "      <td>326.858657</td>\n",
              "      <td>471.254417</td>\n",
              "      <td>135.872792</td>\n",
              "      <td>0.1</td>\n",
              "      <td>GRANDMASTER</td>\n",
              "      <td>I</td>\n",
              "      <td>651</td>\n",
              "      <td>592</td>\n",
              "      <td>507</td>\n",
              "      <td>False</td>\n",
              "      <td>False</td>\n",
              "      <td>False</td>\n",
              "      <td>False</td>\n",
              "      <td>941</td>\n",
              "      <td>0.547290</td>\n",
              "      <td>25</td>\n",
              "      <td>0.520000</td>\n",
              "    </tr>\n",
              "    <tr>\n",
              "      <th>2</th>\n",
              "      <td>NA1_4141413442</td>\n",
              "      <td>200</td>\n",
              "      <td>23.271667</td>\n",
              "      <td>TOP TOP TOP TOP TOP TOP TOP BOTTOM TOP TOP</td>\n",
              "      <td>2.344102</td>\n",
              "      <td>0.421483</td>\n",
              "      <td>19.9</td>\n",
              "      <td>7.399556</td>\n",
              "      <td>450.255676</td>\n",
              "      <td>660.584402</td>\n",
              "      <td>430.506338</td>\n",
              "      <td>0.5</td>\n",
              "      <td>GRANDMASTER</td>\n",
              "      <td>I</td>\n",
              "      <td>765</td>\n",
              "      <td>98</td>\n",
              "      <td>82</td>\n",
              "      <td>False</td>\n",
              "      <td>False</td>\n",
              "      <td>False</td>\n",
              "      <td>False</td>\n",
              "      <td>168</td>\n",
              "      <td>0.553571</td>\n",
              "      <td>4</td>\n",
              "      <td>0.250000</td>\n",
              "      <td>23.765000</td>\n",
              "      <td>JUNGLE JUNGLE JUNGLE TOP JUNGLE JUNGLE JUNGLE ...</td>\n",
              "      <td>3.637258</td>\n",
              "      <td>0.420519</td>\n",
              "      <td>20.1</td>\n",
              "      <td>7.317484</td>\n",
              "      <td>450.031559</td>\n",
              "      <td>643.980644</td>\n",
              "      <td>892.699348</td>\n",
              "      <td>0.4</td>\n",
              "      <td>GRANDMASTER</td>\n",
              "      <td>I</td>\n",
              "      <td>502</td>\n",
              "      <td>156</td>\n",
              "      <td>112</td>\n",
              "      <td>...</td>\n",
              "      <td>446.584003</td>\n",
              "      <td>666.117488</td>\n",
              "      <td>441.217850</td>\n",
              "      <td>0.4</td>\n",
              "      <td>GRANDMASTER</td>\n",
              "      <td>I</td>\n",
              "      <td>650</td>\n",
              "      <td>613</td>\n",
              "      <td>584</td>\n",
              "      <td>True</td>\n",
              "      <td>False</td>\n",
              "      <td>False</td>\n",
              "      <td>False</td>\n",
              "      <td>1024</td>\n",
              "      <td>0.515625</td>\n",
              "      <td>159</td>\n",
              "      <td>0.515723</td>\n",
              "      <td>27.480000</td>\n",
              "      <td>BOTTOM BOTTOM TOP BOTTOM BOTTOM BOTTOM BOTTOM ...</td>\n",
              "      <td>2.441634</td>\n",
              "      <td>0.507755</td>\n",
              "      <td>28.5</td>\n",
              "      <td>8.155022</td>\n",
              "      <td>502.503639</td>\n",
              "      <td>979.497817</td>\n",
              "      <td>501.419214</td>\n",
              "      <td>0.6</td>\n",
              "      <td>CHALLENGER</td>\n",
              "      <td>I</td>\n",
              "      <td>1387</td>\n",
              "      <td>417</td>\n",
              "      <td>349</td>\n",
              "      <td>True</td>\n",
              "      <td>False</td>\n",
              "      <td>False</td>\n",
              "      <td>False</td>\n",
              "      <td>28</td>\n",
              "      <td>0.500000</td>\n",
              "      <td>6</td>\n",
              "      <td>0.833333</td>\n",
              "    </tr>\n",
              "    <tr>\n",
              "      <th>3</th>\n",
              "      <td>NA1_4111370048</td>\n",
              "      <td>200</td>\n",
              "      <td>24.110000</td>\n",
              "      <td>MIDDLE TOP TOP TOP TOP TOP TOP TOP TOP TOP</td>\n",
              "      <td>1.912560</td>\n",
              "      <td>0.368992</td>\n",
              "      <td>16.5</td>\n",
              "      <td>6.744090</td>\n",
              "      <td>424.682704</td>\n",
              "      <td>688.888428</td>\n",
              "      <td>230.514309</td>\n",
              "      <td>0.4</td>\n",
              "      <td>CHALLENGER</td>\n",
              "      <td>I</td>\n",
              "      <td>1032</td>\n",
              "      <td>719</td>\n",
              "      <td>666</td>\n",
              "      <td>True</td>\n",
              "      <td>False</td>\n",
              "      <td>False</td>\n",
              "      <td>False</td>\n",
              "      <td>1130</td>\n",
              "      <td>0.535398</td>\n",
              "      <td>33</td>\n",
              "      <td>0.575758</td>\n",
              "      <td>26.801667</td>\n",
              "      <td>MIDDLE MIDDLE TOP MIDDLE JUNGLE MIDDLE MIDDLE ...</td>\n",
              "      <td>3.301111</td>\n",
              "      <td>0.386141</td>\n",
              "      <td>19.0</td>\n",
              "      <td>6.395125</td>\n",
              "      <td>418.854549</td>\n",
              "      <td>655.959207</td>\n",
              "      <td>285.068093</td>\n",
              "      <td>0.6</td>\n",
              "      <td>CHALLENGER</td>\n",
              "      <td>I</td>\n",
              "      <td>897</td>\n",
              "      <td>201</td>\n",
              "      <td>150</td>\n",
              "      <td>...</td>\n",
              "      <td>404.009017</td>\n",
              "      <td>649.487131</td>\n",
              "      <td>490.430209</td>\n",
              "      <td>0.7</td>\n",
              "      <td>GRANDMASTER</td>\n",
              "      <td>I</td>\n",
              "      <td>486</td>\n",
              "      <td>241</td>\n",
              "      <td>206</td>\n",
              "      <td>False</td>\n",
              "      <td>False</td>\n",
              "      <td>False</td>\n",
              "      <td>True</td>\n",
              "      <td>349</td>\n",
              "      <td>0.558739</td>\n",
              "      <td>57</td>\n",
              "      <td>0.649123</td>\n",
              "      <td>26.216667</td>\n",
              "      <td>MIDDLE MIDDLE MIDDLE BOTTOM BOTTOM MIDDLE UTIL...</td>\n",
              "      <td>2.934286</td>\n",
              "      <td>0.432309</td>\n",
              "      <td>24.0</td>\n",
              "      <td>5.851240</td>\n",
              "      <td>380.521297</td>\n",
              "      <td>708.835346</td>\n",
              "      <td>175.674507</td>\n",
              "      <td>0.5</td>\n",
              "      <td>CHALLENGER</td>\n",
              "      <td>I</td>\n",
              "      <td>1176</td>\n",
              "      <td>376</td>\n",
              "      <td>322</td>\n",
              "      <td>True</td>\n",
              "      <td>False</td>\n",
              "      <td>False</td>\n",
              "      <td>False</td>\n",
              "      <td>30</td>\n",
              "      <td>0.566667</td>\n",
              "      <td>69</td>\n",
              "      <td>0.652174</td>\n",
              "    </tr>\n",
              "    <tr>\n",
              "      <th>4</th>\n",
              "      <td>NA1_4152493334</td>\n",
              "      <td>100</td>\n",
              "      <td>24.806667</td>\n",
              "      <td>TOP TOP TOP TOP MIDDLE TOP TOP TOP MIDDLE TOP</td>\n",
              "      <td>3.170368</td>\n",
              "      <td>0.357680</td>\n",
              "      <td>18.0</td>\n",
              "      <td>6.643375</td>\n",
              "      <td>404.560602</td>\n",
              "      <td>473.586402</td>\n",
              "      <td>530.377587</td>\n",
              "      <td>0.5</td>\n",
              "      <td>GRANDMASTER</td>\n",
              "      <td>I</td>\n",
              "      <td>694</td>\n",
              "      <td>227</td>\n",
              "      <td>196</td>\n",
              "      <td>False</td>\n",
              "      <td>False</td>\n",
              "      <td>False</td>\n",
              "      <td>False</td>\n",
              "      <td>380</td>\n",
              "      <td>0.555263</td>\n",
              "      <td>341</td>\n",
              "      <td>0.574780</td>\n",
              "      <td>23.598333</td>\n",
              "      <td>JUNGLE JUNGLE JUNGLE JUNGLE JUNGLE JUNGLE JUNG...</td>\n",
              "      <td>6.859524</td>\n",
              "      <td>0.531200</td>\n",
              "      <td>19.2</td>\n",
              "      <td>5.322410</td>\n",
              "      <td>434.695953</td>\n",
              "      <td>580.689314</td>\n",
              "      <td>773.656332</td>\n",
              "      <td>0.5</td>\n",
              "      <td>CHALLENGER</td>\n",
              "      <td>I</td>\n",
              "      <td>1223</td>\n",
              "      <td>151</td>\n",
              "      <td>91</td>\n",
              "      <td>...</td>\n",
              "      <td>407.199145</td>\n",
              "      <td>442.554979</td>\n",
              "      <td>388.946243</td>\n",
              "      <td>0.4</td>\n",
              "      <td>GRANDMASTER</td>\n",
              "      <td>I</td>\n",
              "      <td>578</td>\n",
              "      <td>1113</td>\n",
              "      <td>1111</td>\n",
              "      <td>True</td>\n",
              "      <td>False</td>\n",
              "      <td>False</td>\n",
              "      <td>False</td>\n",
              "      <td>1693</td>\n",
              "      <td>0.509155</td>\n",
              "      <td>80</td>\n",
              "      <td>0.525000</td>\n",
              "      <td>27.711667</td>\n",
              "      <td>UTILITY UTILITY UTILITY UTILITY UTILITY UTILIT...</td>\n",
              "      <td>4.636190</td>\n",
              "      <td>0.532291</td>\n",
              "      <td>50.9</td>\n",
              "      <td>1.418175</td>\n",
              "      <td>289.282492</td>\n",
              "      <td>261.333975</td>\n",
              "      <td>72.215072</td>\n",
              "      <td>0.3</td>\n",
              "      <td>CHALLENGER</td>\n",
              "      <td>I</td>\n",
              "      <td>1096</td>\n",
              "      <td>533</td>\n",
              "      <td>453</td>\n",
              "      <td>True</td>\n",
              "      <td>False</td>\n",
              "      <td>False</td>\n",
              "      <td>False</td>\n",
              "      <td>979</td>\n",
              "      <td>0.539326</td>\n",
              "      <td>733</td>\n",
              "      <td>0.567531</td>\n",
              "    </tr>\n",
              "  </tbody>\n",
              "</table>\n",
              "<p>5 rows × 232 columns</p>\n",
              "</div>\n",
              "      <button class=\"colab-df-convert\" onclick=\"convertToInteractive('df-768f651f-0cfd-4e90-a11c-8a5fd971f710')\"\n",
              "              title=\"Convert this dataframe to an interactive table.\"\n",
              "              style=\"display:none;\">\n",
              "        \n",
              "  <svg xmlns=\"http://www.w3.org/2000/svg\" height=\"24px\"viewBox=\"0 0 24 24\"\n",
              "       width=\"24px\">\n",
              "    <path d=\"M0 0h24v24H0V0z\" fill=\"none\"/>\n",
              "    <path d=\"M18.56 5.44l.94 2.06.94-2.06 2.06-.94-2.06-.94-.94-2.06-.94 2.06-2.06.94zm-11 1L8.5 8.5l.94-2.06 2.06-.94-2.06-.94L8.5 2.5l-.94 2.06-2.06.94zm10 10l.94 2.06.94-2.06 2.06-.94-2.06-.94-.94-2.06-.94 2.06-2.06.94z\"/><path d=\"M17.41 7.96l-1.37-1.37c-.4-.4-.92-.59-1.43-.59-.52 0-1.04.2-1.43.59L10.3 9.45l-7.72 7.72c-.78.78-.78 2.05 0 2.83L4 21.41c.39.39.9.59 1.41.59.51 0 1.02-.2 1.41-.59l7.78-7.78 2.81-2.81c.8-.78.8-2.07 0-2.86zM5.41 20L4 18.59l7.72-7.72 1.47 1.35L5.41 20z\"/>\n",
              "  </svg>\n",
              "      </button>\n",
              "      \n",
              "  <style>\n",
              "    .colab-df-container {\n",
              "      display:flex;\n",
              "      flex-wrap:wrap;\n",
              "      gap: 12px;\n",
              "    }\n",
              "\n",
              "    .colab-df-convert {\n",
              "      background-color: #E8F0FE;\n",
              "      border: none;\n",
              "      border-radius: 50%;\n",
              "      cursor: pointer;\n",
              "      display: none;\n",
              "      fill: #1967D2;\n",
              "      height: 32px;\n",
              "      padding: 0 0 0 0;\n",
              "      width: 32px;\n",
              "    }\n",
              "\n",
              "    .colab-df-convert:hover {\n",
              "      background-color: #E2EBFA;\n",
              "      box-shadow: 0px 1px 2px rgba(60, 64, 67, 0.3), 0px 1px 3px 1px rgba(60, 64, 67, 0.15);\n",
              "      fill: #174EA6;\n",
              "    }\n",
              "\n",
              "    [theme=dark] .colab-df-convert {\n",
              "      background-color: #3B4455;\n",
              "      fill: #D2E3FC;\n",
              "    }\n",
              "\n",
              "    [theme=dark] .colab-df-convert:hover {\n",
              "      background-color: #434B5C;\n",
              "      box-shadow: 0px 1px 3px 1px rgba(0, 0, 0, 0.15);\n",
              "      filter: drop-shadow(0px 1px 2px rgba(0, 0, 0, 0.3));\n",
              "      fill: #FFFFFF;\n",
              "    }\n",
              "  </style>\n",
              "\n",
              "      <script>\n",
              "        const buttonEl =\n",
              "          document.querySelector('#df-768f651f-0cfd-4e90-a11c-8a5fd971f710 button.colab-df-convert');\n",
              "        buttonEl.style.display =\n",
              "          google.colab.kernel.accessAllowed ? 'block' : 'none';\n",
              "\n",
              "        async function convertToInteractive(key) {\n",
              "          const element = document.querySelector('#df-768f651f-0cfd-4e90-a11c-8a5fd971f710');\n",
              "          const dataTable =\n",
              "            await google.colab.kernel.invokeFunction('convertToInteractive',\n",
              "                                                     [key], {});\n",
              "          if (!dataTable) return;\n",
              "\n",
              "          const docLinkHtml = 'Like what you see? Visit the ' +\n",
              "            '<a target=\"_blank\" href=https://colab.research.google.com/notebooks/data_table.ipynb>data table notebook</a>'\n",
              "            + ' to learn more about interactive tables.';\n",
              "          element.innerHTML = '';\n",
              "          dataTable['output_type'] = 'display_data';\n",
              "          await google.colab.output.renderOutput(dataTable, element);\n",
              "          const docLink = document.createElement('div');\n",
              "          docLink.innerHTML = docLinkHtml;\n",
              "          element.appendChild(docLink);\n",
              "        }\n",
              "      </script>\n",
              "    </div>\n",
              "  </div>\n",
              "  "
            ],
            "text/plain": [
              "           gameid  ...  200_UTILITY_champ_winrate\n",
              "0  NA1_4144890019  ...                   0.360000\n",
              "1  NA1_4142559007  ...                   0.520000\n",
              "2  NA1_4141413442  ...                   0.833333\n",
              "3  NA1_4111370048  ...                   0.652174\n",
              "4  NA1_4152493334  ...                   0.567531\n",
              "\n",
              "[5 rows x 232 columns]"
            ]
          },
          "metadata": {},
          "execution_count": 7
        }
      ]
    },
    {
      "cell_type": "code",
      "source": [
        "df.columns"
      ],
      "metadata": {
        "colab": {
          "base_uri": "https://localhost:8080/"
        },
        "id": "jglKeWbB2xev",
        "outputId": "d2013b99-5742-4c99-f265-a6093281482d"
      },
      "execution_count": 8,
      "outputs": [
        {
          "output_type": "execute_result",
          "data": {
            "text/plain": [
              "Index(['gameid', 'winning_team', '100_TOP_avg_game_time',\n",
              "       '100_TOP_positions_played', '100_TOP_avg_kda', '100_TOP_avg_kp',\n",
              "       '100_TOP_avg_vision', '100_TOP_avg_cs', '100_TOP_goldpm',\n",
              "       '100_TOP_dmgpm',\n",
              "       ...\n",
              "       '200_UTILITY_wins', '200_UTILITY_losses', '200_UTILITY_veteran',\n",
              "       '200_UTILITY_inactive', '200_UTILITY_freshblood',\n",
              "       '200_UTILITY_hotstreak', '200_UTILITY_role_total_played',\n",
              "       '200_UTILITY_role_wr', '200_UTILITY_champ_games_played',\n",
              "       '200_UTILITY_champ_winrate'],\n",
              "      dtype='object', length=232)"
            ]
          },
          "metadata": {},
          "execution_count": 8
        }
      ]
    },
    {
      "cell_type": "markdown",
      "source": [
        "## NA Values\n",
        "\n",
        "Lots of champ winrates are missing from the table. This likely occurs when a player hasn't played their current character at all before(meaning they were likely filled into their role).\n",
        "\n",
        "I think it's reasonable to fill the NA values with either the mean of all the winrate values, or simply 0.5(because that's the theoretical probability of winning any game of League of Legends).\n",
        "\n",
        "I opted to fill the NA values with the mean."
      ],
      "metadata": {
        "id": "w_9yg8wRhBmo"
      }
    },
    {
      "cell_type": "code",
      "source": [
        "a = df.isnull().sum(axis=0)\n",
        "\n",
        "na_count = total = a.sort_values(ascending=False)\n",
        "\n",
        "na_percent = (df.isnull().sum()/df.isnull().count()).sort_values(ascending=False)\n",
        "\n",
        "missing_data = pd.concat([na_count, na_percent], axis=1, keys=[\"Total\", \"Percent\"])\n",
        "\n",
        "missing_data.head(20)"
      ],
      "metadata": {
        "colab": {
          "base_uri": "https://localhost:8080/",
          "height": 677
        },
        "id": "db_4mLKphEY3",
        "outputId": "f855ffa9-0ae0-44e0-b8ab-bbc3c9dee9be"
      },
      "execution_count": 9,
      "outputs": [
        {
          "output_type": "execute_result",
          "data": {
            "text/html": [
              "\n",
              "  <div id=\"df-29cbfde0-c2bb-438e-9a2b-92a43252b17f\">\n",
              "    <div class=\"colab-df-container\">\n",
              "      <div>\n",
              "<style scoped>\n",
              "    .dataframe tbody tr th:only-of-type {\n",
              "        vertical-align: middle;\n",
              "    }\n",
              "\n",
              "    .dataframe tbody tr th {\n",
              "        vertical-align: top;\n",
              "    }\n",
              "\n",
              "    .dataframe thead th {\n",
              "        text-align: right;\n",
              "    }\n",
              "</style>\n",
              "<table border=\"1\" class=\"dataframe\">\n",
              "  <thead>\n",
              "    <tr style=\"text-align: right;\">\n",
              "      <th></th>\n",
              "      <th>Total</th>\n",
              "      <th>Percent</th>\n",
              "    </tr>\n",
              "  </thead>\n",
              "  <tbody>\n",
              "    <tr>\n",
              "      <th>200_BOTTOM_champ_winrate</th>\n",
              "      <td>154</td>\n",
              "      <td>0.1232</td>\n",
              "    </tr>\n",
              "    <tr>\n",
              "      <th>100_BOTTOM_champ_winrate</th>\n",
              "      <td>149</td>\n",
              "      <td>0.1192</td>\n",
              "    </tr>\n",
              "    <tr>\n",
              "      <th>200_JUNGLE_champ_winrate</th>\n",
              "      <td>86</td>\n",
              "      <td>0.0688</td>\n",
              "    </tr>\n",
              "    <tr>\n",
              "      <th>100_JUNGLE_champ_winrate</th>\n",
              "      <td>80</td>\n",
              "      <td>0.0640</td>\n",
              "    </tr>\n",
              "    <tr>\n",
              "      <th>100_TOP_champ_winrate</th>\n",
              "      <td>47</td>\n",
              "      <td>0.0376</td>\n",
              "    </tr>\n",
              "    <tr>\n",
              "      <th>200_TOP_champ_winrate</th>\n",
              "      <td>39</td>\n",
              "      <td>0.0312</td>\n",
              "    </tr>\n",
              "    <tr>\n",
              "      <th>200_MIDDLE_champ_winrate</th>\n",
              "      <td>18</td>\n",
              "      <td>0.0144</td>\n",
              "    </tr>\n",
              "    <tr>\n",
              "      <th>100_MIDDLE_champ_winrate</th>\n",
              "      <td>11</td>\n",
              "      <td>0.0088</td>\n",
              "    </tr>\n",
              "    <tr>\n",
              "      <th>200_UTILITY_champ_winrate</th>\n",
              "      <td>7</td>\n",
              "      <td>0.0056</td>\n",
              "    </tr>\n",
              "    <tr>\n",
              "      <th>100_UTILITY_champ_winrate</th>\n",
              "      <td>4</td>\n",
              "      <td>0.0032</td>\n",
              "    </tr>\n",
              "    <tr>\n",
              "      <th>200_MIDDLE_role_total_played</th>\n",
              "      <td>1</td>\n",
              "      <td>0.0008</td>\n",
              "    </tr>\n",
              "    <tr>\n",
              "      <th>200_MIDDLE_role_wr</th>\n",
              "      <td>1</td>\n",
              "      <td>0.0008</td>\n",
              "    </tr>\n",
              "    <tr>\n",
              "      <th>100_BOTTOM_avg_cs</th>\n",
              "      <td>0</td>\n",
              "      <td>0.0000</td>\n",
              "    </tr>\n",
              "    <tr>\n",
              "      <th>100_BOTTOM_positions_played</th>\n",
              "      <td>0</td>\n",
              "      <td>0.0000</td>\n",
              "    </tr>\n",
              "    <tr>\n",
              "      <th>100_BOTTOM_goldpm</th>\n",
              "      <td>0</td>\n",
              "      <td>0.0000</td>\n",
              "    </tr>\n",
              "    <tr>\n",
              "      <th>100_BOTTOM_avg_kp</th>\n",
              "      <td>0</td>\n",
              "      <td>0.0000</td>\n",
              "    </tr>\n",
              "    <tr>\n",
              "      <th>100_BOTTOM_avg_kda</th>\n",
              "      <td>0</td>\n",
              "      <td>0.0000</td>\n",
              "    </tr>\n",
              "    <tr>\n",
              "      <th>100_BOTTOM_dmgpm</th>\n",
              "      <td>0</td>\n",
              "      <td>0.0000</td>\n",
              "    </tr>\n",
              "    <tr>\n",
              "      <th>100_BOTTOM_dmg_to_obj_pm</th>\n",
              "      <td>0</td>\n",
              "      <td>0.0000</td>\n",
              "    </tr>\n",
              "    <tr>\n",
              "      <th>100_BOTTOM_avg_vision</th>\n",
              "      <td>0</td>\n",
              "      <td>0.0000</td>\n",
              "    </tr>\n",
              "  </tbody>\n",
              "</table>\n",
              "</div>\n",
              "      <button class=\"colab-df-convert\" onclick=\"convertToInteractive('df-29cbfde0-c2bb-438e-9a2b-92a43252b17f')\"\n",
              "              title=\"Convert this dataframe to an interactive table.\"\n",
              "              style=\"display:none;\">\n",
              "        \n",
              "  <svg xmlns=\"http://www.w3.org/2000/svg\" height=\"24px\"viewBox=\"0 0 24 24\"\n",
              "       width=\"24px\">\n",
              "    <path d=\"M0 0h24v24H0V0z\" fill=\"none\"/>\n",
              "    <path d=\"M18.56 5.44l.94 2.06.94-2.06 2.06-.94-2.06-.94-.94-2.06-.94 2.06-2.06.94zm-11 1L8.5 8.5l.94-2.06 2.06-.94-2.06-.94L8.5 2.5l-.94 2.06-2.06.94zm10 10l.94 2.06.94-2.06 2.06-.94-2.06-.94-.94-2.06-.94 2.06-2.06.94z\"/><path d=\"M17.41 7.96l-1.37-1.37c-.4-.4-.92-.59-1.43-.59-.52 0-1.04.2-1.43.59L10.3 9.45l-7.72 7.72c-.78.78-.78 2.05 0 2.83L4 21.41c.39.39.9.59 1.41.59.51 0 1.02-.2 1.41-.59l7.78-7.78 2.81-2.81c.8-.78.8-2.07 0-2.86zM5.41 20L4 18.59l7.72-7.72 1.47 1.35L5.41 20z\"/>\n",
              "  </svg>\n",
              "      </button>\n",
              "      \n",
              "  <style>\n",
              "    .colab-df-container {\n",
              "      display:flex;\n",
              "      flex-wrap:wrap;\n",
              "      gap: 12px;\n",
              "    }\n",
              "\n",
              "    .colab-df-convert {\n",
              "      background-color: #E8F0FE;\n",
              "      border: none;\n",
              "      border-radius: 50%;\n",
              "      cursor: pointer;\n",
              "      display: none;\n",
              "      fill: #1967D2;\n",
              "      height: 32px;\n",
              "      padding: 0 0 0 0;\n",
              "      width: 32px;\n",
              "    }\n",
              "\n",
              "    .colab-df-convert:hover {\n",
              "      background-color: #E2EBFA;\n",
              "      box-shadow: 0px 1px 2px rgba(60, 64, 67, 0.3), 0px 1px 3px 1px rgba(60, 64, 67, 0.15);\n",
              "      fill: #174EA6;\n",
              "    }\n",
              "\n",
              "    [theme=dark] .colab-df-convert {\n",
              "      background-color: #3B4455;\n",
              "      fill: #D2E3FC;\n",
              "    }\n",
              "\n",
              "    [theme=dark] .colab-df-convert:hover {\n",
              "      background-color: #434B5C;\n",
              "      box-shadow: 0px 1px 3px 1px rgba(0, 0, 0, 0.15);\n",
              "      filter: drop-shadow(0px 1px 2px rgba(0, 0, 0, 0.3));\n",
              "      fill: #FFFFFF;\n",
              "    }\n",
              "  </style>\n",
              "\n",
              "      <script>\n",
              "        const buttonEl =\n",
              "          document.querySelector('#df-29cbfde0-c2bb-438e-9a2b-92a43252b17f button.colab-df-convert');\n",
              "        buttonEl.style.display =\n",
              "          google.colab.kernel.accessAllowed ? 'block' : 'none';\n",
              "\n",
              "        async function convertToInteractive(key) {\n",
              "          const element = document.querySelector('#df-29cbfde0-c2bb-438e-9a2b-92a43252b17f');\n",
              "          const dataTable =\n",
              "            await google.colab.kernel.invokeFunction('convertToInteractive',\n",
              "                                                     [key], {});\n",
              "          if (!dataTable) return;\n",
              "\n",
              "          const docLinkHtml = 'Like what you see? Visit the ' +\n",
              "            '<a target=\"_blank\" href=https://colab.research.google.com/notebooks/data_table.ipynb>data table notebook</a>'\n",
              "            + ' to learn more about interactive tables.';\n",
              "          element.innerHTML = '';\n",
              "          dataTable['output_type'] = 'display_data';\n",
              "          await google.colab.output.renderOutput(dataTable, element);\n",
              "          const docLink = document.createElement('div');\n",
              "          docLink.innerHTML = docLinkHtml;\n",
              "          element.appendChild(docLink);\n",
              "        }\n",
              "      </script>\n",
              "    </div>\n",
              "  </div>\n",
              "  "
            ],
            "text/plain": [
              "                              Total  Percent\n",
              "200_BOTTOM_champ_winrate        154   0.1232\n",
              "100_BOTTOM_champ_winrate        149   0.1192\n",
              "200_JUNGLE_champ_winrate         86   0.0688\n",
              "100_JUNGLE_champ_winrate         80   0.0640\n",
              "100_TOP_champ_winrate            47   0.0376\n",
              "200_TOP_champ_winrate            39   0.0312\n",
              "200_MIDDLE_champ_winrate         18   0.0144\n",
              "100_MIDDLE_champ_winrate         11   0.0088\n",
              "200_UTILITY_champ_winrate         7   0.0056\n",
              "100_UTILITY_champ_winrate         4   0.0032\n",
              "200_MIDDLE_role_total_played      1   0.0008\n",
              "200_MIDDLE_role_wr                1   0.0008\n",
              "100_BOTTOM_avg_cs                 0   0.0000\n",
              "100_BOTTOM_positions_played       0   0.0000\n",
              "100_BOTTOM_goldpm                 0   0.0000\n",
              "100_BOTTOM_avg_kp                 0   0.0000\n",
              "100_BOTTOM_avg_kda                0   0.0000\n",
              "100_BOTTOM_dmgpm                  0   0.0000\n",
              "100_BOTTOM_dmg_to_obj_pm          0   0.0000\n",
              "100_BOTTOM_avg_vision             0   0.0000"
            ]
          },
          "metadata": {},
          "execution_count": 9
        }
      ]
    },
    {
      "cell_type": "code",
      "source": [
        "df[missing_data.index].mean().head(20)"
      ],
      "metadata": {
        "colab": {
          "base_uri": "https://localhost:8080/"
        },
        "id": "XubUYIaEhtqN",
        "outputId": "5f91ac62-378d-494e-c7fc-f1e5946140e6"
      },
      "execution_count": 10,
      "outputs": [
        {
          "output_type": "execute_result",
          "data": {
            "text/plain": [
              "200_BOTTOM_champ_winrate           0.535309\n",
              "100_BOTTOM_champ_winrate           0.543992\n",
              "200_JUNGLE_champ_winrate           0.539161\n",
              "100_JUNGLE_champ_winrate           0.546143\n",
              "100_TOP_champ_winrate              0.550151\n",
              "200_TOP_champ_winrate              0.537295\n",
              "200_MIDDLE_champ_winrate           0.538542\n",
              "100_MIDDLE_champ_winrate           0.540741\n",
              "200_UTILITY_champ_winrate          0.529577\n",
              "100_UTILITY_champ_winrate          0.546381\n",
              "200_MIDDLE_role_total_played     411.044836\n",
              "200_MIDDLE_role_wr                 0.531473\n",
              "100_BOTTOM_avg_cs                  6.424231\n",
              "100_BOTTOM_goldpm                426.277087\n",
              "100_BOTTOM_avg_kp                  0.464632\n",
              "100_BOTTOM_avg_kda                 3.405743\n",
              "100_BOTTOM_dmgpm                 674.561730\n",
              "100_BOTTOM_dmg_to_obj_pm         367.243819\n",
              "100_BOTTOM_avg_vision             21.887356\n",
              "100_MIDDLE_champ_games_played    186.977600\n",
              "dtype: float64"
            ]
          },
          "metadata": {},
          "execution_count": 10
        }
      ]
    },
    {
      "cell_type": "code",
      "source": [
        "df[\"winning_team\"] = df[\"winning_team\"].apply(lambda x : int(str(x) == \"100\"))"
      ],
      "metadata": {
        "id": "Ztfr02ULk9nx"
      },
      "execution_count": 11,
      "outputs": []
    },
    {
      "cell_type": "code",
      "source": [
        "df.rename(columns={\"winning_team\": \"100_win\"}, inplace=True)"
      ],
      "metadata": {
        "id": "dfPNUsk1l2k6"
      },
      "execution_count": 12,
      "outputs": []
    },
    {
      "cell_type": "markdown",
      "source": [
        "I kind of want to just fill na with average values and see what happens, because in other papers, champ winrates were shown to be really important."
      ],
      "metadata": {
        "id": "e7W9l8ewidCD"
      }
    },
    {
      "cell_type": "code",
      "source": [
        "df.fillna(df.mean(), inplace=True)\n",
        "\n",
        "df.isnull().sum(axis=0).sort_values(ascending=False)\n",
        "# ok good"
      ],
      "metadata": {
        "colab": {
          "base_uri": "https://localhost:8080/"
        },
        "id": "FiVfzoerirxx",
        "outputId": "aad4014c-2153-4f56-fb2c-d038d1e6f5d1"
      },
      "execution_count": 13,
      "outputs": [
        {
          "output_type": "execute_result",
          "data": {
            "text/plain": [
              "200_UTILITY_champ_winrate      0\n",
              "100_BOTTOM_positions_played    0\n",
              "100_BOTTOM_wins                0\n",
              "100_BOTTOM_lp                  0\n",
              "100_BOTTOM_rank                0\n",
              "                              ..\n",
              "200_JUNGLE_tier                0\n",
              "200_JUNGLE_wr                  0\n",
              "200_JUNGLE_dmg_to_obj_pm       0\n",
              "200_JUNGLE_dmgpm               0\n",
              "gameid                         0\n",
              "Length: 232, dtype: int64"
            ]
          },
          "metadata": {},
          "execution_count": 13
        }
      ]
    },
    {
      "cell_type": "markdown",
      "source": [
        "##Let's create training and testing datasets\n",
        "\n",
        "(this is gonna vary every time because it randomly assigns training and testing)"
      ],
      "metadata": {
        "id": "eqqHvKs63N1G"
      }
    },
    {
      "cell_type": "code",
      "source": [
        "msk = np.random.rand(len(df)) < 0.8"
      ],
      "metadata": {
        "id": "aYpP1rqp25OM"
      },
      "execution_count": 14,
      "outputs": []
    },
    {
      "cell_type": "code",
      "source": [
        "# StackOverflow informed me that this would work...\n",
        "train = df[msk]\n",
        "test = df[~msk]"
      ],
      "metadata": {
        "id": "MSqeOapE3ftP"
      },
      "execution_count": 15,
      "outputs": []
    },
    {
      "cell_type": "code",
      "source": [
        "print(len(test), len(train))"
      ],
      "metadata": {
        "colab": {
          "base_uri": "https://localhost:8080/"
        },
        "id": "3fctVfrJ3mN5",
        "outputId": "f736defe-9db0-429e-cfca-54543543c4e8"
      },
      "execution_count": 16,
      "outputs": [
        {
          "output_type": "stream",
          "name": "stdout",
          "text": [
            "257 993\n"
          ]
        }
      ]
    },
    {
      "cell_type": "markdown",
      "source": [
        "## Now let's do some basic exploration of the data\n",
        "\n",
        "Here, I started looking at variables and quickly realized that I don't actually have much training in this area, and all I can do is say \"oh this graph looks like a normal distribution\" and do absolutely nothing about it.\n",
        "\n",
        "I just looked at a few graphs, made sure that I had a similar number of wins from each team(because I don't want the game results to be skewed) and called it a day."
      ],
      "metadata": {
        "id": "72NV8vrC3rnw"
      }
    },
    {
      "cell_type": "code",
      "source": [
        "print(train[\"100_BOTTOM_goldpm\"].describe(), \"\\n\")\n",
        "print(train[\"200_BOTTOM_goldpm\"].describe())"
      ],
      "metadata": {
        "colab": {
          "base_uri": "https://localhost:8080/"
        },
        "id": "9uduRsHk3q-Z",
        "outputId": "228296ec-d1f7-49a3-cbd7-8c7929cef157"
      },
      "execution_count": 17,
      "outputs": [
        {
          "output_type": "stream",
          "name": "stdout",
          "text": [
            "count    993.000000\n",
            "mean     426.678019\n",
            "std       59.647935\n",
            "min        0.497829\n",
            "25%      405.051453\n",
            "50%      430.943254\n",
            "75%      458.680776\n",
            "max      603.741722\n",
            "Name: 100_BOTTOM_goldpm, dtype: float64 \n",
            "\n",
            "count    993.000000\n",
            "mean     424.045047\n",
            "std       64.240946\n",
            "min        0.505774\n",
            "25%      399.427810\n",
            "50%      428.611144\n",
            "75%      458.941696\n",
            "max      612.021226\n",
            "Name: 200_BOTTOM_goldpm, dtype: float64\n"
          ]
        }
      ]
    },
    {
      "cell_type": "code",
      "source": [
        "sns.displot(train[\"100_BOTTOM_goldpm\"], bins=30)\n",
        "# negatively(left) skewed a bit, unimodal, deviates from the normal distribution"
      ],
      "metadata": {
        "colab": {
          "base_uri": "https://localhost:8080/",
          "height": 386
        },
        "id": "05XBgZON4BNw",
        "outputId": "4f9b6d79-6e88-43f3-98a3-bcb3d863eec4"
      },
      "execution_count": 18,
      "outputs": [
        {
          "output_type": "execute_result",
          "data": {
            "text/plain": [
              "<seaborn.axisgrid.FacetGrid at 0x7f0bfaf976d0>"
            ]
          },
          "metadata": {},
          "execution_count": 18
        },
        {
          "output_type": "display_data",
          "data": {
            "image/png": "[encoded data removed]",
            "text/plain": [
              "<Figure size 360x360 with 1 Axes>"
            ]
          },
          "metadata": {
            "needs_background": "light"
          }
        }
      ]
    },
    {
      "cell_type": "code",
      "source": [
        "print(\"Skewness: %f\" % train['100_BOTTOM_goldpm'].skew())\n",
        "print(\"Kurtosis: %f\" % train['100_BOTTOM_goldpm'].kurt())\n",
        "# kurtosis is basically a measure of whether the data follows a normal distribution\n",
        "# especially with respect to tails\n",
        "# high kurtosis --> heavy tails, more outliers"
      ],
      "metadata": {
        "colab": {
          "base_uri": "https://localhost:8080/"
        },
        "id": "v5rb2Dax50FN",
        "outputId": "d4a07659-a2fc-43ec-ad66-ff4a3a0e5023"
      },
      "execution_count": 19,
      "outputs": [
        {
          "output_type": "stream",
          "name": "stdout",
          "text": [
            "Skewness: -3.310795\n",
            "Kurtosis: 21.650972\n"
          ]
        }
      ]
    },
    {
      "cell_type": "code",
      "source": [
        "train[\"100_win\"].value_counts()"
      ],
      "metadata": {
        "colab": {
          "base_uri": "https://localhost:8080/"
        },
        "id": "PDTcJQt96gM-",
        "outputId": "e8a1b650-8640-46d2-f413-3cacbfd88998"
      },
      "execution_count": 20,
      "outputs": [
        {
          "output_type": "execute_result",
          "data": {
            "text/plain": [
              "1    537\n",
              "0    456\n",
              "Name: 100_win, dtype: int64"
            ]
          },
          "metadata": {},
          "execution_count": 20
        }
      ]
    },
    {
      "cell_type": "markdown",
      "source": [
        "## Some more(useless) data analysis\n",
        "\n",
        "Did not result in any findings. Skip if you desire.\n",
        "\n",
        "I got a tip from Twitter that personal champ winrates(the player's winrate on the character they are currently playing in the match) was important to look at.\n",
        "\n",
        "Here, basically I realized that looking at graphs wouldn't do me any good, so I should look at metrics instead."
      ],
      "metadata": {
        "id": "BA-WlHzl7_HT"
      }
    },
    {
      "cell_type": "code",
      "source": [
        "win_100 = train[train[\"100_win\"] == 1]\n",
        "win_200 = train[train[\"100_win\"] == 0]"
      ],
      "metadata": {
        "id": "m7rYNt_w8BtL"
      },
      "execution_count": 21,
      "outputs": []
    },
    {
      "cell_type": "code",
      "source": [
        "ax1 = sns.histplot(win_100['100_JUNGLE_champ_winrate'], bins=100, alpha=0.5, label=\"100_win\")\n",
        "ax1.title.set_text(\"100 bot champ winrate when team 100 wins\")\n",
        "ax1.set_xlim([0, 1])\n",
        "plt.figure()\n",
        "ax2 = sns.histplot(win_200['100_JUNGLE_champ_winrate'], bins=100, alpha=0.5, label=\"200_win\")\n",
        "ax2.title.set_text(\"100 bot champ winrate when team 200 wins\")\n",
        "ax2.set_xlim([0, 1])"
      ],
      "metadata": {
        "colab": {
          "base_uri": "https://localhost:8080/",
          "height": 592
        },
        "id": "aFLYP0IV8wtp",
        "outputId": "0a571b42-cd6a-4016-ce49-74621d71e995"
      },
      "execution_count": 22,
      "outputs": [
        {
          "output_type": "execute_result",
          "data": {
            "text/plain": [
              "(0.0, 1.0)"
            ]
          },
          "metadata": {},
          "execution_count": 22
        },
        {
          "output_type": "display_data",
          "data": {
            "image/png": "[encoded data removed]",
            "text/plain": [
              "<Figure size 432x288 with 1 Axes>"
            ]
          },
          "metadata": {
            "needs_background": "light"
          }
        },
        {
          "output_type": "display_data",
          "data": {
            "image/png": "[encoded data removed]",
            "text/plain": [
              "<Figure size 432x288 with 1 Axes>"
            ]
          },
          "metadata": {
            "needs_background": "light"
          }
        }
      ]
    },
    {
      "cell_type": "markdown",
      "source": [
        "## Further investigation of champ, role winrates\n",
        "\n",
        "So here, we took the ____ winrate of each player on team 100, and measured the average champ winrate when team 100 wins, and when team 200 wins.\n",
        "\n",
        "Turns out that on average, the players on the winning team average 60% winrate on their individual champion, versus 50% winrate on their individual champion when they lose.\n",
        "\n",
        "The role winrate for players are slightly higher on the winning team, compared to the losing team."
      ],
      "metadata": {
        "id": "NDo9f-a_A47B"
      }
    },
    {
      "cell_type": "code",
      "source": [
        "for role in [\"JUNGLE\", \"BOTTOM\", \"MIDDLE\", \"TOP\", \"UTILITY\"]:\n",
        "  print(role)\n",
        "  print(\"100:\", win_100[f'100_{role}_champ_winrate'].mean(), \"\\n200:\", win_200[f'100_{role}_champ_winrate'].mean())"
      ],
      "metadata": {
        "colab": {
          "base_uri": "https://localhost:8080/"
        },
        "id": "4cdB59uc-8Fx",
        "outputId": "d49cdb0d-1746-4608-d5f1-7c9033a311c8"
      },
      "execution_count": 23,
      "outputs": [
        {
          "output_type": "stream",
          "name": "stdout",
          "text": [
            "JUNGLE\n",
            "100: 0.5903502184650365 \n",
            "200: 0.4951663212496821\n",
            "BOTTOM\n",
            "100: 0.5776973841604597 \n",
            "200: 0.509525380934063\n",
            "MIDDLE\n",
            "100: 0.5831963601899003 \n",
            "200: 0.4852682007588659\n",
            "TOP\n",
            "100: 0.586416185287136 \n",
            "200: 0.5002091248560573\n",
            "UTILITY\n",
            "100: 0.5799268976315208 \n",
            "200: 0.4873704174568836\n"
          ]
        }
      ]
    },
    {
      "cell_type": "code",
      "source": [
        "# let's check out role winrates too\n",
        "for role in [\"JUNGLE\", \"BOTTOM\", \"MIDDLE\", \"TOP\", \"UTILITY\"]:\n",
        "  print(role)\n",
        "  print(\"100:\", win_100[f'100_{role}_role_wr'].mean(), \"\\n200:\", win_200[f'100_{role}_role_wr'].mean())"
      ],
      "metadata": {
        "colab": {
          "base_uri": "https://localhost:8080/"
        },
        "id": "Doe3OprM_WyZ",
        "outputId": "46726ba3-95ca-4031-aa33-69364c832ab7"
      },
      "execution_count": 24,
      "outputs": [
        {
          "output_type": "stream",
          "name": "stdout",
          "text": [
            "JUNGLE\n",
            "100: 0.5477766066309729 \n",
            "200: 0.5343857924887455\n",
            "BOTTOM\n",
            "100: 0.5440854549733636 \n",
            "200: 0.5280786204289885\n",
            "MIDDLE\n",
            "100: 0.5360746891791545 \n",
            "200: 0.5164823538175565\n",
            "TOP\n",
            "100: 0.5485555440094464 \n",
            "200: 0.5286221204824453\n",
            "UTILITY\n",
            "100: 0.5360872787835478 \n",
            "200: 0.5186064597387401\n"
          ]
        }
      ]
    },
    {
      "cell_type": "markdown",
      "source": [
        "# Let's look at the variables that are most different when the winning team changes value...\n",
        "\n",
        "I got this idea from the last part of the investigation. What if I just look at the variables that are the most different depending on which team wins?\n",
        "\n",
        "Read below for conclusions"
      ],
      "metadata": {
        "id": "Dbkf01zug7Of"
      }
    },
    {
      "cell_type": "code",
      "source": [
        "mean_100 = win_100.mean()\n",
        "mean_200 = win_200.mean()"
      ],
      "metadata": {
        "id": "KYy1fpZ9dryw"
      },
      "execution_count": 25,
      "outputs": []
    },
    {
      "cell_type": "code",
      "source": [
        "# just checking that I did things right D:\n",
        "mean_100[\"100_UTILITY_champ_winrate\"]"
      ],
      "metadata": {
        "colab": {
          "base_uri": "https://localhost:8080/"
        },
        "id": "E5vo8dTdgPtD",
        "outputId": "c66008ff-a014-410c-b0dc-59b49aa877ff"
      },
      "execution_count": 26,
      "outputs": [
        {
          "output_type": "execute_result",
          "data": {
            "text/plain": [
              "0.5799268976315208"
            ]
          },
          "metadata": {},
          "execution_count": 26
        }
      ]
    },
    {
      "cell_type": "code",
      "source": [
        "# difference in means when team 100 wins vs when team 200 wins\n",
        "mean_diff = mean_100 - mean_200"
      ],
      "metadata": {
        "id": "z22HN6YZeHlW"
      },
      "execution_count": 27,
      "outputs": []
    },
    {
      "cell_type": "code",
      "source": [
        "highest_diffs = mean_diff.drop(\"100_win\").sort_values()"
      ],
      "metadata": {
        "id": "5pgCjFgIeeqr"
      },
      "execution_count": 28,
      "outputs": []
    },
    {
      "cell_type": "code",
      "source": [
        "# some variables are just kinda weird and NEED PROCESSING\n",
        "# for example, some avg_game_times are super high because the league client returned\n",
        "# milliseconds for the old versions of the thing, vs seconds for the new version...\n",
        "# OOPS well I guess I didn't know that...\n",
        "# but I think we'll not use these variables anyways...\n",
        "train[\"100_TOP_avg_game_time\"].sort_values()"
      ],
      "metadata": {
        "colab": {
          "base_uri": "https://localhost:8080/"
        },
        "id": "qnMB6pbIe5iI",
        "outputId": "e8867597-4cd0-4686-e61e-42570ff84aef"
      },
      "execution_count": 29,
      "outputs": [
        {
          "output_type": "execute_result",
          "data": {
            "text/plain": [
              "152        18.286667\n",
              "279        19.113333\n",
              "233        20.025000\n",
              "206        20.025000\n",
              "236        20.025000\n",
              "            ...     \n",
              "355     14038.386667\n",
              "430     15019.476667\n",
              "374     18477.796667\n",
              "1143    21196.701667\n",
              "835     25053.441667\n",
              "Name: 100_TOP_avg_game_time, Length: 993, dtype: float64"
            ]
          },
          "metadata": {},
          "execution_count": 29
        }
      ]
    },
    {
      "cell_type": "code",
      "source": [
        "train_sd = train.std()"
      ],
      "metadata": {
        "id": "SJ4DU2j7i_w_"
      },
      "execution_count": 30,
      "outputs": []
    },
    {
      "cell_type": "code",
      "source": [
        "mean_diff_adjusted = mean_diff / train_sd"
      ],
      "metadata": {
        "id": "kXMTRkMjjIlj"
      },
      "execution_count": 31,
      "outputs": []
    },
    {
      "cell_type": "code",
      "source": [
        "mean_diff_adjusted.sort_values().head(20)"
      ],
      "metadata": {
        "colab": {
          "base_uri": "https://localhost:8080/"
        },
        "id": "p0ar8PzjjP6i",
        "outputId": "441b4700-3b60-4ec1-b1c3-874a5fc146d5"
      },
      "execution_count": 32,
      "outputs": [
        {
          "output_type": "execute_result",
          "data": {
            "text/plain": [
              "200_MIDDLE_champ_winrate    -0.625354\n",
              "200_JUNGLE_champ_winrate    -0.573938\n",
              "200_UTILITY_champ_winrate   -0.564484\n",
              "200_TOP_champ_winrate       -0.539281\n",
              "200_MIDDLE_wr               -0.486551\n",
              "200_TOP_wr                  -0.470021\n",
              "200_JUNGLE_wr               -0.453089\n",
              "200_UTILITY_wr              -0.444558\n",
              "200_BOTTOM_champ_winrate    -0.404120\n",
              "200_BOTTOM_wr               -0.395544\n",
              "200_JUNGLE_avg_kda          -0.318000\n",
              "200_TOP_hotstreak           -0.297123\n",
              "200_JUNGLE_dmg_to_obj_pm    -0.283777\n",
              "200_TOP_role_wr             -0.278821\n",
              "200_UTILITY_role_wr         -0.268240\n",
              "200_UTILITY_avg_kda         -0.266666\n",
              "200_MIDDLE_role_wr          -0.264097\n",
              "200_BOTTOM_hotstreak        -0.262720\n",
              "200_JUNGLE_goldpm           -0.244886\n",
              "200_JUNGLE_role_wr          -0.231876\n",
              "dtype: float64"
            ]
          },
          "metadata": {},
          "execution_count": 32
        }
      ]
    },
    {
      "cell_type": "code",
      "source": [
        "mean_diff_adjusted.sort_values(ascending=False).head(20)\n",
        "# ok maybe I should've really cleaned the data and dealt with NA values and stuff huh..."
      ],
      "metadata": {
        "colab": {
          "base_uri": "https://localhost:8080/"
        },
        "id": "5ozeqMLjjUxr",
        "outputId": "a64c7709-f2b7-4845-cd24-a2f76a5dbf9a"
      },
      "execution_count": 33,
      "outputs": [
        {
          "output_type": "execute_result",
          "data": {
            "text/plain": [
              "100_win                      2.005677\n",
              "100_JUNGLE_champ_winrate     0.633574\n",
              "100_MIDDLE_champ_winrate     0.620157\n",
              "100_UTILITY_champ_winrate    0.604361\n",
              "100_TOP_champ_winrate        0.581240\n",
              "100_BOTTOM_champ_winrate     0.538068\n",
              "100_TOP_wr                   0.439553\n",
              "100_MIDDLE_wr                0.408207\n",
              "100_UTILITY_wr               0.406847\n",
              "100_JUNGLE_wr                0.392244\n",
              "100_UTILITY_hotstreak        0.373171\n",
              "100_BOTTOM_wr                0.330942\n",
              "100_TOP_role_wr              0.305952\n",
              "100_BOTTOM_hotstreak         0.273721\n",
              "100_JUNGLE_avg_kda           0.266237\n",
              "100_MIDDLE_role_wr           0.254283\n",
              "100_BOTTOM_role_wr           0.251981\n",
              "100_MIDDLE_avg_kda           0.249006\n",
              "100_JUNGLE_lp                0.228188\n",
              "100_TOP_lp                   0.223799\n",
              "dtype: float64"
            ]
          },
          "metadata": {},
          "execution_count": 33
        }
      ]
    },
    {
      "cell_type": "markdown",
      "source": [
        "Ok so this is some scuffed z-score thing...\n",
        "\n",
        "I took the means of each variable when team 100 wins, compared to when team 200 wins. I then took the standard deviation of each variable. Finally, I did a z-score kind of thing and checked which variables deviated the most, depending on which team wins.\n",
        "\n",
        "for example, the allied team adc(a role in LoL)'s winrate is, on average, around .5(value changes when I reload the notebook) standard deviations higher when the allied team wins, compared to when the enemy team(200) wins.\n",
        "\n",
        "It seems like my suspicions were true. As the guy on twitter said, individual champ winrates seem to have the most \"impact\"(I feel like I need to plot some stuff or whatever to check, but there's the most average difference depending on the match outcome), and that is followed by ranked winrates.\n",
        "\n",
        "There's some hotstreak, role_wr, avg_kda mixed in there...I'm just kind of scared because that was like the average kda across the last 10 games, and idk... the data's telling me there's a correlation, but I guess I have a lot more exploring to do.\n",
        "\n",
        "On the other side of things, champ winrates for players on the enemy team, and overall ranked winrates for enemy players, are higher when the enemy team wins. We see the same variables there, which is consistent with our other findings."
      ],
      "metadata": {
        "id": "geNq7o3ajosr"
      }
    },
    {
      "cell_type": "markdown",
      "source": [
        "# Correlation matrix\n",
        "\n",
        "I learned this from a guy on Kaggle.com, apparently it's a good method to see if predictor variables are correlated with each other(as you can remove one if they are)\n",
        "\n",
        "By intuition, since players are matched at random, their winrate, champ winrate etc. shouldn't be correlated with the other player's stats.\n",
        "\n",
        "Open this section for conclusions, basically there wasn't much correlation."
      ],
      "metadata": {
        "id": "KBkR80pdkV1j"
      }
    },
    {
      "cell_type": "code",
      "source": [
        "train.head()"
      ],
      "metadata": {
        "colab": {
          "base_uri": "https://localhost:8080/",
          "height": 473
        },
        "id": "3emaomYFk0PO",
        "outputId": "4ab89289-1d25-4db5-bb07-31f1c07b00db"
      },
      "execution_count": 34,
      "outputs": [
        {
          "output_type": "execute_result",
          "data": {
            "text/html": [
              "\n",
              "  <div id=\"df-f7c21833-26d5-4b8b-b521-7f0e0e8985cf\">\n",
              "    <div class=\"colab-df-container\">\n",
              "      <div>\n",
              "<style scoped>\n",
              "    .dataframe tbody tr th:only-of-type {\n",
              "        vertical-align: middle;\n",
              "    }\n",
              "\n",
              "    .dataframe tbody tr th {\n",
              "        vertical-align: top;\n",
              "    }\n",
              "\n",
              "    .dataframe thead th {\n",
              "        text-align: right;\n",
              "    }\n",
              "</style>\n",
              "<table border=\"1\" class=\"dataframe\">\n",
              "  <thead>\n",
              "    <tr style=\"text-align: right;\">\n",
              "      <th></th>\n",
              "      <th>gameid</th>\n",
              "      <th>100_win</th>\n",
              "      <th>100_TOP_avg_game_time</th>\n",
              "      <th>100_TOP_positions_played</th>\n",
              "      <th>100_TOP_avg_kda</th>\n",
              "      <th>100_TOP_avg_kp</th>\n",
              "      <th>100_TOP_avg_vision</th>\n",
              "      <th>100_TOP_avg_cs</th>\n",
              "      <th>100_TOP_goldpm</th>\n",
              "      <th>100_TOP_dmgpm</th>\n",
              "      <th>100_TOP_dmg_to_obj_pm</th>\n",
              "      <th>100_TOP_wr</th>\n",
              "      <th>100_TOP_tier</th>\n",
              "      <th>100_TOP_rank</th>\n",
              "      <th>100_TOP_lp</th>\n",
              "      <th>100_TOP_wins</th>\n",
              "      <th>100_TOP_losses</th>\n",
              "      <th>100_TOP_veteran</th>\n",
              "      <th>100_TOP_inactive</th>\n",
              "      <th>100_TOP_freshblood</th>\n",
              "      <th>100_TOP_hotstreak</th>\n",
              "      <th>100_TOP_role_total_played</th>\n",
              "      <th>100_TOP_role_wr</th>\n",
              "      <th>100_TOP_champ_games_played</th>\n",
              "      <th>100_TOP_champ_winrate</th>\n",
              "      <th>100_JUNGLE_avg_game_time</th>\n",
              "      <th>100_JUNGLE_positions_played</th>\n",
              "      <th>100_JUNGLE_avg_kda</th>\n",
              "      <th>100_JUNGLE_avg_kp</th>\n",
              "      <th>100_JUNGLE_avg_vision</th>\n",
              "      <th>100_JUNGLE_avg_cs</th>\n",
              "      <th>100_JUNGLE_goldpm</th>\n",
              "      <th>100_JUNGLE_dmgpm</th>\n",
              "      <th>100_JUNGLE_dmg_to_obj_pm</th>\n",
              "      <th>100_JUNGLE_wr</th>\n",
              "      <th>100_JUNGLE_tier</th>\n",
              "      <th>100_JUNGLE_rank</th>\n",
              "      <th>100_JUNGLE_lp</th>\n",
              "      <th>100_JUNGLE_wins</th>\n",
              "      <th>100_JUNGLE_losses</th>\n",
              "      <th>...</th>\n",
              "      <th>200_BOTTOM_goldpm</th>\n",
              "      <th>200_BOTTOM_dmgpm</th>\n",
              "      <th>200_BOTTOM_dmg_to_obj_pm</th>\n",
              "      <th>200_BOTTOM_wr</th>\n",
              "      <th>200_BOTTOM_tier</th>\n",
              "      <th>200_BOTTOM_rank</th>\n",
              "      <th>200_BOTTOM_lp</th>\n",
              "      <th>200_BOTTOM_wins</th>\n",
              "      <th>200_BOTTOM_losses</th>\n",
              "      <th>200_BOTTOM_veteran</th>\n",
              "      <th>200_BOTTOM_inactive</th>\n",
              "      <th>200_BOTTOM_freshblood</th>\n",
              "      <th>200_BOTTOM_hotstreak</th>\n",
              "      <th>200_BOTTOM_role_total_played</th>\n",
              "      <th>200_BOTTOM_role_wr</th>\n",
              "      <th>200_BOTTOM_champ_games_played</th>\n",
              "      <th>200_BOTTOM_champ_winrate</th>\n",
              "      <th>200_UTILITY_avg_game_time</th>\n",
              "      <th>200_UTILITY_positions_played</th>\n",
              "      <th>200_UTILITY_avg_kda</th>\n",
              "      <th>200_UTILITY_avg_kp</th>\n",
              "      <th>200_UTILITY_avg_vision</th>\n",
              "      <th>200_UTILITY_avg_cs</th>\n",
              "      <th>200_UTILITY_goldpm</th>\n",
              "      <th>200_UTILITY_dmgpm</th>\n",
              "      <th>200_UTILITY_dmg_to_obj_pm</th>\n",
              "      <th>200_UTILITY_wr</th>\n",
              "      <th>200_UTILITY_tier</th>\n",
              "      <th>200_UTILITY_rank</th>\n",
              "      <th>200_UTILITY_lp</th>\n",
              "      <th>200_UTILITY_wins</th>\n",
              "      <th>200_UTILITY_losses</th>\n",
              "      <th>200_UTILITY_veteran</th>\n",
              "      <th>200_UTILITY_inactive</th>\n",
              "      <th>200_UTILITY_freshblood</th>\n",
              "      <th>200_UTILITY_hotstreak</th>\n",
              "      <th>200_UTILITY_role_total_played</th>\n",
              "      <th>200_UTILITY_role_wr</th>\n",
              "      <th>200_UTILITY_champ_games_played</th>\n",
              "      <th>200_UTILITY_champ_winrate</th>\n",
              "    </tr>\n",
              "  </thead>\n",
              "  <tbody>\n",
              "    <tr>\n",
              "      <th>0</th>\n",
              "      <td>NA1_4144890019</td>\n",
              "      <td>0</td>\n",
              "      <td>23.271667</td>\n",
              "      <td>TOP TOP TOP TOP TOP TOP TOP BOTTOM TOP TOP</td>\n",
              "      <td>2.344102</td>\n",
              "      <td>0.421483</td>\n",
              "      <td>19.9</td>\n",
              "      <td>7.399556</td>\n",
              "      <td>450.255676</td>\n",
              "      <td>660.584402</td>\n",
              "      <td>430.506338</td>\n",
              "      <td>0.5</td>\n",
              "      <td>GRANDMASTER</td>\n",
              "      <td>I</td>\n",
              "      <td>765</td>\n",
              "      <td>98</td>\n",
              "      <td>82</td>\n",
              "      <td>False</td>\n",
              "      <td>False</td>\n",
              "      <td>False</td>\n",
              "      <td>False</td>\n",
              "      <td>168</td>\n",
              "      <td>0.553571</td>\n",
              "      <td>4</td>\n",
              "      <td>0.250000</td>\n",
              "      <td>23.598333</td>\n",
              "      <td>JUNGLE JUNGLE JUNGLE JUNGLE JUNGLE JUNGLE JUNG...</td>\n",
              "      <td>6.859524</td>\n",
              "      <td>0.531200</td>\n",
              "      <td>19.2</td>\n",
              "      <td>5.322410</td>\n",
              "      <td>434.695953</td>\n",
              "      <td>580.689314</td>\n",
              "      <td>773.656332</td>\n",
              "      <td>0.5</td>\n",
              "      <td>CHALLENGER</td>\n",
              "      <td>I</td>\n",
              "      <td>1223</td>\n",
              "      <td>151</td>\n",
              "      <td>91</td>\n",
              "      <td>...</td>\n",
              "      <td>444.018576</td>\n",
              "      <td>727.816718</td>\n",
              "      <td>317.008050</td>\n",
              "      <td>0.8</td>\n",
              "      <td>GRANDMASTER</td>\n",
              "      <td>I</td>\n",
              "      <td>852</td>\n",
              "      <td>397</td>\n",
              "      <td>356</td>\n",
              "      <td>True</td>\n",
              "      <td>False</td>\n",
              "      <td>False</td>\n",
              "      <td>False</td>\n",
              "      <td>202</td>\n",
              "      <td>0.539604</td>\n",
              "      <td>36</td>\n",
              "      <td>0.555556</td>\n",
              "      <td>25.183333</td>\n",
              "      <td>BOTTOM BOTTOM BOTTOM BOTTOM UTILITY JUNGLE JUN...</td>\n",
              "      <td>3.513095</td>\n",
              "      <td>0.414308</td>\n",
              "      <td>37.1</td>\n",
              "      <td>5.102581</td>\n",
              "      <td>374.791529</td>\n",
              "      <td>439.441429</td>\n",
              "      <td>364.530774</td>\n",
              "      <td>0.4</td>\n",
              "      <td>GRANDMASTER</td>\n",
              "      <td>I</td>\n",
              "      <td>825</td>\n",
              "      <td>419</td>\n",
              "      <td>389</td>\n",
              "      <td>False</td>\n",
              "      <td>False</td>\n",
              "      <td>False</td>\n",
              "      <td>False</td>\n",
              "      <td>616</td>\n",
              "      <td>0.524351</td>\n",
              "      <td>25</td>\n",
              "      <td>0.360000</td>\n",
              "    </tr>\n",
              "    <tr>\n",
              "      <th>1</th>\n",
              "      <td>NA1_4142559007</td>\n",
              "      <td>0</td>\n",
              "      <td>23.271667</td>\n",
              "      <td>TOP TOP TOP TOP TOP TOP TOP BOTTOM TOP TOP</td>\n",
              "      <td>2.344102</td>\n",
              "      <td>0.421483</td>\n",
              "      <td>19.9</td>\n",
              "      <td>7.399556</td>\n",
              "      <td>450.255676</td>\n",
              "      <td>660.584402</td>\n",
              "      <td>430.506338</td>\n",
              "      <td>0.5</td>\n",
              "      <td>GRANDMASTER</td>\n",
              "      <td>I</td>\n",
              "      <td>765</td>\n",
              "      <td>98</td>\n",
              "      <td>82</td>\n",
              "      <td>False</td>\n",
              "      <td>False</td>\n",
              "      <td>False</td>\n",
              "      <td>False</td>\n",
              "      <td>168</td>\n",
              "      <td>0.553571</td>\n",
              "      <td>22</td>\n",
              "      <td>0.500000</td>\n",
              "      <td>24.556667</td>\n",
              "      <td>JUNGLE JUNGLE JUNGLE JUNGLE JUNGLE JUNGLE JUNG...</td>\n",
              "      <td>5.588333</td>\n",
              "      <td>0.545225</td>\n",
              "      <td>20.6</td>\n",
              "      <td>7.452151</td>\n",
              "      <td>471.745622</td>\n",
              "      <td>768.023619</td>\n",
              "      <td>1009.444822</td>\n",
              "      <td>0.5</td>\n",
              "      <td>GRANDMASTER</td>\n",
              "      <td>I</td>\n",
              "      <td>493</td>\n",
              "      <td>148</td>\n",
              "      <td>112</td>\n",
              "      <td>...</td>\n",
              "      <td>482.375967</td>\n",
              "      <td>615.133624</td>\n",
              "      <td>140.509786</td>\n",
              "      <td>0.5</td>\n",
              "      <td>GRANDMASTER</td>\n",
              "      <td>I</td>\n",
              "      <td>495</td>\n",
              "      <td>424</td>\n",
              "      <td>380</td>\n",
              "      <td>True</td>\n",
              "      <td>False</td>\n",
              "      <td>False</td>\n",
              "      <td>False</td>\n",
              "      <td>35</td>\n",
              "      <td>0.714286</td>\n",
              "      <td>212</td>\n",
              "      <td>0.570755</td>\n",
              "      <td>28.300000</td>\n",
              "      <td>UTILITY UTILITY UTILITY UTILITY TOP JUNGLE UTI...</td>\n",
              "      <td>1.660960</td>\n",
              "      <td>0.506136</td>\n",
              "      <td>49.5</td>\n",
              "      <td>2.770318</td>\n",
              "      <td>326.858657</td>\n",
              "      <td>471.254417</td>\n",
              "      <td>135.872792</td>\n",
              "      <td>0.1</td>\n",
              "      <td>GRANDMASTER</td>\n",
              "      <td>I</td>\n",
              "      <td>651</td>\n",
              "      <td>592</td>\n",
              "      <td>507</td>\n",
              "      <td>False</td>\n",
              "      <td>False</td>\n",
              "      <td>False</td>\n",
              "      <td>False</td>\n",
              "      <td>941</td>\n",
              "      <td>0.547290</td>\n",
              "      <td>25</td>\n",
              "      <td>0.520000</td>\n",
              "    </tr>\n",
              "    <tr>\n",
              "      <th>2</th>\n",
              "      <td>NA1_4141413442</td>\n",
              "      <td>0</td>\n",
              "      <td>23.271667</td>\n",
              "      <td>TOP TOP TOP TOP TOP TOP TOP BOTTOM TOP TOP</td>\n",
              "      <td>2.344102</td>\n",
              "      <td>0.421483</td>\n",
              "      <td>19.9</td>\n",
              "      <td>7.399556</td>\n",
              "      <td>450.255676</td>\n",
              "      <td>660.584402</td>\n",
              "      <td>430.506338</td>\n",
              "      <td>0.5</td>\n",
              "      <td>GRANDMASTER</td>\n",
              "      <td>I</td>\n",
              "      <td>765</td>\n",
              "      <td>98</td>\n",
              "      <td>82</td>\n",
              "      <td>False</td>\n",
              "      <td>False</td>\n",
              "      <td>False</td>\n",
              "      <td>False</td>\n",
              "      <td>168</td>\n",
              "      <td>0.553571</td>\n",
              "      <td>4</td>\n",
              "      <td>0.250000</td>\n",
              "      <td>23.765000</td>\n",
              "      <td>JUNGLE JUNGLE JUNGLE TOP JUNGLE JUNGLE JUNGLE ...</td>\n",
              "      <td>3.637258</td>\n",
              "      <td>0.420519</td>\n",
              "      <td>20.1</td>\n",
              "      <td>7.317484</td>\n",
              "      <td>450.031559</td>\n",
              "      <td>643.980644</td>\n",
              "      <td>892.699348</td>\n",
              "      <td>0.4</td>\n",
              "      <td>GRANDMASTER</td>\n",
              "      <td>I</td>\n",
              "      <td>502</td>\n",
              "      <td>156</td>\n",
              "      <td>112</td>\n",
              "      <td>...</td>\n",
              "      <td>446.584003</td>\n",
              "      <td>666.117488</td>\n",
              "      <td>441.217850</td>\n",
              "      <td>0.4</td>\n",
              "      <td>GRANDMASTER</td>\n",
              "      <td>I</td>\n",
              "      <td>650</td>\n",
              "      <td>613</td>\n",
              "      <td>584</td>\n",
              "      <td>True</td>\n",
              "      <td>False</td>\n",
              "      <td>False</td>\n",
              "      <td>False</td>\n",
              "      <td>1024</td>\n",
              "      <td>0.515625</td>\n",
              "      <td>159</td>\n",
              "      <td>0.515723</td>\n",
              "      <td>27.480000</td>\n",
              "      <td>BOTTOM BOTTOM TOP BOTTOM BOTTOM BOTTOM BOTTOM ...</td>\n",
              "      <td>2.441634</td>\n",
              "      <td>0.507755</td>\n",
              "      <td>28.5</td>\n",
              "      <td>8.155022</td>\n",
              "      <td>502.503639</td>\n",
              "      <td>979.497817</td>\n",
              "      <td>501.419214</td>\n",
              "      <td>0.6</td>\n",
              "      <td>CHALLENGER</td>\n",
              "      <td>I</td>\n",
              "      <td>1387</td>\n",
              "      <td>417</td>\n",
              "      <td>349</td>\n",
              "      <td>True</td>\n",
              "      <td>False</td>\n",
              "      <td>False</td>\n",
              "      <td>False</td>\n",
              "      <td>28</td>\n",
              "      <td>0.500000</td>\n",
              "      <td>6</td>\n",
              "      <td>0.833333</td>\n",
              "    </tr>\n",
              "    <tr>\n",
              "      <th>5</th>\n",
              "      <td>NA1_4144616999</td>\n",
              "      <td>1</td>\n",
              "      <td>22.896667</td>\n",
              "      <td>TOP JUNGLE TOP TOP TOP TOP TOP JUNGLE TOP TOP</td>\n",
              "      <td>2.857677</td>\n",
              "      <td>0.424002</td>\n",
              "      <td>18.4</td>\n",
              "      <td>6.066385</td>\n",
              "      <td>390.126656</td>\n",
              "      <td>599.157083</td>\n",
              "      <td>274.245159</td>\n",
              "      <td>0.3</td>\n",
              "      <td>GRANDMASTER</td>\n",
              "      <td>I</td>\n",
              "      <td>632</td>\n",
              "      <td>235</td>\n",
              "      <td>214</td>\n",
              "      <td>False</td>\n",
              "      <td>False</td>\n",
              "      <td>False</td>\n",
              "      <td>False</td>\n",
              "      <td>370</td>\n",
              "      <td>0.540541</td>\n",
              "      <td>6</td>\n",
              "      <td>0.833333</td>\n",
              "      <td>24.456667</td>\n",
              "      <td>UTILITY JUNGLE JUNGLE JUNGLE JUNGLE JUNGLE JUN...</td>\n",
              "      <td>4.596825</td>\n",
              "      <td>0.512282</td>\n",
              "      <td>34.0</td>\n",
              "      <td>4.747172</td>\n",
              "      <td>345.721685</td>\n",
              "      <td>274.379174</td>\n",
              "      <td>303.156604</td>\n",
              "      <td>0.4</td>\n",
              "      <td>CHALLENGER</td>\n",
              "      <td>I</td>\n",
              "      <td>987</td>\n",
              "      <td>352</td>\n",
              "      <td>309</td>\n",
              "      <td>...</td>\n",
              "      <td>373.445221</td>\n",
              "      <td>387.002331</td>\n",
              "      <td>159.650350</td>\n",
              "      <td>0.5</td>\n",
              "      <td>CHALLENGER</td>\n",
              "      <td>I</td>\n",
              "      <td>1056</td>\n",
              "      <td>433</td>\n",
              "      <td>394</td>\n",
              "      <td>True</td>\n",
              "      <td>False</td>\n",
              "      <td>False</td>\n",
              "      <td>False</td>\n",
              "      <td>702</td>\n",
              "      <td>0.529915</td>\n",
              "      <td>126</td>\n",
              "      <td>0.555556</td>\n",
              "      <td>24.443333</td>\n",
              "      <td>UTILITY UTILITY UTILITY UTILITY UTILITY UTILIT...</td>\n",
              "      <td>3.880476</td>\n",
              "      <td>0.503464</td>\n",
              "      <td>60.0</td>\n",
              "      <td>0.887768</td>\n",
              "      <td>279.147689</td>\n",
              "      <td>285.059321</td>\n",
              "      <td>47.436247</td>\n",
              "      <td>0.5</td>\n",
              "      <td>GRANDMASTER</td>\n",
              "      <td>I</td>\n",
              "      <td>874</td>\n",
              "      <td>446</td>\n",
              "      <td>409</td>\n",
              "      <td>False</td>\n",
              "      <td>False</td>\n",
              "      <td>True</td>\n",
              "      <td>False</td>\n",
              "      <td>739</td>\n",
              "      <td>0.526387</td>\n",
              "      <td>179</td>\n",
              "      <td>0.558659</td>\n",
              "    </tr>\n",
              "    <tr>\n",
              "      <th>6</th>\n",
              "      <td>NA1_4142425411</td>\n",
              "      <td>1</td>\n",
              "      <td>24.816667</td>\n",
              "      <td>TOP MIDDLE TOP TOP TOP TOP TOP TOP TOP TOP</td>\n",
              "      <td>2.083988</td>\n",
              "      <td>0.363600</td>\n",
              "      <td>16.4</td>\n",
              "      <td>6.697112</td>\n",
              "      <td>427.660175</td>\n",
              "      <td>689.939557</td>\n",
              "      <td>194.808596</td>\n",
              "      <td>0.4</td>\n",
              "      <td>CHALLENGER</td>\n",
              "      <td>I</td>\n",
              "      <td>1050</td>\n",
              "      <td>720</td>\n",
              "      <td>666</td>\n",
              "      <td>True</td>\n",
              "      <td>False</td>\n",
              "      <td>False</td>\n",
              "      <td>False</td>\n",
              "      <td>1131</td>\n",
              "      <td>0.535809</td>\n",
              "      <td>23</td>\n",
              "      <td>0.521739</td>\n",
              "      <td>23.598333</td>\n",
              "      <td>JUNGLE JUNGLE JUNGLE JUNGLE JUNGLE JUNGLE JUNG...</td>\n",
              "      <td>6.859524</td>\n",
              "      <td>0.531200</td>\n",
              "      <td>19.2</td>\n",
              "      <td>5.322410</td>\n",
              "      <td>434.695953</td>\n",
              "      <td>580.689314</td>\n",
              "      <td>773.656332</td>\n",
              "      <td>0.5</td>\n",
              "      <td>CHALLENGER</td>\n",
              "      <td>I</td>\n",
              "      <td>1223</td>\n",
              "      <td>151</td>\n",
              "      <td>91</td>\n",
              "      <td>...</td>\n",
              "      <td>341.223153</td>\n",
              "      <td>477.852202</td>\n",
              "      <td>147.564616</td>\n",
              "      <td>0.2</td>\n",
              "      <td>GRANDMASTER</td>\n",
              "      <td>I</td>\n",
              "      <td>678</td>\n",
              "      <td>593</td>\n",
              "      <td>507</td>\n",
              "      <td>False</td>\n",
              "      <td>False</td>\n",
              "      <td>False</td>\n",
              "      <td>False</td>\n",
              "      <td>113</td>\n",
              "      <td>0.522124</td>\n",
              "      <td>30</td>\n",
              "      <td>0.600000</td>\n",
              "      <td>21.723333</td>\n",
              "      <td>MIDDLE MIDDLE JUNGLE JUNGLE UTILITY UTILITY UT...</td>\n",
              "      <td>5.531667</td>\n",
              "      <td>0.471408</td>\n",
              "      <td>32.7</td>\n",
              "      <td>4.672395</td>\n",
              "      <td>423.374252</td>\n",
              "      <td>538.761700</td>\n",
              "      <td>341.954887</td>\n",
              "      <td>0.9</td>\n",
              "      <td>CHALLENGER</td>\n",
              "      <td>I</td>\n",
              "      <td>936</td>\n",
              "      <td>426</td>\n",
              "      <td>389</td>\n",
              "      <td>False</td>\n",
              "      <td>False</td>\n",
              "      <td>True</td>\n",
              "      <td>True</td>\n",
              "      <td>619</td>\n",
              "      <td>0.526656</td>\n",
              "      <td>26</td>\n",
              "      <td>0.384615</td>\n",
              "    </tr>\n",
              "  </tbody>\n",
              "</table>\n",
              "<p>5 rows × 232 columns</p>\n",
              "</div>\n",
              "      <button class=\"colab-df-convert\" onclick=\"convertToInteractive('df-f7c21833-26d5-4b8b-b521-7f0e0e8985cf')\"\n",
              "              title=\"Convert this dataframe to an interactive table.\"\n",
              "              style=\"display:none;\">\n",
              "        \n",
              "  <svg xmlns=\"http://www.w3.org/2000/svg\" height=\"24px\"viewBox=\"0 0 24 24\"\n",
              "       width=\"24px\">\n",
              "    <path d=\"M0 0h24v24H0V0z\" fill=\"none\"/>\n",
              "    <path d=\"M18.56 5.44l.94 2.06.94-2.06 2.06-.94-2.06-.94-.94-2.06-.94 2.06-2.06.94zm-11 1L8.5 8.5l.94-2.06 2.06-.94-2.06-.94L8.5 2.5l-.94 2.06-2.06.94zm10 10l.94 2.06.94-2.06 2.06-.94-2.06-.94-.94-2.06-.94 2.06-2.06.94z\"/><path d=\"M17.41 7.96l-1.37-1.37c-.4-.4-.92-.59-1.43-.59-.52 0-1.04.2-1.43.59L10.3 9.45l-7.72 7.72c-.78.78-.78 2.05 0 2.83L4 21.41c.39.39.9.59 1.41.59.51 0 1.02-.2 1.41-.59l7.78-7.78 2.81-2.81c.8-.78.8-2.07 0-2.86zM5.41 20L4 18.59l7.72-7.72 1.47 1.35L5.41 20z\"/>\n",
              "  </svg>\n",
              "      </button>\n",
              "      \n",
              "  <style>\n",
              "    .colab-df-container {\n",
              "      display:flex;\n",
              "      flex-wrap:wrap;\n",
              "      gap: 12px;\n",
              "    }\n",
              "\n",
              "    .colab-df-convert {\n",
              "      background-color: #E8F0FE;\n",
              "      border: none;\n",
              "      border-radius: 50%;\n",
              "      cursor: pointer;\n",
              "      display: none;\n",
              "      fill: #1967D2;\n",
              "      height: 32px;\n",
              "      padding: 0 0 0 0;\n",
              "      width: 32px;\n",
              "    }\n",
              "\n",
              "    .colab-df-convert:hover {\n",
              "      background-color: #E2EBFA;\n",
              "      box-shadow: 0px 1px 2px rgba(60, 64, 67, 0.3), 0px 1px 3px 1px rgba(60, 64, 67, 0.15);\n",
              "      fill: #174EA6;\n",
              "    }\n",
              "\n",
              "    [theme=dark] .colab-df-convert {\n",
              "      background-color: #3B4455;\n",
              "      fill: #D2E3FC;\n",
              "    }\n",
              "\n",
              "    [theme=dark] .colab-df-convert:hover {\n",
              "      background-color: #434B5C;\n",
              "      box-shadow: 0px 1px 3px 1px rgba(0, 0, 0, 0.15);\n",
              "      filter: drop-shadow(0px 1px 2px rgba(0, 0, 0, 0.3));\n",
              "      fill: #FFFFFF;\n",
              "    }\n",
              "  </style>\n",
              "\n",
              "      <script>\n",
              "        const buttonEl =\n",
              "          document.querySelector('#df-f7c21833-26d5-4b8b-b521-7f0e0e8985cf button.colab-df-convert');\n",
              "        buttonEl.style.display =\n",
              "          google.colab.kernel.accessAllowed ? 'block' : 'none';\n",
              "\n",
              "        async function convertToInteractive(key) {\n",
              "          const element = document.querySelector('#df-f7c21833-26d5-4b8b-b521-7f0e0e8985cf');\n",
              "          const dataTable =\n",
              "            await google.colab.kernel.invokeFunction('convertToInteractive',\n",
              "                                                     [key], {});\n",
              "          if (!dataTable) return;\n",
              "\n",
              "          const docLinkHtml = 'Like what you see? Visit the ' +\n",
              "            '<a target=\"_blank\" href=https://colab.research.google.com/notebooks/data_table.ipynb>data table notebook</a>'\n",
              "            + ' to learn more about interactive tables.';\n",
              "          element.innerHTML = '';\n",
              "          dataTable['output_type'] = 'display_data';\n",
              "          await google.colab.output.renderOutput(dataTable, element);\n",
              "          const docLink = document.createElement('div');\n",
              "          docLink.innerHTML = docLinkHtml;\n",
              "          element.appendChild(docLink);\n",
              "        }\n",
              "      </script>\n",
              "    </div>\n",
              "  </div>\n",
              "  "
            ],
            "text/plain": [
              "           gameid  ...  200_UTILITY_champ_winrate\n",
              "0  NA1_4144890019  ...                   0.360000\n",
              "1  NA1_4142559007  ...                   0.520000\n",
              "2  NA1_4141413442  ...                   0.833333\n",
              "5  NA1_4144616999  ...                   0.558659\n",
              "6  NA1_4142425411  ...                   0.384615\n",
              "\n",
              "[5 rows x 232 columns]"
            ]
          },
          "metadata": {},
          "execution_count": 34
        }
      ]
    },
    {
      "cell_type": "code",
      "source": [
        "k = 20\n",
        "corrmat = train.corr()"
      ],
      "metadata": {
        "id": "43KeCpoXkVpc"
      },
      "execution_count": 35,
      "outputs": []
    },
    {
      "cell_type": "code",
      "source": [
        "k = 20\n",
        "cols = corrmat.nlargest(k, \"100_win\")[\"100_win\"].index\n",
        "df_conv = train[cols].astype(float)\n",
        "\n",
        "cm = np.corrcoef(df_conv[cols].values.T)\n",
        "\n",
        "sns.set(font_scale=1)\n",
        "plt.figure(figsize=(10, 10))\n",
        "hm = sns.heatmap(cm, cbar=True, annot=True, square=True, fmt='.2f', annot_kws={'size':10}, \n",
        "                 yticklabels=cols.values, xticklabels=cols.values)\n",
        "plt.show()"
      ],
      "metadata": {
        "colab": {
          "base_uri": "https://localhost:8080/",
          "height": 704
        },
        "id": "adk_vQwwm6pi",
        "outputId": "422ffe36-ea0b-42bb-da7a-6164b3e72acf"
      },
      "execution_count": 36,
      "outputs": [
        {
          "output_type": "display_data",
          "data": {
            "image/png": "[encoded data removed]",
            "text/plain": [
              "<Figure size 720x720 with 2 Axes>"
            ]
          },
          "metadata": {}
        }
      ]
    },
    {
      "cell_type": "markdown",
      "source": [
        "Correlation conclusions:\n",
        "\n",
        "Ok so, as expected, most variables aren't highly correlated with each other, because logically, the players are randomly queued so of course their winrates wouldn't be similar.\n",
        "\n",
        "We do see that variables related to one individual are somewhat correlated(eg. team 100 jungler's average kda has a correlation of 0.5 with team 100 jungler's winrate)\n",
        "\n",
        "I think this isn't too big of a problem, as nothing is super highly correlated...?\n",
        "\n",
        "In other projects, typically a high correlation is like >0.7, I don't know if a correlation of 0.5 even matters(cuz I haven't even taken my data science course yet)"
      ],
      "metadata": {
        "id": "MSpPJ38OonUH"
      }
    },
    {
      "cell_type": "markdown",
      "source": [
        "# Model time?\n",
        "\n",
        "Alright, I've learned a few things, I guess?\n",
        "\n",
        "I haven't learned about proper data cleaning or anything at the moment, so I think I'll just fit my first model..."
      ],
      "metadata": {
        "id": "4KNPzDR1p8kp"
      }
    },
    {
      "cell_type": "code",
      "source": [
        "from sklearn.ensemble import RandomForestClassifier\n",
        "import sklearn.metrics as metrics"
      ],
      "metadata": {
        "id": "EpTCjVPRquQF"
      },
      "execution_count": 37,
      "outputs": []
    },
    {
      "cell_type": "code",
      "source": [
        "train_y = train[\"100_win\"]\n",
        "train_x = train.drop([\"100_win\"], axis=1)"
      ],
      "metadata": {
        "id": "zUlJSFOCq9AR"
      },
      "execution_count": 38,
      "outputs": []
    },
    {
      "cell_type": "code",
      "source": [
        "# I forgot to look at dtypes D:\n",
        "object_type = train_x.dtypes == object\n",
        "object_type.sort_values(ascending=False).head(40)\n",
        "# ok all the object dtypes come from non-numeric/boolean columns. I guess for the first model I'll just drop them all\n",
        "# as none of them are that important(unless if we use them to create new variables...)"
      ],
      "metadata": {
        "colab": {
          "base_uri": "https://localhost:8080/"
        },
        "id": "ADi8bD9er2Rn",
        "outputId": "d1c6e3cd-2633-4bc5-b5d8-05db0c65f611"
      },
      "execution_count": 39,
      "outputs": [
        {
          "output_type": "execute_result",
          "data": {
            "text/plain": [
              "gameid                           True\n",
              "200_JUNGLE_positions_played      True\n",
              "200_TOP_rank                     True\n",
              "100_JUNGLE_positions_played      True\n",
              "200_BOTTOM_rank                  True\n",
              "100_BOTTOM_rank                  True\n",
              "100_BOTTOM_tier                  True\n",
              "100_JUNGLE_tier                  True\n",
              "100_JUNGLE_rank                  True\n",
              "200_BOTTOM_positions_played      True\n",
              "100_BOTTOM_positions_played      True\n",
              "200_UTILITY_positions_played     True\n",
              "200_JUNGLE_tier                  True\n",
              "100_MIDDLE_positions_played      True\n",
              "200_JUNGLE_rank                  True\n",
              "200_MIDDLE_rank                  True\n",
              "200_MIDDLE_tier                  True\n",
              "100_MIDDLE_tier                  True\n",
              "200_MIDDLE_positions_played      True\n",
              "100_MIDDLE_rank                  True\n",
              "200_TOP_tier                     True\n",
              "200_BOTTOM_tier                  True\n",
              "100_UTILITY_tier                 True\n",
              "100_TOP_positions_played         True\n",
              "100_UTILITY_positions_played     True\n",
              "100_UTILITY_rank                 True\n",
              "200_UTILITY_rank                 True\n",
              "200_UTILITY_tier                 True\n",
              "200_TOP_positions_played         True\n",
              "100_TOP_tier                     True\n",
              "100_TOP_rank                     True\n",
              "100_UTILITY_dmg_to_obj_pm       False\n",
              "100_BOTTOM_avg_kda              False\n",
              "100_UTILITY_avg_cs              False\n",
              "100_BOTTOM_avg_game_time        False\n",
              "100_UTILITY_goldpm              False\n",
              "100_UTILITY_dmgpm               False\n",
              "100_BOTTOM_champ_winrate        False\n",
              "100_UTILITY_wr                  False\n",
              "100_BOTTOM_avg_vision           False\n",
              "dtype: bool"
            ]
          },
          "metadata": {},
          "execution_count": 39
        }
      ]
    },
    {
      "cell_type": "code",
      "source": [
        "indexes_to_drop = object_type[object_type == True].index"
      ],
      "metadata": {
        "id": "bvdTDIU4sNzs"
      },
      "execution_count": 40,
      "outputs": []
    },
    {
      "cell_type": "code",
      "source": [
        "train_x.drop(indexes_to_drop, axis=1, inplace=True)"
      ],
      "metadata": {
        "id": "aSdhkbdzseJS"
      },
      "execution_count": 41,
      "outputs": []
    },
    {
      "cell_type": "code",
      "source": [
        "random_state = 7\n",
        "n_estimators = 100\n",
        "\n",
        "model1 = RandomForestClassifier(random_state=random_state, n_estimators = n_estimators)\n",
        "model1.fit(train_x, train_y)"
      ],
      "metadata": {
        "colab": {
          "base_uri": "https://localhost:8080/"
        },
        "id": "7HOaboERpQyr",
        "outputId": "e826002d-0761-4fc1-f82c-1f5a6406023f"
      },
      "execution_count": 65,
      "outputs": [
        {
          "output_type": "execute_result",
          "data": {
            "text/plain": [
              "RandomForestClassifier(random_state=7)"
            ]
          },
          "metadata": {},
          "execution_count": 65
        }
      ]
    },
    {
      "cell_type": "code",
      "source": [
        "print(model1.n_features_in_)\n",
        "print(len(train_x.columns))"
      ],
      "metadata": {
        "colab": {
          "base_uri": "https://localhost:8080/"
        },
        "id": "avBxpNk8s1Vk",
        "outputId": "621f36f6-acfd-433a-df81-a41107be4990"
      },
      "execution_count": 66,
      "outputs": [
        {
          "output_type": "stream",
          "name": "stdout",
          "text": [
            "200\n",
            "200\n"
          ]
        }
      ]
    },
    {
      "cell_type": "code",
      "source": [
        "feature_importances = pd.concat([pd.DataFrame(model1.feature_names_in_), pd.DataFrame(model1.feature_importances_)], axis=1)\n",
        "feature_importances.columns = [\"feature\", \"importance\"]\n",
        "feature_importances.head()"
      ],
      "metadata": {
        "colab": {
          "base_uri": "https://localhost:8080/",
          "height": 206
        },
        "id": "V9shlTTWtco7",
        "outputId": "d22795d8-85fe-4d07-e8f0-968db1528d70"
      },
      "execution_count": 67,
      "outputs": [
        {
          "output_type": "execute_result",
          "data": {
            "text/html": [
              "\n",
              "  <div id=\"df-8bffde8d-e9d7-4b37-ad2c-20d3ef3657d8\">\n",
              "    <div class=\"colab-df-container\">\n",
              "      <div>\n",
              "<style scoped>\n",
              "    .dataframe tbody tr th:only-of-type {\n",
              "        vertical-align: middle;\n",
              "    }\n",
              "\n",
              "    .dataframe tbody tr th {\n",
              "        vertical-align: top;\n",
              "    }\n",
              "\n",
              "    .dataframe thead th {\n",
              "        text-align: right;\n",
              "    }\n",
              "</style>\n",
              "<table border=\"1\" class=\"dataframe\">\n",
              "  <thead>\n",
              "    <tr style=\"text-align: right;\">\n",
              "      <th></th>\n",
              "      <th>feature</th>\n",
              "      <th>importance</th>\n",
              "    </tr>\n",
              "  </thead>\n",
              "  <tbody>\n",
              "    <tr>\n",
              "      <th>0</th>\n",
              "      <td>100_TOP_avg_game_time</td>\n",
              "      <td>0.004543</td>\n",
              "    </tr>\n",
              "    <tr>\n",
              "      <th>1</th>\n",
              "      <td>100_TOP_avg_kda</td>\n",
              "      <td>0.006931</td>\n",
              "    </tr>\n",
              "    <tr>\n",
              "      <th>2</th>\n",
              "      <td>100_TOP_avg_kp</td>\n",
              "      <td>0.003454</td>\n",
              "    </tr>\n",
              "    <tr>\n",
              "      <th>3</th>\n",
              "      <td>100_TOP_avg_vision</td>\n",
              "      <td>0.004765</td>\n",
              "    </tr>\n",
              "    <tr>\n",
              "      <th>4</th>\n",
              "      <td>100_TOP_avg_cs</td>\n",
              "      <td>0.005381</td>\n",
              "    </tr>\n",
              "  </tbody>\n",
              "</table>\n",
              "</div>\n",
              "      <button class=\"colab-df-convert\" onclick=\"convertToInteractive('df-8bffde8d-e9d7-4b37-ad2c-20d3ef3657d8')\"\n",
              "              title=\"Convert this dataframe to an interactive table.\"\n",
              "              style=\"display:none;\">\n",
              "        \n",
              "  <svg xmlns=\"http://www.w3.org/2000/svg\" height=\"24px\"viewBox=\"0 0 24 24\"\n",
              "       width=\"24px\">\n",
              "    <path d=\"M0 0h24v24H0V0z\" fill=\"none\"/>\n",
              "    <path d=\"M18.56 5.44l.94 2.06.94-2.06 2.06-.94-2.06-.94-.94-2.06-.94 2.06-2.06.94zm-11 1L8.5 8.5l.94-2.06 2.06-.94-2.06-.94L8.5 2.5l-.94 2.06-2.06.94zm10 10l.94 2.06.94-2.06 2.06-.94-2.06-.94-.94-2.06-.94 2.06-2.06.94z\"/><path d=\"M17.41 7.96l-1.37-1.37c-.4-.4-.92-.59-1.43-.59-.52 0-1.04.2-1.43.59L10.3 9.45l-7.72 7.72c-.78.78-.78 2.05 0 2.83L4 21.41c.39.39.9.59 1.41.59.51 0 1.02-.2 1.41-.59l7.78-7.78 2.81-2.81c.8-.78.8-2.07 0-2.86zM5.41 20L4 18.59l7.72-7.72 1.47 1.35L5.41 20z\"/>\n",
              "  </svg>\n",
              "      </button>\n",
              "      \n",
              "  <style>\n",
              "    .colab-df-container {\n",
              "      display:flex;\n",
              "      flex-wrap:wrap;\n",
              "      gap: 12px;\n",
              "    }\n",
              "\n",
              "    .colab-df-convert {\n",
              "      background-color: #E8F0FE;\n",
              "      border: none;\n",
              "      border-radius: 50%;\n",
              "      cursor: pointer;\n",
              "      display: none;\n",
              "      fill: #1967D2;\n",
              "      height: 32px;\n",
              "      padding: 0 0 0 0;\n",
              "      width: 32px;\n",
              "    }\n",
              "\n",
              "    .colab-df-convert:hover {\n",
              "      background-color: #E2EBFA;\n",
              "      box-shadow: 0px 1px 2px rgba(60, 64, 67, 0.3), 0px 1px 3px 1px rgba(60, 64, 67, 0.15);\n",
              "      fill: #174EA6;\n",
              "    }\n",
              "\n",
              "    [theme=dark] .colab-df-convert {\n",
              "      background-color: #3B4455;\n",
              "      fill: #D2E3FC;\n",
              "    }\n",
              "\n",
              "    [theme=dark] .colab-df-convert:hover {\n",
              "      background-color: #434B5C;\n",
              "      box-shadow: 0px 1px 3px 1px rgba(0, 0, 0, 0.15);\n",
              "      filter: drop-shadow(0px 1px 2px rgba(0, 0, 0, 0.3));\n",
              "      fill: #FFFFFF;\n",
              "    }\n",
              "  </style>\n",
              "\n",
              "      <script>\n",
              "        const buttonEl =\n",
              "          document.querySelector('#df-8bffde8d-e9d7-4b37-ad2c-20d3ef3657d8 button.colab-df-convert');\n",
              "        buttonEl.style.display =\n",
              "          google.colab.kernel.accessAllowed ? 'block' : 'none';\n",
              "\n",
              "        async function convertToInteractive(key) {\n",
              "          const element = document.querySelector('#df-8bffde8d-e9d7-4b37-ad2c-20d3ef3657d8');\n",
              "          const dataTable =\n",
              "            await google.colab.kernel.invokeFunction('convertToInteractive',\n",
              "                                                     [key], {});\n",
              "          if (!dataTable) return;\n",
              "\n",
              "          const docLinkHtml = 'Like what you see? Visit the ' +\n",
              "            '<a target=\"_blank\" href=https://colab.research.google.com/notebooks/data_table.ipynb>data table notebook</a>'\n",
              "            + ' to learn more about interactive tables.';\n",
              "          element.innerHTML = '';\n",
              "          dataTable['output_type'] = 'display_data';\n",
              "          await google.colab.output.renderOutput(dataTable, element);\n",
              "          const docLink = document.createElement('div');\n",
              "          docLink.innerHTML = docLinkHtml;\n",
              "          element.appendChild(docLink);\n",
              "        }\n",
              "      </script>\n",
              "    </div>\n",
              "  </div>\n",
              "  "
            ],
            "text/plain": [
              "                 feature  importance\n",
              "0  100_TOP_avg_game_time    0.004543\n",
              "1        100_TOP_avg_kda    0.006931\n",
              "2         100_TOP_avg_kp    0.003454\n",
              "3     100_TOP_avg_vision    0.004765\n",
              "4         100_TOP_avg_cs    0.005381"
            ]
          },
          "metadata": {},
          "execution_count": 67
        }
      ]
    },
    {
      "cell_type": "code",
      "source": [
        "feature_importances.sort_values(by=\"importance\", ascending=False).head(20)"
      ],
      "metadata": {
        "colab": {
          "base_uri": "https://localhost:8080/",
          "height": 677
        },
        "id": "VSuuYJOCuk8b",
        "outputId": "caca75aa-4fc7-434f-9da0-c248b2280337"
      },
      "execution_count": 68,
      "outputs": [
        {
          "output_type": "execute_result",
          "data": {
            "text/html": [
              "\n",
              "  <div id=\"df-ea148c99-acec-4d42-8f6a-d2769beb25e3\">\n",
              "    <div class=\"colab-df-container\">\n",
              "      <div>\n",
              "<style scoped>\n",
              "    .dataframe tbody tr th:only-of-type {\n",
              "        vertical-align: middle;\n",
              "    }\n",
              "\n",
              "    .dataframe tbody tr th {\n",
              "        vertical-align: top;\n",
              "    }\n",
              "\n",
              "    .dataframe thead th {\n",
              "        text-align: right;\n",
              "    }\n",
              "</style>\n",
              "<table border=\"1\" class=\"dataframe\">\n",
              "  <thead>\n",
              "    <tr style=\"text-align: right;\">\n",
              "      <th></th>\n",
              "      <th>feature</th>\n",
              "      <th>importance</th>\n",
              "    </tr>\n",
              "  </thead>\n",
              "  <tbody>\n",
              "    <tr>\n",
              "      <th>99</th>\n",
              "      <td>100_UTILITY_champ_winrate</td>\n",
              "      <td>0.031197</td>\n",
              "    </tr>\n",
              "    <tr>\n",
              "      <th>39</th>\n",
              "      <td>100_JUNGLE_champ_winrate</td>\n",
              "      <td>0.027271</td>\n",
              "    </tr>\n",
              "    <tr>\n",
              "      <th>159</th>\n",
              "      <td>200_MIDDLE_champ_winrate</td>\n",
              "      <td>0.025112</td>\n",
              "    </tr>\n",
              "    <tr>\n",
              "      <th>59</th>\n",
              "      <td>100_MIDDLE_champ_winrate</td>\n",
              "      <td>0.024655</td>\n",
              "    </tr>\n",
              "    <tr>\n",
              "      <th>19</th>\n",
              "      <td>100_TOP_champ_winrate</td>\n",
              "      <td>0.023988</td>\n",
              "    </tr>\n",
              "    <tr>\n",
              "      <th>139</th>\n",
              "      <td>200_JUNGLE_champ_winrate</td>\n",
              "      <td>0.021291</td>\n",
              "    </tr>\n",
              "    <tr>\n",
              "      <th>199</th>\n",
              "      <td>200_UTILITY_champ_winrate</td>\n",
              "      <td>0.018967</td>\n",
              "    </tr>\n",
              "    <tr>\n",
              "      <th>119</th>\n",
              "      <td>200_TOP_champ_winrate</td>\n",
              "      <td>0.018292</td>\n",
              "    </tr>\n",
              "    <tr>\n",
              "      <th>79</th>\n",
              "      <td>100_BOTTOM_champ_winrate</td>\n",
              "      <td>0.017933</td>\n",
              "    </tr>\n",
              "    <tr>\n",
              "      <th>148</th>\n",
              "      <td>200_MIDDLE_wr</td>\n",
              "      <td>0.013612</td>\n",
              "    </tr>\n",
              "    <tr>\n",
              "      <th>125</th>\n",
              "      <td>200_JUNGLE_goldpm</td>\n",
              "      <td>0.011332</td>\n",
              "    </tr>\n",
              "    <tr>\n",
              "      <th>108</th>\n",
              "      <td>200_TOP_wr</td>\n",
              "      <td>0.010710</td>\n",
              "    </tr>\n",
              "    <tr>\n",
              "      <th>179</th>\n",
              "      <td>200_BOTTOM_champ_winrate</td>\n",
              "      <td>0.010228</td>\n",
              "    </tr>\n",
              "    <tr>\n",
              "      <th>8</th>\n",
              "      <td>100_TOP_wr</td>\n",
              "      <td>0.009834</td>\n",
              "    </tr>\n",
              "    <tr>\n",
              "      <th>141</th>\n",
              "      <td>200_MIDDLE_avg_kda</td>\n",
              "      <td>0.009644</td>\n",
              "    </tr>\n",
              "    <tr>\n",
              "      <th>168</th>\n",
              "      <td>200_BOTTOM_wr</td>\n",
              "      <td>0.009419</td>\n",
              "    </tr>\n",
              "    <tr>\n",
              "      <th>128</th>\n",
              "      <td>200_JUNGLE_wr</td>\n",
              "      <td>0.009108</td>\n",
              "    </tr>\n",
              "    <tr>\n",
              "      <th>181</th>\n",
              "      <td>200_UTILITY_avg_kda</td>\n",
              "      <td>0.007953</td>\n",
              "    </tr>\n",
              "    <tr>\n",
              "      <th>188</th>\n",
              "      <td>200_UTILITY_wr</td>\n",
              "      <td>0.007666</td>\n",
              "    </tr>\n",
              "    <tr>\n",
              "      <th>121</th>\n",
              "      <td>200_JUNGLE_avg_kda</td>\n",
              "      <td>0.007614</td>\n",
              "    </tr>\n",
              "  </tbody>\n",
              "</table>\n",
              "</div>\n",
              "      <button class=\"colab-df-convert\" onclick=\"convertToInteractive('df-ea148c99-acec-4d42-8f6a-d2769beb25e3')\"\n",
              "              title=\"Convert this dataframe to an interactive table.\"\n",
              "              style=\"display:none;\">\n",
              "        \n",
              "  <svg xmlns=\"http://www.w3.org/2000/svg\" height=\"24px\"viewBox=\"0 0 24 24\"\n",
              "       width=\"24px\">\n",
              "    <path d=\"M0 0h24v24H0V0z\" fill=\"none\"/>\n",
              "    <path d=\"M18.56 5.44l.94 2.06.94-2.06 2.06-.94-2.06-.94-.94-2.06-.94 2.06-2.06.94zm-11 1L8.5 8.5l.94-2.06 2.06-.94-2.06-.94L8.5 2.5l-.94 2.06-2.06.94zm10 10l.94 2.06.94-2.06 2.06-.94-2.06-.94-.94-2.06-.94 2.06-2.06.94z\"/><path d=\"M17.41 7.96l-1.37-1.37c-.4-.4-.92-.59-1.43-.59-.52 0-1.04.2-1.43.59L10.3 9.45l-7.72 7.72c-.78.78-.78 2.05 0 2.83L4 21.41c.39.39.9.59 1.41.59.51 0 1.02-.2 1.41-.59l7.78-7.78 2.81-2.81c.8-.78.8-2.07 0-2.86zM5.41 20L4 18.59l7.72-7.72 1.47 1.35L5.41 20z\"/>\n",
              "  </svg>\n",
              "      </button>\n",
              "      \n",
              "  <style>\n",
              "    .colab-df-container {\n",
              "      display:flex;\n",
              "      flex-wrap:wrap;\n",
              "      gap: 12px;\n",
              "    }\n",
              "\n",
              "    .colab-df-convert {\n",
              "      background-color: #E8F0FE;\n",
              "      border: none;\n",
              "      border-radius: 50%;\n",
              "      cursor: pointer;\n",
              "      display: none;\n",
              "      fill: #1967D2;\n",
              "      height: 32px;\n",
              "      padding: 0 0 0 0;\n",
              "      width: 32px;\n",
              "    }\n",
              "\n",
              "    .colab-df-convert:hover {\n",
              "      background-color: #E2EBFA;\n",
              "      box-shadow: 0px 1px 2px rgba(60, 64, 67, 0.3), 0px 1px 3px 1px rgba(60, 64, 67, 0.15);\n",
              "      fill: #174EA6;\n",
              "    }\n",
              "\n",
              "    [theme=dark] .colab-df-convert {\n",
              "      background-color: #3B4455;\n",
              "      fill: #D2E3FC;\n",
              "    }\n",
              "\n",
              "    [theme=dark] .colab-df-convert:hover {\n",
              "      background-color: #434B5C;\n",
              "      box-shadow: 0px 1px 3px 1px rgba(0, 0, 0, 0.15);\n",
              "      filter: drop-shadow(0px 1px 2px rgba(0, 0, 0, 0.3));\n",
              "      fill: #FFFFFF;\n",
              "    }\n",
              "  </style>\n",
              "\n",
              "      <script>\n",
              "        const buttonEl =\n",
              "          document.querySelector('#df-ea148c99-acec-4d42-8f6a-d2769beb25e3 button.colab-df-convert');\n",
              "        buttonEl.style.display =\n",
              "          google.colab.kernel.accessAllowed ? 'block' : 'none';\n",
              "\n",
              "        async function convertToInteractive(key) {\n",
              "          const element = document.querySelector('#df-ea148c99-acec-4d42-8f6a-d2769beb25e3');\n",
              "          const dataTable =\n",
              "            await google.colab.kernel.invokeFunction('convertToInteractive',\n",
              "                                                     [key], {});\n",
              "          if (!dataTable) return;\n",
              "\n",
              "          const docLinkHtml = 'Like what you see? Visit the ' +\n",
              "            '<a target=\"_blank\" href=https://colab.research.google.com/notebooks/data_table.ipynb>data table notebook</a>'\n",
              "            + ' to learn more about interactive tables.';\n",
              "          element.innerHTML = '';\n",
              "          dataTable['output_type'] = 'display_data';\n",
              "          await google.colab.output.renderOutput(dataTable, element);\n",
              "          const docLink = document.createElement('div');\n",
              "          docLink.innerHTML = docLinkHtml;\n",
              "          element.appendChild(docLink);\n",
              "        }\n",
              "      </script>\n",
              "    </div>\n",
              "  </div>\n",
              "  "
            ],
            "text/plain": [
              "                       feature  importance\n",
              "99   100_UTILITY_champ_winrate    0.031197\n",
              "39    100_JUNGLE_champ_winrate    0.027271\n",
              "159   200_MIDDLE_champ_winrate    0.025112\n",
              "59    100_MIDDLE_champ_winrate    0.024655\n",
              "19       100_TOP_champ_winrate    0.023988\n",
              "139   200_JUNGLE_champ_winrate    0.021291\n",
              "199  200_UTILITY_champ_winrate    0.018967\n",
              "119      200_TOP_champ_winrate    0.018292\n",
              "79    100_BOTTOM_champ_winrate    0.017933\n",
              "148              200_MIDDLE_wr    0.013612\n",
              "125          200_JUNGLE_goldpm    0.011332\n",
              "108                 200_TOP_wr    0.010710\n",
              "179   200_BOTTOM_champ_winrate    0.010228\n",
              "8                   100_TOP_wr    0.009834\n",
              "141         200_MIDDLE_avg_kda    0.009644\n",
              "168              200_BOTTOM_wr    0.009419\n",
              "128              200_JUNGLE_wr    0.009108\n",
              "181        200_UTILITY_avg_kda    0.007953\n",
              "188             200_UTILITY_wr    0.007666\n",
              "121         200_JUNGLE_avg_kda    0.007614"
            ]
          },
          "metadata": {},
          "execution_count": 68
        }
      ]
    },
    {
      "cell_type": "markdown",
      "source": [
        "## Creating the model part 2\n",
        "\n",
        "Ok so basically I did a bunch of exploration, did minimal cleaning and now I've fitted a random forest classifier. No idea how accurate it is(even on the training data), but it's good to see that it placed importance on the things I thought it would.\n",
        "\n",
        "It's time to look at the model accuracy on the training data and stuff."
      ],
      "metadata": {
        "id": "GJiEJiIuuqOe"
      }
    },
    {
      "cell_type": "code",
      "source": [
        "pred_y = model1.predict(train_x)\n",
        "accuracy_train = metrics.accuracy_score(train_y, pred_y)\n",
        "print(\"training accuracy:\", accuracy_train)"
      ],
      "metadata": {
        "colab": {
          "base_uri": "https://localhost:8080/"
        },
        "id": "3dTmB0lhu46t",
        "outputId": "430205d3-5724-4d64-cb6a-e1c629fc7591"
      },
      "execution_count": 69,
      "outputs": [
        {
          "output_type": "stream",
          "name": "stdout",
          "text": [
            "training accuracy: 1.0\n"
          ]
        }
      ]
    },
    {
      "cell_type": "markdown",
      "source": [
        "This is not good. Possible reasons to explore:\n",
        " - did my training data include duplicates...like a lot of duplicates? I don't think so, because I coded it to not gather data for the same gameid twice, but I guess I should check...\n",
        " - is my model overfitting(probably) --> I don't even know what to say here...like a training accuracy of 100% means the model is probably overfitted, right?\n",
        " - is my DATA just collected badly? (more on that later)\n",
        "\n",
        " I was so shocked that I had to verify myself. I did not trust the accuracy_score."
      ],
      "metadata": {
        "id": "wNN2fUCs8o6U"
      }
    },
    {
      "cell_type": "code",
      "source": [
        "pd.concat([pd.DataFrame(train_y), pd.DataFrame(pred_y)], axis=1, ignore_index=True)"
      ],
      "metadata": {
        "colab": {
          "base_uri": "https://localhost:8080/",
          "height": 424
        },
        "id": "qVgpRtxXvUux",
        "outputId": "37dcacb1-0abd-4975-ce80-1cac72f1acc2"
      },
      "execution_count": 70,
      "outputs": [
        {
          "output_type": "execute_result",
          "data": {
            "text/html": [
              "\n",
              "  <div id=\"df-5e6168c5-d9f2-452e-ad35-d58de89e9dde\">\n",
              "    <div class=\"colab-df-container\">\n",
              "      <div>\n",
              "<style scoped>\n",
              "    .dataframe tbody tr th:only-of-type {\n",
              "        vertical-align: middle;\n",
              "    }\n",
              "\n",
              "    .dataframe tbody tr th {\n",
              "        vertical-align: top;\n",
              "    }\n",
              "\n",
              "    .dataframe thead th {\n",
              "        text-align: right;\n",
              "    }\n",
              "</style>\n",
              "<table border=\"1\" class=\"dataframe\">\n",
              "  <thead>\n",
              "    <tr style=\"text-align: right;\">\n",
              "      <th></th>\n",
              "      <th>0</th>\n",
              "      <th>1</th>\n",
              "    </tr>\n",
              "  </thead>\n",
              "  <tbody>\n",
              "    <tr>\n",
              "      <th>0</th>\n",
              "      <td>0.0</td>\n",
              "      <td>0.0</td>\n",
              "    </tr>\n",
              "    <tr>\n",
              "      <th>1</th>\n",
              "      <td>0.0</td>\n",
              "      <td>0.0</td>\n",
              "    </tr>\n",
              "    <tr>\n",
              "      <th>2</th>\n",
              "      <td>0.0</td>\n",
              "      <td>0.0</td>\n",
              "    </tr>\n",
              "    <tr>\n",
              "      <th>3</th>\n",
              "      <td>NaN</td>\n",
              "      <td>1.0</td>\n",
              "    </tr>\n",
              "    <tr>\n",
              "      <th>4</th>\n",
              "      <td>NaN</td>\n",
              "      <td>1.0</td>\n",
              "    </tr>\n",
              "    <tr>\n",
              "      <th>...</th>\n",
              "      <td>...</td>\n",
              "      <td>...</td>\n",
              "    </tr>\n",
              "    <tr>\n",
              "      <th>1244</th>\n",
              "      <td>1.0</td>\n",
              "      <td>NaN</td>\n",
              "    </tr>\n",
              "    <tr>\n",
              "      <th>1245</th>\n",
              "      <td>1.0</td>\n",
              "      <td>NaN</td>\n",
              "    </tr>\n",
              "    <tr>\n",
              "      <th>1246</th>\n",
              "      <td>0.0</td>\n",
              "      <td>NaN</td>\n",
              "    </tr>\n",
              "    <tr>\n",
              "      <th>1248</th>\n",
              "      <td>0.0</td>\n",
              "      <td>NaN</td>\n",
              "    </tr>\n",
              "    <tr>\n",
              "      <th>1249</th>\n",
              "      <td>1.0</td>\n",
              "      <td>NaN</td>\n",
              "    </tr>\n",
              "  </tbody>\n",
              "</table>\n",
              "<p>1206 rows × 2 columns</p>\n",
              "</div>\n",
              "      <button class=\"colab-df-convert\" onclick=\"convertToInteractive('df-5e6168c5-d9f2-452e-ad35-d58de89e9dde')\"\n",
              "              title=\"Convert this dataframe to an interactive table.\"\n",
              "              style=\"display:none;\">\n",
              "        \n",
              "  <svg xmlns=\"http://www.w3.org/2000/svg\" height=\"24px\"viewBox=\"0 0 24 24\"\n",
              "       width=\"24px\">\n",
              "    <path d=\"M0 0h24v24H0V0z\" fill=\"none\"/>\n",
              "    <path d=\"M18.56 5.44l.94 2.06.94-2.06 2.06-.94-2.06-.94-.94-2.06-.94 2.06-2.06.94zm-11 1L8.5 8.5l.94-2.06 2.06-.94-2.06-.94L8.5 2.5l-.94 2.06-2.06.94zm10 10l.94 2.06.94-2.06 2.06-.94-2.06-.94-.94-2.06-.94 2.06-2.06.94z\"/><path d=\"M17.41 7.96l-1.37-1.37c-.4-.4-.92-.59-1.43-.59-.52 0-1.04.2-1.43.59L10.3 9.45l-7.72 7.72c-.78.78-.78 2.05 0 2.83L4 21.41c.39.39.9.59 1.41.59.51 0 1.02-.2 1.41-.59l7.78-7.78 2.81-2.81c.8-.78.8-2.07 0-2.86zM5.41 20L4 18.59l7.72-7.72 1.47 1.35L5.41 20z\"/>\n",
              "  </svg>\n",
              "      </button>\n",
              "      \n",
              "  <style>\n",
              "    .colab-df-container {\n",
              "      display:flex;\n",
              "      flex-wrap:wrap;\n",
              "      gap: 12px;\n",
              "    }\n",
              "\n",
              "    .colab-df-convert {\n",
              "      background-color: #E8F0FE;\n",
              "      border: none;\n",
              "      border-radius: 50%;\n",
              "      cursor: pointer;\n",
              "      display: none;\n",
              "      fill: #1967D2;\n",
              "      height: 32px;\n",
              "      padding: 0 0 0 0;\n",
              "      width: 32px;\n",
              "    }\n",
              "\n",
              "    .colab-df-convert:hover {\n",
              "      background-color: #E2EBFA;\n",
              "      box-shadow: 0px 1px 2px rgba(60, 64, 67, 0.3), 0px 1px 3px 1px rgba(60, 64, 67, 0.15);\n",
              "      fill: #174EA6;\n",
              "    }\n",
              "\n",
              "    [theme=dark] .colab-df-convert {\n",
              "      background-color: #3B4455;\n",
              "      fill: #D2E3FC;\n",
              "    }\n",
              "\n",
              "    [theme=dark] .colab-df-convert:hover {\n",
              "      background-color: #434B5C;\n",
              "      box-shadow: 0px 1px 3px 1px rgba(0, 0, 0, 0.15);\n",
              "      filter: drop-shadow(0px 1px 2px rgba(0, 0, 0, 0.3));\n",
              "      fill: #FFFFFF;\n",
              "    }\n",
              "  </style>\n",
              "\n",
              "      <script>\n",
              "        const buttonEl =\n",
              "          document.querySelector('#df-5e6168c5-d9f2-452e-ad35-d58de89e9dde button.colab-df-convert');\n",
              "        buttonEl.style.display =\n",
              "          google.colab.kernel.accessAllowed ? 'block' : 'none';\n",
              "\n",
              "        async function convertToInteractive(key) {\n",
              "          const element = document.querySelector('#df-5e6168c5-d9f2-452e-ad35-d58de89e9dde');\n",
              "          const dataTable =\n",
              "            await google.colab.kernel.invokeFunction('convertToInteractive',\n",
              "                                                     [key], {});\n",
              "          if (!dataTable) return;\n",
              "\n",
              "          const docLinkHtml = 'Like what you see? Visit the ' +\n",
              "            '<a target=\"_blank\" href=https://colab.research.google.com/notebooks/data_table.ipynb>data table notebook</a>'\n",
              "            + ' to learn more about interactive tables.';\n",
              "          element.innerHTML = '';\n",
              "          dataTable['output_type'] = 'display_data';\n",
              "          await google.colab.output.renderOutput(dataTable, element);\n",
              "          const docLink = document.createElement('div');\n",
              "          docLink.innerHTML = docLinkHtml;\n",
              "          element.appendChild(docLink);\n",
              "        }\n",
              "      </script>\n",
              "    </div>\n",
              "  </div>\n",
              "  "
            ],
            "text/plain": [
              "        0    1\n",
              "0     0.0  0.0\n",
              "1     0.0  0.0\n",
              "2     0.0  0.0\n",
              "3     NaN  1.0\n",
              "4     NaN  1.0\n",
              "...   ...  ...\n",
              "1244  1.0  NaN\n",
              "1245  1.0  NaN\n",
              "1246  0.0  NaN\n",
              "1248  0.0  NaN\n",
              "1249  1.0  NaN\n",
              "\n",
              "[1206 rows x 2 columns]"
            ]
          },
          "metadata": {},
          "execution_count": 70
        }
      ]
    },
    {
      "cell_type": "code",
      "source": [
        "print(train_y.isnull().sum())\n",
        "print(pd.DataFrame(pred_y).isnull().sum())\n",
        "print(len(train_y), len(pd.DataFrame(pred_y)))"
      ],
      "metadata": {
        "colab": {
          "base_uri": "https://localhost:8080/"
        },
        "id": "gpq--RTfvuG3",
        "outputId": "b310b9ed-91c7-46e8-a159-420594965687"
      },
      "execution_count": 71,
      "outputs": [
        {
          "output_type": "stream",
          "name": "stdout",
          "text": [
            "0\n",
            "0    0\n",
            "dtype: int64\n",
            "993 993\n"
          ]
        }
      ]
    },
    {
      "cell_type": "code",
      "source": [
        "predicted_scores = pd.DataFrame(pred_y)[0]"
      ],
      "metadata": {
        "id": "dTmdhREywMo1"
      },
      "execution_count": 72,
      "outputs": []
    },
    {
      "cell_type": "code",
      "source": [
        "predicted_scores.reset_index(drop=True, inplace=True)\n",
        "y_train_index_dropped = train_y.reset_index(drop=True)"
      ],
      "metadata": {
        "id": "YSlqJpMmwW_M"
      },
      "execution_count": 73,
      "outputs": []
    },
    {
      "cell_type": "code",
      "source": [
        "pred_train_tbl = pd.concat([predicted_scores, y_train_index_dropped], axis=1)\n",
        "pred_train_tbl.head()"
      ],
      "metadata": {
        "colab": {
          "base_uri": "https://localhost:8080/",
          "height": 206
        },
        "id": "TKH5iwrJxJTq",
        "outputId": "791630fa-235c-42d4-ae76-17699232dde3"
      },
      "execution_count": 74,
      "outputs": [
        {
          "output_type": "execute_result",
          "data": {
            "text/html": [
              "\n",
              "  <div id=\"df-a708a366-6b1e-417c-bcf4-fb1fdd007fb2\">\n",
              "    <div class=\"colab-df-container\">\n",
              "      <div>\n",
              "<style scoped>\n",
              "    .dataframe tbody tr th:only-of-type {\n",
              "        vertical-align: middle;\n",
              "    }\n",
              "\n",
              "    .dataframe tbody tr th {\n",
              "        vertical-align: top;\n",
              "    }\n",
              "\n",
              "    .dataframe thead th {\n",
              "        text-align: right;\n",
              "    }\n",
              "</style>\n",
              "<table border=\"1\" class=\"dataframe\">\n",
              "  <thead>\n",
              "    <tr style=\"text-align: right;\">\n",
              "      <th></th>\n",
              "      <th>0</th>\n",
              "      <th>100_win</th>\n",
              "    </tr>\n",
              "  </thead>\n",
              "  <tbody>\n",
              "    <tr>\n",
              "      <th>0</th>\n",
              "      <td>0</td>\n",
              "      <td>0</td>\n",
              "    </tr>\n",
              "    <tr>\n",
              "      <th>1</th>\n",
              "      <td>0</td>\n",
              "      <td>0</td>\n",
              "    </tr>\n",
              "    <tr>\n",
              "      <th>2</th>\n",
              "      <td>0</td>\n",
              "      <td>0</td>\n",
              "    </tr>\n",
              "    <tr>\n",
              "      <th>3</th>\n",
              "      <td>1</td>\n",
              "      <td>1</td>\n",
              "    </tr>\n",
              "    <tr>\n",
              "      <th>4</th>\n",
              "      <td>1</td>\n",
              "      <td>1</td>\n",
              "    </tr>\n",
              "  </tbody>\n",
              "</table>\n",
              "</div>\n",
              "      <button class=\"colab-df-convert\" onclick=\"convertToInteractive('df-a708a366-6b1e-417c-bcf4-fb1fdd007fb2')\"\n",
              "              title=\"Convert this dataframe to an interactive table.\"\n",
              "              style=\"display:none;\">\n",
              "        \n",
              "  <svg xmlns=\"http://www.w3.org/2000/svg\" height=\"24px\"viewBox=\"0 0 24 24\"\n",
              "       width=\"24px\">\n",
              "    <path d=\"M0 0h24v24H0V0z\" fill=\"none\"/>\n",
              "    <path d=\"M18.56 5.44l.94 2.06.94-2.06 2.06-.94-2.06-.94-.94-2.06-.94 2.06-2.06.94zm-11 1L8.5 8.5l.94-2.06 2.06-.94-2.06-.94L8.5 2.5l-.94 2.06-2.06.94zm10 10l.94 2.06.94-2.06 2.06-.94-2.06-.94-.94-2.06-.94 2.06-2.06.94z\"/><path d=\"M17.41 7.96l-1.37-1.37c-.4-.4-.92-.59-1.43-.59-.52 0-1.04.2-1.43.59L10.3 9.45l-7.72 7.72c-.78.78-.78 2.05 0 2.83L4 21.41c.39.39.9.59 1.41.59.51 0 1.02-.2 1.41-.59l7.78-7.78 2.81-2.81c.8-.78.8-2.07 0-2.86zM5.41 20L4 18.59l7.72-7.72 1.47 1.35L5.41 20z\"/>\n",
              "  </svg>\n",
              "      </button>\n",
              "      \n",
              "  <style>\n",
              "    .colab-df-container {\n",
              "      display:flex;\n",
              "      flex-wrap:wrap;\n",
              "      gap: 12px;\n",
              "    }\n",
              "\n",
              "    .colab-df-convert {\n",
              "      background-color: #E8F0FE;\n",
              "      border: none;\n",
              "      border-radius: 50%;\n",
              "      cursor: pointer;\n",
              "      display: none;\n",
              "      fill: #1967D2;\n",
              "      height: 32px;\n",
              "      padding: 0 0 0 0;\n",
              "      width: 32px;\n",
              "    }\n",
              "\n",
              "    .colab-df-convert:hover {\n",
              "      background-color: #E2EBFA;\n",
              "      box-shadow: 0px 1px 2px rgba(60, 64, 67, 0.3), 0px 1px 3px 1px rgba(60, 64, 67, 0.15);\n",
              "      fill: #174EA6;\n",
              "    }\n",
              "\n",
              "    [theme=dark] .colab-df-convert {\n",
              "      background-color: #3B4455;\n",
              "      fill: #D2E3FC;\n",
              "    }\n",
              "\n",
              "    [theme=dark] .colab-df-convert:hover {\n",
              "      background-color: #434B5C;\n",
              "      box-shadow: 0px 1px 3px 1px rgba(0, 0, 0, 0.15);\n",
              "      filter: drop-shadow(0px 1px 2px rgba(0, 0, 0, 0.3));\n",
              "      fill: #FFFFFF;\n",
              "    }\n",
              "  </style>\n",
              "\n",
              "      <script>\n",
              "        const buttonEl =\n",
              "          document.querySelector('#df-a708a366-6b1e-417c-bcf4-fb1fdd007fb2 button.colab-df-convert');\n",
              "        buttonEl.style.display =\n",
              "          google.colab.kernel.accessAllowed ? 'block' : 'none';\n",
              "\n",
              "        async function convertToInteractive(key) {\n",
              "          const element = document.querySelector('#df-a708a366-6b1e-417c-bcf4-fb1fdd007fb2');\n",
              "          const dataTable =\n",
              "            await google.colab.kernel.invokeFunction('convertToInteractive',\n",
              "                                                     [key], {});\n",
              "          if (!dataTable) return;\n",
              "\n",
              "          const docLinkHtml = 'Like what you see? Visit the ' +\n",
              "            '<a target=\"_blank\" href=https://colab.research.google.com/notebooks/data_table.ipynb>data table notebook</a>'\n",
              "            + ' to learn more about interactive tables.';\n",
              "          element.innerHTML = '';\n",
              "          dataTable['output_type'] = 'display_data';\n",
              "          await google.colab.output.renderOutput(dataTable, element);\n",
              "          const docLink = document.createElement('div');\n",
              "          docLink.innerHTML = docLinkHtml;\n",
              "          element.appendChild(docLink);\n",
              "        }\n",
              "      </script>\n",
              "    </div>\n",
              "  </div>\n",
              "  "
            ],
            "text/plain": [
              "   0  100_win\n",
              "0  0        0\n",
              "1  0        0\n",
              "2  0        0\n",
              "3  1        1\n",
              "4  1        1"
            ]
          },
          "metadata": {},
          "execution_count": 74
        }
      ]
    },
    {
      "cell_type": "code",
      "source": [
        "(pred_train_tbl[0] == pred_train_tbl[\"100_win\"]).sum()"
      ],
      "metadata": {
        "colab": {
          "base_uri": "https://localhost:8080/"
        },
        "id": "zApSpxZKxVsJ",
        "outputId": "3de7df94-19bd-485a-eda7-9d93b01b7c07"
      },
      "execution_count": 75,
      "outputs": [
        {
          "output_type": "execute_result",
          "data": {
            "text/plain": [
              "993"
            ]
          },
          "metadata": {},
          "execution_count": 75
        }
      ]
    },
    {
      "cell_type": "markdown",
      "source": [
        "## Moving on...\n",
        "\n",
        "Ok so either the model is really overfit(it 100% is)\n",
        "\n",
        "or something went wrong(probably this one)\n",
        "\n",
        "let's try predicting on the test data and see what happens..."
      ],
      "metadata": {
        "id": "PC1IJMQDxyef"
      }
    },
    {
      "cell_type": "code",
      "source": [
        "train_x.columns"
      ],
      "metadata": {
        "colab": {
          "base_uri": "https://localhost:8080/"
        },
        "id": "DmKkDcZhxyDZ",
        "outputId": "03de4a80-9584-471a-df1c-e4de652b84bb"
      },
      "execution_count": 76,
      "outputs": [
        {
          "output_type": "execute_result",
          "data": {
            "text/plain": [
              "Index(['100_TOP_avg_game_time', '100_TOP_avg_kda', '100_TOP_avg_kp',\n",
              "       '100_TOP_avg_vision', '100_TOP_avg_cs', '100_TOP_goldpm',\n",
              "       '100_TOP_dmgpm', '100_TOP_dmg_to_obj_pm', '100_TOP_wr', '100_TOP_lp',\n",
              "       ...\n",
              "       '200_UTILITY_wins', '200_UTILITY_losses', '200_UTILITY_veteran',\n",
              "       '200_UTILITY_inactive', '200_UTILITY_freshblood',\n",
              "       '200_UTILITY_hotstreak', '200_UTILITY_role_total_played',\n",
              "       '200_UTILITY_role_wr', '200_UTILITY_champ_games_played',\n",
              "       '200_UTILITY_champ_winrate'],\n",
              "      dtype='object', length=200)"
            ]
          },
          "metadata": {},
          "execution_count": 76
        }
      ]
    },
    {
      "cell_type": "code",
      "source": [
        "test_y = test[\"100_win\"]\n",
        "test_x = test[train_x.columns]"
      ],
      "metadata": {
        "id": "VbfBpnoRyM14"
      },
      "execution_count": 77,
      "outputs": []
    },
    {
      "cell_type": "code",
      "source": [
        "pred_test = model1.predict(test_x)"
      ],
      "metadata": {
        "id": "D-4sK_yvyqct"
      },
      "execution_count": 78,
      "outputs": []
    },
    {
      "cell_type": "code",
      "source": [
        "accuracy_test = metrics.accuracy_score(test_y, pred_test)\n",
        "print(\"accuracy:\", accuracy_test)"
      ],
      "metadata": {
        "colab": {
          "base_uri": "https://localhost:8080/"
        },
        "id": "X7UHDPhhyyLs",
        "outputId": "16fca899-9ecf-4abf-b46d-ef9cb1e06ad1"
      },
      "execution_count": 79,
      "outputs": [
        {
          "output_type": "stream",
          "name": "stdout",
          "text": [
            "accuracy: 0.77431906614786\n"
          ]
        }
      ]
    },
    {
      "cell_type": "markdown",
      "source": [
        "85% accuracy? that's good I guess...unless if my DATA is bad!!\n",
        "\n",
        "I have no idea what happened but I'LL TAKE IT!!\n",
        "\n",
        "Note: I reloaded the notebook and got 77% accuracy...\n",
        "\n",
        "How did I get 100% training accuracy tho...I think I'll mess around with the random forest parameters and see if anything happens...\n",
        "\n",
        "I'll just serialize the model for now"
      ],
      "metadata": {
        "id": "qqSNJly-zca5"
      }
    },
    {
      "cell_type": "markdown",
      "source": [
        "## Model metrics\n",
        "\n",
        "eg. Confusion Matrix"
      ],
      "metadata": {
        "id": "YRvVQD6Y90K-"
      }
    },
    {
      "cell_type": "code",
      "source": [
        "confusion = metrics.confusion_matrix(test_y, pred_test)\n",
        "print(f\"Confusion matrix:\\n{confusion}\")\n",
        "\n",
        "# TP FP\n",
        "# FN TN"
      ],
      "metadata": {
        "colab": {
          "base_uri": "https://localhost:8080/"
        },
        "id": "761VaGpg92w0",
        "outputId": "517f2107-0d84-4459-947a-b391e421c90e"
      },
      "execution_count": 57,
      "outputs": [
        {
          "output_type": "stream",
          "name": "stdout",
          "text": [
            "Confusion matrix:\n",
            "[[ 84  44]\n",
            " [ 14 115]]\n"
          ]
        }
      ]
    },
    {
      "cell_type": "markdown",
      "source": [
        "ok but see I reloaded the notebook and now I have a 77% accuracy...\n",
        "\n",
        "85% True Positive rate, 72% True Negative rate"
      ],
      "metadata": {
        "id": "cXaPw5ma-tzf"
      }
    },
    {
      "cell_type": "code",
      "source": [
        "import pickle"
      ],
      "metadata": {
        "id": "dCPD7eRtzViA"
      },
      "execution_count": 58,
      "outputs": []
    },
    {
      "cell_type": "code",
      "source": [
        "file = open(\"model1.bin\", \"wb\")\n",
        "pickle.dump(model1, file)\n",
        "file.close()"
      ],
      "metadata": {
        "id": "aVYo7kwrzLte"
      },
      "execution_count": 59,
      "outputs": []
    },
    {
      "cell_type": "code",
      "source": [
        "import json"
      ],
      "metadata": {
        "id": "CC3rPG2fz3xb"
      },
      "execution_count": 60,
      "outputs": []
    },
    {
      "cell_type": "code",
      "source": [
        "with open(\"req_columns.json\", \"w\") as file:\n",
        "  json.dump(list(train_x.columns), file)"
      ],
      "metadata": {
        "id": "SUABnND0zrvn"
      },
      "execution_count": 61,
      "outputs": []
    },
    {
      "cell_type": "code",
      "source": [
        "mean_dict = df.mean().to_dict()"
      ],
      "metadata": {
        "id": "POhU-KDx0UOh"
      },
      "execution_count": 62,
      "outputs": []
    },
    {
      "cell_type": "code",
      "source": [
        "with open(\"avgvalues.json\", \"w\") as file2:\n",
        "  json.dump(mean_dict, file2)"
      ],
      "metadata": {
        "id": "h-KT5jtp0M08"
      },
      "execution_count": 63,
      "outputs": []
    },
    {
      "cell_type": "markdown",
      "source": [
        "## Conclusion\n",
        "\n",
        "My model has 85%(now 77% but I serialized the old model) accuracy.\n",
        "\n",
        "How can I improve this(data science related, aka I'll probably learn this in the future)\n",
        "\n",
        " - Process the data more...think about feature selection and stuff, explore the data more, etc.\n",
        " - Work on the model more\n",
        "\n",
        " How can I improve this(me related, aka I could've done better but I didn't)\n",
        " \n",
        "My scraper collected game ids by taking the past 10 games of certain players, looking at the players in each of their games, and taking the last 10 games of those(avoiding duplicates). It would only go a maximum of 10 games back, but likely processed multiple games for individual players. This is not good, as this dataset is small.\n",
        "\n",
        "This data, however, did take a week to acquire, as Riot Games API has a rate limit. In the future, I should get a larger dataset and not go that many games back, looking for more breadth in my dataset.\n",
        "\n",
        "## Final note\n",
        "\n",
        "My ultimate goal is to create a bot for lower elo games, so I can predict the outcome of my League games for fun. However, I know that low elo games are quite stressful to process(as I've tried gathering data for them before). Lots of NA values, people in the games just do whatever so I'm scared that the variables I'm looking at now won't be useful, and I'm scared that variables won't create as much insight as players are not consistent.\n",
        "\n",
        "That's why this dataset is small. I will now:\n",
        "\n",
        " - Update my scraper to deal with NA values, adjust values that I found needed to be adjusted, etc.\n",
        " - Make an application that can get data for live games, and use the serialized model that I just took to predict the outcome.\n",
        " - Do this for low elo games."
      ],
      "metadata": {
        "id": "-e9w1LVn9ep0"
      }
    },
    {
      "cell_type": "code",
      "source": [
        "df[\"gameid\"].value_counts().sort_values(ascending=False)\n",
        "# ok so at least the games I took were all unique."
      ],
      "metadata": {
        "colab": {
          "base_uri": "https://localhost:8080/"
        },
        "id": "37yy3kKyBwMW",
        "outputId": "36885245-7c22-42a6-e24c-ce7dd0d855b8"
      },
      "execution_count": 82,
      "outputs": [
        {
          "output_type": "execute_result",
          "data": {
            "text/plain": [
              "NA1_4157507732    1\n",
              "NA1_4156702094    1\n",
              "NA1_4158190114    1\n",
              "NA1_4157015100    1\n",
              "NA1_4155264988    1\n",
              "                 ..\n",
              "NA1_4149605554    1\n",
              "NA1_4160221984    1\n",
              "NA1_4160203767    1\n",
              "NA1_4153419151    1\n",
              "NA1_4154919042    1\n",
              "Name: gameid, Length: 1250, dtype: int64"
            ]
          },
          "metadata": {},
          "execution_count": 82
        }
      ]
    }
  ]
}
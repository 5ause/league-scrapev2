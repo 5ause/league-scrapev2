{
  "nbformat": 4,
  "nbformat_minor": 0,
  "metadata": {
    "colab": {
      "name": "riot cont'd",
      "provenance": []
    },
    "kernelspec": {
      "name": "python3",
      "display_name": "Python 3"
    },
    "language_info": {
      "name": "python"
    }
  },
  "cells": [
    {
      "cell_type": "markdown",
      "source": [
        "# Intro\n",
        "In the previous notebook, I did some basic exploration of the data, and fitted a model. The model was quite basic, and the metrics for the model were not the greatest.\n",
        "\n",
        "In this notebook, I will explore the data further and attempt to improve the model.\n",
        "\n",
        "I will try:\n",
        "\n",
        " - Data manipulations/different cleaning methods\n",
        " - Using cross-validation to better understand the model\n",
        " - Changing the parameters on the RandomForestClassifier model that I currently have.\n",
        " - [Maybe] Logistic Regression\n",
        "\n",
        " CV [here](https://www.askpython.com/python/examples/k-fold-cross-validation)"
      ],
      "metadata": {
        "id": "zS5CBoa9o10n"
      }
    },
    {
      "cell_type": "code",
      "execution_count": null,
      "metadata": {
        "colab": {
          "resources": {
            "http://localhost:8080/nbextensions/google.colab/files.js": {
              "data": "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",
              "ok": true,
              "headers": [
                [
                  "content-type",
                  "application/javascript"
                ]
              ],
              "status": 200,
              "status_text": ""
            }
          },
          "base_uri": "https://localhost:8080/",
          "height": 38
        },
        "id": "aAiOIA1KnGEU",
        "outputId": "5043702b-1b60-418d-9ef6-5f58be7645e0"
      },
      "outputs": [
        {
          "output_type": "display_data",
          "data": {
            "text/html": [
              "\n",
              "     <input type=\"file\" id=\"files-87a6f2c8-42a6-4ab7-9ac2-4150a6e24a6e\" name=\"files[]\" multiple disabled\n",
              "        style=\"border:none\" />\n",
              "     <output id=\"result-87a6f2c8-42a6-4ab7-9ac2-4150a6e24a6e\">\n",
              "      Upload widget is only available when the cell has been executed in the\n",
              "      current browser session. Please rerun this cell to enable.\n",
              "      </output>\n",
              "      <script src=\"/nbextensions/google.colab/files.js\"></script> "
            ],
            "text/plain": [
              "<IPython.core.display.HTML object>"
            ]
          },
          "metadata": {}
        }
      ],
      "source": [
        "# Upload data.csv\n",
        "from google.colab import files\n",
        "uploaded = files.upload()"
      ]
    },
    {
      "cell_type": "code",
      "source": [
        "import pandas as pd\n",
        "import numpy as np\n",
        "import matplotlib\n",
        "import matplotlib.pyplot as plt\n",
        "import seaborn as sns\n",
        "import csv\n",
        "from scipy import stats\n",
        "from scipy.stats import norm"
      ],
      "metadata": {
        "id": "P6-V4nK0nOt4"
      },
      "execution_count": null,
      "outputs": []
    },
    {
      "cell_type": "code",
      "source": [
        "df = pd.read_csv('data.csv')"
      ],
      "metadata": {
        "id": "T68WCQYInU5j"
      },
      "execution_count": null,
      "outputs": []
    },
    {
      "cell_type": "code",
      "source": [
        "df.head()"
      ],
      "metadata": {
        "colab": {
          "base_uri": "https://localhost:8080/",
          "height": 473
        },
        "id": "F02_K8NyneZl",
        "outputId": "0c9528a5-9626-4f71-9d9a-d2941ce01e95"
      },
      "execution_count": null,
      "outputs": [
        {
          "output_type": "execute_result",
          "data": {
            "text/html": [
              "\n",
              "  <div id=\"df-01482451-c8b1-43f1-a00f-1f6bcd4a70b8\">\n",
              "    <div class=\"colab-df-container\">\n",
              "      <div>\n",
              "<style scoped>\n",
              "    .dataframe tbody tr th:only-of-type {\n",
              "        vertical-align: middle;\n",
              "    }\n",
              "\n",
              "    .dataframe tbody tr th {\n",
              "        vertical-align: top;\n",
              "    }\n",
              "\n",
              "    .dataframe thead th {\n",
              "        text-align: right;\n",
              "    }\n",
              "</style>\n",
              "<table border=\"1\" class=\"dataframe\">\n",
              "  <thead>\n",
              "    <tr style=\"text-align: right;\">\n",
              "      <th></th>\n",
              "      <th>gameid</th>\n",
              "      <th>winning_team</th>\n",
              "      <th>100_TOP_avg_game_time</th>\n",
              "      <th>100_TOP_positions_played</th>\n",
              "      <th>100_TOP_avg_kda</th>\n",
              "      <th>100_TOP_avg_kp</th>\n",
              "      <th>100_TOP_avg_vision</th>\n",
              "      <th>100_TOP_avg_cs</th>\n",
              "      <th>100_TOP_goldpm</th>\n",
              "      <th>100_TOP_dmgpm</th>\n",
              "      <th>100_TOP_dmg_to_obj_pm</th>\n",
              "      <th>100_TOP_wr</th>\n",
              "      <th>100_TOP_tier</th>\n",
              "      <th>100_TOP_rank</th>\n",
              "      <th>100_TOP_lp</th>\n",
              "      <th>100_TOP_wins</th>\n",
              "      <th>100_TOP_losses</th>\n",
              "      <th>100_TOP_veteran</th>\n",
              "      <th>100_TOP_inactive</th>\n",
              "      <th>100_TOP_freshblood</th>\n",
              "      <th>100_TOP_hotstreak</th>\n",
              "      <th>100_TOP_role_total_played</th>\n",
              "      <th>100_TOP_role_wr</th>\n",
              "      <th>100_TOP_champ_games_played</th>\n",
              "      <th>100_TOP_champ_winrate</th>\n",
              "      <th>100_JUNGLE_avg_game_time</th>\n",
              "      <th>100_JUNGLE_positions_played</th>\n",
              "      <th>100_JUNGLE_avg_kda</th>\n",
              "      <th>100_JUNGLE_avg_kp</th>\n",
              "      <th>100_JUNGLE_avg_vision</th>\n",
              "      <th>100_JUNGLE_avg_cs</th>\n",
              "      <th>100_JUNGLE_goldpm</th>\n",
              "      <th>100_JUNGLE_dmgpm</th>\n",
              "      <th>100_JUNGLE_dmg_to_obj_pm</th>\n",
              "      <th>100_JUNGLE_wr</th>\n",
              "      <th>100_JUNGLE_tier</th>\n",
              "      <th>100_JUNGLE_rank</th>\n",
              "      <th>100_JUNGLE_lp</th>\n",
              "      <th>100_JUNGLE_wins</th>\n",
              "      <th>100_JUNGLE_losses</th>\n",
              "      <th>...</th>\n",
              "      <th>200_BOTTOM_goldpm</th>\n",
              "      <th>200_BOTTOM_dmgpm</th>\n",
              "      <th>200_BOTTOM_dmg_to_obj_pm</th>\n",
              "      <th>200_BOTTOM_wr</th>\n",
              "      <th>200_BOTTOM_tier</th>\n",
              "      <th>200_BOTTOM_rank</th>\n",
              "      <th>200_BOTTOM_lp</th>\n",
              "      <th>200_BOTTOM_wins</th>\n",
              "      <th>200_BOTTOM_losses</th>\n",
              "      <th>200_BOTTOM_veteran</th>\n",
              "      <th>200_BOTTOM_inactive</th>\n",
              "      <th>200_BOTTOM_freshblood</th>\n",
              "      <th>200_BOTTOM_hotstreak</th>\n",
              "      <th>200_BOTTOM_role_total_played</th>\n",
              "      <th>200_BOTTOM_role_wr</th>\n",
              "      <th>200_BOTTOM_champ_games_played</th>\n",
              "      <th>200_BOTTOM_champ_winrate</th>\n",
              "      <th>200_UTILITY_avg_game_time</th>\n",
              "      <th>200_UTILITY_positions_played</th>\n",
              "      <th>200_UTILITY_avg_kda</th>\n",
              "      <th>200_UTILITY_avg_kp</th>\n",
              "      <th>200_UTILITY_avg_vision</th>\n",
              "      <th>200_UTILITY_avg_cs</th>\n",
              "      <th>200_UTILITY_goldpm</th>\n",
              "      <th>200_UTILITY_dmgpm</th>\n",
              "      <th>200_UTILITY_dmg_to_obj_pm</th>\n",
              "      <th>200_UTILITY_wr</th>\n",
              "      <th>200_UTILITY_tier</th>\n",
              "      <th>200_UTILITY_rank</th>\n",
              "      <th>200_UTILITY_lp</th>\n",
              "      <th>200_UTILITY_wins</th>\n",
              "      <th>200_UTILITY_losses</th>\n",
              "      <th>200_UTILITY_veteran</th>\n",
              "      <th>200_UTILITY_inactive</th>\n",
              "      <th>200_UTILITY_freshblood</th>\n",
              "      <th>200_UTILITY_hotstreak</th>\n",
              "      <th>200_UTILITY_role_total_played</th>\n",
              "      <th>200_UTILITY_role_wr</th>\n",
              "      <th>200_UTILITY_champ_games_played</th>\n",
              "      <th>200_UTILITY_champ_winrate</th>\n",
              "    </tr>\n",
              "  </thead>\n",
              "  <tbody>\n",
              "    <tr>\n",
              "      <th>0</th>\n",
              "      <td>NA1_4144890019</td>\n",
              "      <td>200</td>\n",
              "      <td>23.271667</td>\n",
              "      <td>TOP TOP TOP TOP TOP TOP TOP BOTTOM TOP TOP</td>\n",
              "      <td>2.344102</td>\n",
              "      <td>0.421483</td>\n",
              "      <td>19.9</td>\n",
              "      <td>7.399556</td>\n",
              "      <td>450.255676</td>\n",
              "      <td>660.584402</td>\n",
              "      <td>430.506338</td>\n",
              "      <td>0.5</td>\n",
              "      <td>GRANDMASTER</td>\n",
              "      <td>I</td>\n",
              "      <td>765</td>\n",
              "      <td>98</td>\n",
              "      <td>82</td>\n",
              "      <td>False</td>\n",
              "      <td>False</td>\n",
              "      <td>False</td>\n",
              "      <td>False</td>\n",
              "      <td>168</td>\n",
              "      <td>0.553571</td>\n",
              "      <td>4</td>\n",
              "      <td>0.250000</td>\n",
              "      <td>23.598333</td>\n",
              "      <td>JUNGLE JUNGLE JUNGLE JUNGLE JUNGLE JUNGLE JUNG...</td>\n",
              "      <td>6.859524</td>\n",
              "      <td>0.531200</td>\n",
              "      <td>19.2</td>\n",
              "      <td>5.322410</td>\n",
              "      <td>434.695953</td>\n",
              "      <td>580.689314</td>\n",
              "      <td>773.656332</td>\n",
              "      <td>0.5</td>\n",
              "      <td>CHALLENGER</td>\n",
              "      <td>I</td>\n",
              "      <td>1223</td>\n",
              "      <td>151</td>\n",
              "      <td>91</td>\n",
              "      <td>...</td>\n",
              "      <td>444.018576</td>\n",
              "      <td>727.816718</td>\n",
              "      <td>317.008050</td>\n",
              "      <td>0.8</td>\n",
              "      <td>GRANDMASTER</td>\n",
              "      <td>I</td>\n",
              "      <td>852</td>\n",
              "      <td>397</td>\n",
              "      <td>356</td>\n",
              "      <td>True</td>\n",
              "      <td>False</td>\n",
              "      <td>False</td>\n",
              "      <td>False</td>\n",
              "      <td>202</td>\n",
              "      <td>0.539604</td>\n",
              "      <td>36</td>\n",
              "      <td>0.555556</td>\n",
              "      <td>25.183333</td>\n",
              "      <td>BOTTOM BOTTOM BOTTOM BOTTOM UTILITY JUNGLE JUN...</td>\n",
              "      <td>3.513095</td>\n",
              "      <td>0.414308</td>\n",
              "      <td>37.1</td>\n",
              "      <td>5.102581</td>\n",
              "      <td>374.791529</td>\n",
              "      <td>439.441429</td>\n",
              "      <td>364.530774</td>\n",
              "      <td>0.4</td>\n",
              "      <td>GRANDMASTER</td>\n",
              "      <td>I</td>\n",
              "      <td>825</td>\n",
              "      <td>419</td>\n",
              "      <td>389</td>\n",
              "      <td>False</td>\n",
              "      <td>False</td>\n",
              "      <td>False</td>\n",
              "      <td>False</td>\n",
              "      <td>616</td>\n",
              "      <td>0.524351</td>\n",
              "      <td>25</td>\n",
              "      <td>0.360000</td>\n",
              "    </tr>\n",
              "    <tr>\n",
              "      <th>1</th>\n",
              "      <td>NA1_4142559007</td>\n",
              "      <td>200</td>\n",
              "      <td>23.271667</td>\n",
              "      <td>TOP TOP TOP TOP TOP TOP TOP BOTTOM TOP TOP</td>\n",
              "      <td>2.344102</td>\n",
              "      <td>0.421483</td>\n",
              "      <td>19.9</td>\n",
              "      <td>7.399556</td>\n",
              "      <td>450.255676</td>\n",
              "      <td>660.584402</td>\n",
              "      <td>430.506338</td>\n",
              "      <td>0.5</td>\n",
              "      <td>GRANDMASTER</td>\n",
              "      <td>I</td>\n",
              "      <td>765</td>\n",
              "      <td>98</td>\n",
              "      <td>82</td>\n",
              "      <td>False</td>\n",
              "      <td>False</td>\n",
              "      <td>False</td>\n",
              "      <td>False</td>\n",
              "      <td>168</td>\n",
              "      <td>0.553571</td>\n",
              "      <td>22</td>\n",
              "      <td>0.500000</td>\n",
              "      <td>24.556667</td>\n",
              "      <td>JUNGLE JUNGLE JUNGLE JUNGLE JUNGLE JUNGLE JUNG...</td>\n",
              "      <td>5.588333</td>\n",
              "      <td>0.545225</td>\n",
              "      <td>20.6</td>\n",
              "      <td>7.452151</td>\n",
              "      <td>471.745622</td>\n",
              "      <td>768.023619</td>\n",
              "      <td>1009.444822</td>\n",
              "      <td>0.5</td>\n",
              "      <td>GRANDMASTER</td>\n",
              "      <td>I</td>\n",
              "      <td>493</td>\n",
              "      <td>148</td>\n",
              "      <td>112</td>\n",
              "      <td>...</td>\n",
              "      <td>482.375967</td>\n",
              "      <td>615.133624</td>\n",
              "      <td>140.509786</td>\n",
              "      <td>0.5</td>\n",
              "      <td>GRANDMASTER</td>\n",
              "      <td>I</td>\n",
              "      <td>495</td>\n",
              "      <td>424</td>\n",
              "      <td>380</td>\n",
              "      <td>True</td>\n",
              "      <td>False</td>\n",
              "      <td>False</td>\n",
              "      <td>False</td>\n",
              "      <td>35</td>\n",
              "      <td>0.714286</td>\n",
              "      <td>212</td>\n",
              "      <td>0.570755</td>\n",
              "      <td>28.300000</td>\n",
              "      <td>UTILITY UTILITY UTILITY UTILITY TOP JUNGLE UTI...</td>\n",
              "      <td>1.660960</td>\n",
              "      <td>0.506136</td>\n",
              "      <td>49.5</td>\n",
              "      <td>2.770318</td>\n",
              "      <td>326.858657</td>\n",
              "      <td>471.254417</td>\n",
              "      <td>135.872792</td>\n",
              "      <td>0.1</td>\n",
              "      <td>GRANDMASTER</td>\n",
              "      <td>I</td>\n",
              "      <td>651</td>\n",
              "      <td>592</td>\n",
              "      <td>507</td>\n",
              "      <td>False</td>\n",
              "      <td>False</td>\n",
              "      <td>False</td>\n",
              "      <td>False</td>\n",
              "      <td>941</td>\n",
              "      <td>0.547290</td>\n",
              "      <td>25</td>\n",
              "      <td>0.520000</td>\n",
              "    </tr>\n",
              "    <tr>\n",
              "      <th>2</th>\n",
              "      <td>NA1_4141413442</td>\n",
              "      <td>200</td>\n",
              "      <td>23.271667</td>\n",
              "      <td>TOP TOP TOP TOP TOP TOP TOP BOTTOM TOP TOP</td>\n",
              "      <td>2.344102</td>\n",
              "      <td>0.421483</td>\n",
              "      <td>19.9</td>\n",
              "      <td>7.399556</td>\n",
              "      <td>450.255676</td>\n",
              "      <td>660.584402</td>\n",
              "      <td>430.506338</td>\n",
              "      <td>0.5</td>\n",
              "      <td>GRANDMASTER</td>\n",
              "      <td>I</td>\n",
              "      <td>765</td>\n",
              "      <td>98</td>\n",
              "      <td>82</td>\n",
              "      <td>False</td>\n",
              "      <td>False</td>\n",
              "      <td>False</td>\n",
              "      <td>False</td>\n",
              "      <td>168</td>\n",
              "      <td>0.553571</td>\n",
              "      <td>4</td>\n",
              "      <td>0.250000</td>\n",
              "      <td>23.765000</td>\n",
              "      <td>JUNGLE JUNGLE JUNGLE TOP JUNGLE JUNGLE JUNGLE ...</td>\n",
              "      <td>3.637258</td>\n",
              "      <td>0.420519</td>\n",
              "      <td>20.1</td>\n",
              "      <td>7.317484</td>\n",
              "      <td>450.031559</td>\n",
              "      <td>643.980644</td>\n",
              "      <td>892.699348</td>\n",
              "      <td>0.4</td>\n",
              "      <td>GRANDMASTER</td>\n",
              "      <td>I</td>\n",
              "      <td>502</td>\n",
              "      <td>156</td>\n",
              "      <td>112</td>\n",
              "      <td>...</td>\n",
              "      <td>446.584003</td>\n",
              "      <td>666.117488</td>\n",
              "      <td>441.217850</td>\n",
              "      <td>0.4</td>\n",
              "      <td>GRANDMASTER</td>\n",
              "      <td>I</td>\n",
              "      <td>650</td>\n",
              "      <td>613</td>\n",
              "      <td>584</td>\n",
              "      <td>True</td>\n",
              "      <td>False</td>\n",
              "      <td>False</td>\n",
              "      <td>False</td>\n",
              "      <td>1024</td>\n",
              "      <td>0.515625</td>\n",
              "      <td>159</td>\n",
              "      <td>0.515723</td>\n",
              "      <td>27.480000</td>\n",
              "      <td>BOTTOM BOTTOM TOP BOTTOM BOTTOM BOTTOM BOTTOM ...</td>\n",
              "      <td>2.441634</td>\n",
              "      <td>0.507755</td>\n",
              "      <td>28.5</td>\n",
              "      <td>8.155022</td>\n",
              "      <td>502.503639</td>\n",
              "      <td>979.497817</td>\n",
              "      <td>501.419214</td>\n",
              "      <td>0.6</td>\n",
              "      <td>CHALLENGER</td>\n",
              "      <td>I</td>\n",
              "      <td>1387</td>\n",
              "      <td>417</td>\n",
              "      <td>349</td>\n",
              "      <td>True</td>\n",
              "      <td>False</td>\n",
              "      <td>False</td>\n",
              "      <td>False</td>\n",
              "      <td>28</td>\n",
              "      <td>0.500000</td>\n",
              "      <td>6</td>\n",
              "      <td>0.833333</td>\n",
              "    </tr>\n",
              "    <tr>\n",
              "      <th>3</th>\n",
              "      <td>NA1_4111370048</td>\n",
              "      <td>200</td>\n",
              "      <td>24.110000</td>\n",
              "      <td>MIDDLE TOP TOP TOP TOP TOP TOP TOP TOP TOP</td>\n",
              "      <td>1.912560</td>\n",
              "      <td>0.368992</td>\n",
              "      <td>16.5</td>\n",
              "      <td>6.744090</td>\n",
              "      <td>424.682704</td>\n",
              "      <td>688.888428</td>\n",
              "      <td>230.514309</td>\n",
              "      <td>0.4</td>\n",
              "      <td>CHALLENGER</td>\n",
              "      <td>I</td>\n",
              "      <td>1032</td>\n",
              "      <td>719</td>\n",
              "      <td>666</td>\n",
              "      <td>True</td>\n",
              "      <td>False</td>\n",
              "      <td>False</td>\n",
              "      <td>False</td>\n",
              "      <td>1130</td>\n",
              "      <td>0.535398</td>\n",
              "      <td>33</td>\n",
              "      <td>0.575758</td>\n",
              "      <td>26.801667</td>\n",
              "      <td>MIDDLE MIDDLE TOP MIDDLE JUNGLE MIDDLE MIDDLE ...</td>\n",
              "      <td>3.301111</td>\n",
              "      <td>0.386141</td>\n",
              "      <td>19.0</td>\n",
              "      <td>6.395125</td>\n",
              "      <td>418.854549</td>\n",
              "      <td>655.959207</td>\n",
              "      <td>285.068093</td>\n",
              "      <td>0.6</td>\n",
              "      <td>CHALLENGER</td>\n",
              "      <td>I</td>\n",
              "      <td>897</td>\n",
              "      <td>201</td>\n",
              "      <td>150</td>\n",
              "      <td>...</td>\n",
              "      <td>404.009017</td>\n",
              "      <td>649.487131</td>\n",
              "      <td>490.430209</td>\n",
              "      <td>0.7</td>\n",
              "      <td>GRANDMASTER</td>\n",
              "      <td>I</td>\n",
              "      <td>486</td>\n",
              "      <td>241</td>\n",
              "      <td>206</td>\n",
              "      <td>False</td>\n",
              "      <td>False</td>\n",
              "      <td>False</td>\n",
              "      <td>True</td>\n",
              "      <td>349</td>\n",
              "      <td>0.558739</td>\n",
              "      <td>57</td>\n",
              "      <td>0.649123</td>\n",
              "      <td>26.216667</td>\n",
              "      <td>MIDDLE MIDDLE MIDDLE BOTTOM BOTTOM MIDDLE UTIL...</td>\n",
              "      <td>2.934286</td>\n",
              "      <td>0.432309</td>\n",
              "      <td>24.0</td>\n",
              "      <td>5.851240</td>\n",
              "      <td>380.521297</td>\n",
              "      <td>708.835346</td>\n",
              "      <td>175.674507</td>\n",
              "      <td>0.5</td>\n",
              "      <td>CHALLENGER</td>\n",
              "      <td>I</td>\n",
              "      <td>1176</td>\n",
              "      <td>376</td>\n",
              "      <td>322</td>\n",
              "      <td>True</td>\n",
              "      <td>False</td>\n",
              "      <td>False</td>\n",
              "      <td>False</td>\n",
              "      <td>30</td>\n",
              "      <td>0.566667</td>\n",
              "      <td>69</td>\n",
              "      <td>0.652174</td>\n",
              "    </tr>\n",
              "    <tr>\n",
              "      <th>4</th>\n",
              "      <td>NA1_4152493334</td>\n",
              "      <td>100</td>\n",
              "      <td>24.806667</td>\n",
              "      <td>TOP TOP TOP TOP MIDDLE TOP TOP TOP MIDDLE TOP</td>\n",
              "      <td>3.170368</td>\n",
              "      <td>0.357680</td>\n",
              "      <td>18.0</td>\n",
              "      <td>6.643375</td>\n",
              "      <td>404.560602</td>\n",
              "      <td>473.586402</td>\n",
              "      <td>530.377587</td>\n",
              "      <td>0.5</td>\n",
              "      <td>GRANDMASTER</td>\n",
              "      <td>I</td>\n",
              "      <td>694</td>\n",
              "      <td>227</td>\n",
              "      <td>196</td>\n",
              "      <td>False</td>\n",
              "      <td>False</td>\n",
              "      <td>False</td>\n",
              "      <td>False</td>\n",
              "      <td>380</td>\n",
              "      <td>0.555263</td>\n",
              "      <td>341</td>\n",
              "      <td>0.574780</td>\n",
              "      <td>23.598333</td>\n",
              "      <td>JUNGLE JUNGLE JUNGLE JUNGLE JUNGLE JUNGLE JUNG...</td>\n",
              "      <td>6.859524</td>\n",
              "      <td>0.531200</td>\n",
              "      <td>19.2</td>\n",
              "      <td>5.322410</td>\n",
              "      <td>434.695953</td>\n",
              "      <td>580.689314</td>\n",
              "      <td>773.656332</td>\n",
              "      <td>0.5</td>\n",
              "      <td>CHALLENGER</td>\n",
              "      <td>I</td>\n",
              "      <td>1223</td>\n",
              "      <td>151</td>\n",
              "      <td>91</td>\n",
              "      <td>...</td>\n",
              "      <td>407.199145</td>\n",
              "      <td>442.554979</td>\n",
              "      <td>388.946243</td>\n",
              "      <td>0.4</td>\n",
              "      <td>GRANDMASTER</td>\n",
              "      <td>I</td>\n",
              "      <td>578</td>\n",
              "      <td>1113</td>\n",
              "      <td>1111</td>\n",
              "      <td>True</td>\n",
              "      <td>False</td>\n",
              "      <td>False</td>\n",
              "      <td>False</td>\n",
              "      <td>1693</td>\n",
              "      <td>0.509155</td>\n",
              "      <td>80</td>\n",
              "      <td>0.525000</td>\n",
              "      <td>27.711667</td>\n",
              "      <td>UTILITY UTILITY UTILITY UTILITY UTILITY UTILIT...</td>\n",
              "      <td>4.636190</td>\n",
              "      <td>0.532291</td>\n",
              "      <td>50.9</td>\n",
              "      <td>1.418175</td>\n",
              "      <td>289.282492</td>\n",
              "      <td>261.333975</td>\n",
              "      <td>72.215072</td>\n",
              "      <td>0.3</td>\n",
              "      <td>CHALLENGER</td>\n",
              "      <td>I</td>\n",
              "      <td>1096</td>\n",
              "      <td>533</td>\n",
              "      <td>453</td>\n",
              "      <td>True</td>\n",
              "      <td>False</td>\n",
              "      <td>False</td>\n",
              "      <td>False</td>\n",
              "      <td>979</td>\n",
              "      <td>0.539326</td>\n",
              "      <td>733</td>\n",
              "      <td>0.567531</td>\n",
              "    </tr>\n",
              "  </tbody>\n",
              "</table>\n",
              "<p>5 rows × 232 columns</p>\n",
              "</div>\n",
              "      <button class=\"colab-df-convert\" onclick=\"convertToInteractive('df-01482451-c8b1-43f1-a00f-1f6bcd4a70b8')\"\n",
              "              title=\"Convert this dataframe to an interactive table.\"\n",
              "              style=\"display:none;\">\n",
              "        \n",
              "  <svg xmlns=\"http://www.w3.org/2000/svg\" height=\"24px\"viewBox=\"0 0 24 24\"\n",
              "       width=\"24px\">\n",
              "    <path d=\"M0 0h24v24H0V0z\" fill=\"none\"/>\n",
              "    <path d=\"M18.56 5.44l.94 2.06.94-2.06 2.06-.94-2.06-.94-.94-2.06-.94 2.06-2.06.94zm-11 1L8.5 8.5l.94-2.06 2.06-.94-2.06-.94L8.5 2.5l-.94 2.06-2.06.94zm10 10l.94 2.06.94-2.06 2.06-.94-2.06-.94-.94-2.06-.94 2.06-2.06.94z\"/><path d=\"M17.41 7.96l-1.37-1.37c-.4-.4-.92-.59-1.43-.59-.52 0-1.04.2-1.43.59L10.3 9.45l-7.72 7.72c-.78.78-.78 2.05 0 2.83L4 21.41c.39.39.9.59 1.41.59.51 0 1.02-.2 1.41-.59l7.78-7.78 2.81-2.81c.8-.78.8-2.07 0-2.86zM5.41 20L4 18.59l7.72-7.72 1.47 1.35L5.41 20z\"/>\n",
              "  </svg>\n",
              "      </button>\n",
              "      \n",
              "  <style>\n",
              "    .colab-df-container {\n",
              "      display:flex;\n",
              "      flex-wrap:wrap;\n",
              "      gap: 12px;\n",
              "    }\n",
              "\n",
              "    .colab-df-convert {\n",
              "      background-color: #E8F0FE;\n",
              "      border: none;\n",
              "      border-radius: 50%;\n",
              "      cursor: pointer;\n",
              "      display: none;\n",
              "      fill: #1967D2;\n",
              "      height: 32px;\n",
              "      padding: 0 0 0 0;\n",
              "      width: 32px;\n",
              "    }\n",
              "\n",
              "    .colab-df-convert:hover {\n",
              "      background-color: #E2EBFA;\n",
              "      box-shadow: 0px 1px 2px rgba(60, 64, 67, 0.3), 0px 1px 3px 1px rgba(60, 64, 67, 0.15);\n",
              "      fill: #174EA6;\n",
              "    }\n",
              "\n",
              "    [theme=dark] .colab-df-convert {\n",
              "      background-color: #3B4455;\n",
              "      fill: #D2E3FC;\n",
              "    }\n",
              "\n",
              "    [theme=dark] .colab-df-convert:hover {\n",
              "      background-color: #434B5C;\n",
              "      box-shadow: 0px 1px 3px 1px rgba(0, 0, 0, 0.15);\n",
              "      filter: drop-shadow(0px 1px 2px rgba(0, 0, 0, 0.3));\n",
              "      fill: #FFFFFF;\n",
              "    }\n",
              "  </style>\n",
              "\n",
              "      <script>\n",
              "        const buttonEl =\n",
              "          document.querySelector('#df-01482451-c8b1-43f1-a00f-1f6bcd4a70b8 button.colab-df-convert');\n",
              "        buttonEl.style.display =\n",
              "          google.colab.kernel.accessAllowed ? 'block' : 'none';\n",
              "\n",
              "        async function convertToInteractive(key) {\n",
              "          const element = document.querySelector('#df-01482451-c8b1-43f1-a00f-1f6bcd4a70b8');\n",
              "          const dataTable =\n",
              "            await google.colab.kernel.invokeFunction('convertToInteractive',\n",
              "                                                     [key], {});\n",
              "          if (!dataTable) return;\n",
              "\n",
              "          const docLinkHtml = 'Like what you see? Visit the ' +\n",
              "            '<a target=\"_blank\" href=https://colab.research.google.com/notebooks/data_table.ipynb>data table notebook</a>'\n",
              "            + ' to learn more about interactive tables.';\n",
              "          element.innerHTML = '';\n",
              "          dataTable['output_type'] = 'display_data';\n",
              "          await google.colab.output.renderOutput(dataTable, element);\n",
              "          const docLink = document.createElement('div');\n",
              "          docLink.innerHTML = docLinkHtml;\n",
              "          element.appendChild(docLink);\n",
              "        }\n",
              "      </script>\n",
              "    </div>\n",
              "  </div>\n",
              "  "
            ],
            "text/plain": [
              "           gameid  ...  200_UTILITY_champ_winrate\n",
              "0  NA1_4144890019  ...                   0.360000\n",
              "1  NA1_4142559007  ...                   0.520000\n",
              "2  NA1_4141413442  ...                   0.833333\n",
              "3  NA1_4111370048  ...                   0.652174\n",
              "4  NA1_4152493334  ...                   0.567531\n",
              "\n",
              "[5 rows x 232 columns]"
            ]
          },
          "metadata": {},
          "execution_count": 130
        }
      ]
    },
    {
      "cell_type": "markdown",
      "source": [
        "# Looking at example NA value\n",
        "\n",
        "200_BOTTOM_champ_winrate had a lot of NA values."
      ],
      "metadata": {
        "id": "c8RurZIO7nrI"
      }
    },
    {
      "cell_type": "code",
      "source": [
        "sns.histplot(df[\"200_BOTTOM_champ_winrate\"])"
      ],
      "metadata": {
        "colab": {
          "base_uri": "https://localhost:8080/",
          "height": 297
        },
        "id": "iDhlopF6ns4v",
        "outputId": "2af46247-bf30-40e2-ec24-9cba2cefda16"
      },
      "execution_count": null,
      "outputs": [
        {
          "output_type": "execute_result",
          "data": {
            "text/plain": [
              "<matplotlib.axes._subplots.AxesSubplot at 0x7f04b23eec50>"
            ]
          },
          "metadata": {},
          "execution_count": 131
        },
        {
          "output_type": "display_data",
          "data": {
            "image/png": "[encoded data removed]",
            "text/plain": [
              "<Figure size 432x288 with 1 Axes>"
            ]
          },
          "metadata": {
            "needs_background": "light"
          }
        }
      ]
    },
    {
      "cell_type": "markdown",
      "source": [
        "My hunch is that when you have 0% or 100% winrate, you probably have really few games played on a specific champion. I will look at that, and try making different decisions."
      ],
      "metadata": {
        "id": "8RZWoIBSoEgP"
      }
    },
    {
      "cell_type": "code",
      "source": [
        "temp_df = df[[\"200_BOTTOM_champ_winrate\", \"200_BOTTOM_champ_games_played\"]]\n",
        "temp_df[df[\"200_BOTTOM_champ_winrate\"] > 0.99].sort_values(by=\"200_BOTTOM_champ_games_played\", ascending=False)"
      ],
      "metadata": {
        "colab": {
          "base_uri": "https://localhost:8080/",
          "height": 520
        },
        "id": "cogzW-YtoD2f",
        "outputId": "19dc0b66-34cd-45f7-c22e-527624cf423e"
      },
      "execution_count": null,
      "outputs": [
        {
          "output_type": "execute_result",
          "data": {
            "text/html": [
              "\n",
              "  <div id=\"df-e9b9b756-0045-4956-8000-725b36626919\">\n",
              "    <div class=\"colab-df-container\">\n",
              "      <div>\n",
              "<style scoped>\n",
              "    .dataframe tbody tr th:only-of-type {\n",
              "        vertical-align: middle;\n",
              "    }\n",
              "\n",
              "    .dataframe tbody tr th {\n",
              "        vertical-align: top;\n",
              "    }\n",
              "\n",
              "    .dataframe thead th {\n",
              "        text-align: right;\n",
              "    }\n",
              "</style>\n",
              "<table border=\"1\" class=\"dataframe\">\n",
              "  <thead>\n",
              "    <tr style=\"text-align: right;\">\n",
              "      <th></th>\n",
              "      <th>200_BOTTOM_champ_winrate</th>\n",
              "      <th>200_BOTTOM_champ_games_played</th>\n",
              "    </tr>\n",
              "  </thead>\n",
              "  <tbody>\n",
              "    <tr>\n",
              "      <th>523</th>\n",
              "      <td>1.0</td>\n",
              "      <td>3</td>\n",
              "    </tr>\n",
              "    <tr>\n",
              "      <th>76</th>\n",
              "      <td>1.0</td>\n",
              "      <td>2</td>\n",
              "    </tr>\n",
              "    <tr>\n",
              "      <th>157</th>\n",
              "      <td>1.0</td>\n",
              "      <td>2</td>\n",
              "    </tr>\n",
              "    <tr>\n",
              "      <th>166</th>\n",
              "      <td>1.0</td>\n",
              "      <td>2</td>\n",
              "    </tr>\n",
              "    <tr>\n",
              "      <th>175</th>\n",
              "      <td>1.0</td>\n",
              "      <td>2</td>\n",
              "    </tr>\n",
              "    <tr>\n",
              "      <th>440</th>\n",
              "      <td>1.0</td>\n",
              "      <td>2</td>\n",
              "    </tr>\n",
              "    <tr>\n",
              "      <th>549</th>\n",
              "      <td>1.0</td>\n",
              "      <td>2</td>\n",
              "    </tr>\n",
              "    <tr>\n",
              "      <th>564</th>\n",
              "      <td>1.0</td>\n",
              "      <td>2</td>\n",
              "    </tr>\n",
              "    <tr>\n",
              "      <th>808</th>\n",
              "      <td>1.0</td>\n",
              "      <td>2</td>\n",
              "    </tr>\n",
              "    <tr>\n",
              "      <th>1199</th>\n",
              "      <td>1.0</td>\n",
              "      <td>2</td>\n",
              "    </tr>\n",
              "    <tr>\n",
              "      <th>135</th>\n",
              "      <td>1.0</td>\n",
              "      <td>1</td>\n",
              "    </tr>\n",
              "    <tr>\n",
              "      <th>240</th>\n",
              "      <td>1.0</td>\n",
              "      <td>1</td>\n",
              "    </tr>\n",
              "    <tr>\n",
              "      <th>447</th>\n",
              "      <td>1.0</td>\n",
              "      <td>1</td>\n",
              "    </tr>\n",
              "    <tr>\n",
              "      <th>1164</th>\n",
              "      <td>1.0</td>\n",
              "      <td>1</td>\n",
              "    </tr>\n",
              "    <tr>\n",
              "      <th>1174</th>\n",
              "      <td>1.0</td>\n",
              "      <td>1</td>\n",
              "    </tr>\n",
              "  </tbody>\n",
              "</table>\n",
              "</div>\n",
              "      <button class=\"colab-df-convert\" onclick=\"convertToInteractive('df-e9b9b756-0045-4956-8000-725b36626919')\"\n",
              "              title=\"Convert this dataframe to an interactive table.\"\n",
              "              style=\"display:none;\">\n",
              "        \n",
              "  <svg xmlns=\"http://www.w3.org/2000/svg\" height=\"24px\"viewBox=\"0 0 24 24\"\n",
              "       width=\"24px\">\n",
              "    <path d=\"M0 0h24v24H0V0z\" fill=\"none\"/>\n",
              "    <path d=\"M18.56 5.44l.94 2.06.94-2.06 2.06-.94-2.06-.94-.94-2.06-.94 2.06-2.06.94zm-11 1L8.5 8.5l.94-2.06 2.06-.94-2.06-.94L8.5 2.5l-.94 2.06-2.06.94zm10 10l.94 2.06.94-2.06 2.06-.94-2.06-.94-.94-2.06-.94 2.06-2.06.94z\"/><path d=\"M17.41 7.96l-1.37-1.37c-.4-.4-.92-.59-1.43-.59-.52 0-1.04.2-1.43.59L10.3 9.45l-7.72 7.72c-.78.78-.78 2.05 0 2.83L4 21.41c.39.39.9.59 1.41.59.51 0 1.02-.2 1.41-.59l7.78-7.78 2.81-2.81c.8-.78.8-2.07 0-2.86zM5.41 20L4 18.59l7.72-7.72 1.47 1.35L5.41 20z\"/>\n",
              "  </svg>\n",
              "      </button>\n",
              "      \n",
              "  <style>\n",
              "    .colab-df-container {\n",
              "      display:flex;\n",
              "      flex-wrap:wrap;\n",
              "      gap: 12px;\n",
              "    }\n",
              "\n",
              "    .colab-df-convert {\n",
              "      background-color: #E8F0FE;\n",
              "      border: none;\n",
              "      border-radius: 50%;\n",
              "      cursor: pointer;\n",
              "      display: none;\n",
              "      fill: #1967D2;\n",
              "      height: 32px;\n",
              "      padding: 0 0 0 0;\n",
              "      width: 32px;\n",
              "    }\n",
              "\n",
              "    .colab-df-convert:hover {\n",
              "      background-color: #E2EBFA;\n",
              "      box-shadow: 0px 1px 2px rgba(60, 64, 67, 0.3), 0px 1px 3px 1px rgba(60, 64, 67, 0.15);\n",
              "      fill: #174EA6;\n",
              "    }\n",
              "\n",
              "    [theme=dark] .colab-df-convert {\n",
              "      background-color: #3B4455;\n",
              "      fill: #D2E3FC;\n",
              "    }\n",
              "\n",
              "    [theme=dark] .colab-df-convert:hover {\n",
              "      background-color: #434B5C;\n",
              "      box-shadow: 0px 1px 3px 1px rgba(0, 0, 0, 0.15);\n",
              "      filter: drop-shadow(0px 1px 2px rgba(0, 0, 0, 0.3));\n",
              "      fill: #FFFFFF;\n",
              "    }\n",
              "  </style>\n",
              "\n",
              "      <script>\n",
              "        const buttonEl =\n",
              "          document.querySelector('#df-e9b9b756-0045-4956-8000-725b36626919 button.colab-df-convert');\n",
              "        buttonEl.style.display =\n",
              "          google.colab.kernel.accessAllowed ? 'block' : 'none';\n",
              "\n",
              "        async function convertToInteractive(key) {\n",
              "          const element = document.querySelector('#df-e9b9b756-0045-4956-8000-725b36626919');\n",
              "          const dataTable =\n",
              "            await google.colab.kernel.invokeFunction('convertToInteractive',\n",
              "                                                     [key], {});\n",
              "          if (!dataTable) return;\n",
              "\n",
              "          const docLinkHtml = 'Like what you see? Visit the ' +\n",
              "            '<a target=\"_blank\" href=https://colab.research.google.com/notebooks/data_table.ipynb>data table notebook</a>'\n",
              "            + ' to learn more about interactive tables.';\n",
              "          element.innerHTML = '';\n",
              "          dataTable['output_type'] = 'display_data';\n",
              "          await google.colab.output.renderOutput(dataTable, element);\n",
              "          const docLink = document.createElement('div');\n",
              "          docLink.innerHTML = docLinkHtml;\n",
              "          element.appendChild(docLink);\n",
              "        }\n",
              "      </script>\n",
              "    </div>\n",
              "  </div>\n",
              "  "
            ],
            "text/plain": [
              "      200_BOTTOM_champ_winrate  200_BOTTOM_champ_games_played\n",
              "523                        1.0                              3\n",
              "76                         1.0                              2\n",
              "157                        1.0                              2\n",
              "166                        1.0                              2\n",
              "175                        1.0                              2\n",
              "440                        1.0                              2\n",
              "549                        1.0                              2\n",
              "564                        1.0                              2\n",
              "808                        1.0                              2\n",
              "1199                       1.0                              2\n",
              "135                        1.0                              1\n",
              "240                        1.0                              1\n",
              "447                        1.0                              1\n",
              "1164                       1.0                              1\n",
              "1174                       1.0                              1"
            ]
          },
          "metadata": {},
          "execution_count": 132
        }
      ]
    },
    {
      "cell_type": "code",
      "source": [
        "temp_df = df[[\"200_BOTTOM_champ_winrate\", \"200_BOTTOM_champ_games_played\"]]\n",
        "temp_df[df[\"200_BOTTOM_champ_winrate\"] < 0.01].sort_values(by=\"200_BOTTOM_champ_games_played\", ascending=False)"
      ],
      "metadata": {
        "colab": {
          "base_uri": "https://localhost:8080/",
          "height": 927
        },
        "id": "ZMYZPzY0qaJy",
        "outputId": "b524174d-5060-41b4-acc6-b760fbf8ed85"
      },
      "execution_count": null,
      "outputs": [
        {
          "output_type": "execute_result",
          "data": {
            "text/html": [
              "\n",
              "  <div id=\"df-41392dbc-9454-495f-9c57-40ce02dd4a57\">\n",
              "    <div class=\"colab-df-container\">\n",
              "      <div>\n",
              "<style scoped>\n",
              "    .dataframe tbody tr th:only-of-type {\n",
              "        vertical-align: middle;\n",
              "    }\n",
              "\n",
              "    .dataframe tbody tr th {\n",
              "        vertical-align: top;\n",
              "    }\n",
              "\n",
              "    .dataframe thead th {\n",
              "        text-align: right;\n",
              "    }\n",
              "</style>\n",
              "<table border=\"1\" class=\"dataframe\">\n",
              "  <thead>\n",
              "    <tr style=\"text-align: right;\">\n",
              "      <th></th>\n",
              "      <th>200_BOTTOM_champ_winrate</th>\n",
              "      <th>200_BOTTOM_champ_games_played</th>\n",
              "    </tr>\n",
              "  </thead>\n",
              "  <tbody>\n",
              "    <tr>\n",
              "      <th>783</th>\n",
              "      <td>0.0</td>\n",
              "      <td>4</td>\n",
              "    </tr>\n",
              "    <tr>\n",
              "      <th>1184</th>\n",
              "      <td>0.0</td>\n",
              "      <td>3</td>\n",
              "    </tr>\n",
              "    <tr>\n",
              "      <th>544</th>\n",
              "      <td>0.0</td>\n",
              "      <td>2</td>\n",
              "    </tr>\n",
              "    <tr>\n",
              "      <th>989</th>\n",
              "      <td>0.0</td>\n",
              "      <td>2</td>\n",
              "    </tr>\n",
              "    <tr>\n",
              "      <th>926</th>\n",
              "      <td>0.0</td>\n",
              "      <td>2</td>\n",
              "    </tr>\n",
              "    <tr>\n",
              "      <th>820</th>\n",
              "      <td>0.0</td>\n",
              "      <td>2</td>\n",
              "    </tr>\n",
              "    <tr>\n",
              "      <th>810</th>\n",
              "      <td>0.0</td>\n",
              "      <td>2</td>\n",
              "    </tr>\n",
              "    <tr>\n",
              "      <th>710</th>\n",
              "      <td>0.0</td>\n",
              "      <td>2</td>\n",
              "    </tr>\n",
              "    <tr>\n",
              "      <th>577</th>\n",
              "      <td>0.0</td>\n",
              "      <td>2</td>\n",
              "    </tr>\n",
              "    <tr>\n",
              "      <th>14</th>\n",
              "      <td>0.0</td>\n",
              "      <td>2</td>\n",
              "    </tr>\n",
              "    <tr>\n",
              "      <th>296</th>\n",
              "      <td>0.0</td>\n",
              "      <td>2</td>\n",
              "    </tr>\n",
              "    <tr>\n",
              "      <th>378</th>\n",
              "      <td>0.0</td>\n",
              "      <td>1</td>\n",
              "    </tr>\n",
              "    <tr>\n",
              "      <th>248</th>\n",
              "      <td>0.0</td>\n",
              "      <td>1</td>\n",
              "    </tr>\n",
              "    <tr>\n",
              "      <th>1181</th>\n",
              "      <td>0.0</td>\n",
              "      <td>1</td>\n",
              "    </tr>\n",
              "    <tr>\n",
              "      <th>1131</th>\n",
              "      <td>0.0</td>\n",
              "      <td>1</td>\n",
              "    </tr>\n",
              "    <tr>\n",
              "      <th>158</th>\n",
              "      <td>0.0</td>\n",
              "      <td>1</td>\n",
              "    </tr>\n",
              "    <tr>\n",
              "      <th>933</th>\n",
              "      <td>0.0</td>\n",
              "      <td>1</td>\n",
              "    </tr>\n",
              "    <tr>\n",
              "      <th>235</th>\n",
              "      <td>0.0</td>\n",
              "      <td>1</td>\n",
              "    </tr>\n",
              "    <tr>\n",
              "      <th>841</th>\n",
              "      <td>0.0</td>\n",
              "      <td>1</td>\n",
              "    </tr>\n",
              "    <tr>\n",
              "      <th>263</th>\n",
              "      <td>0.0</td>\n",
              "      <td>1</td>\n",
              "    </tr>\n",
              "    <tr>\n",
              "      <th>356</th>\n",
              "      <td>0.0</td>\n",
              "      <td>1</td>\n",
              "    </tr>\n",
              "    <tr>\n",
              "      <th>292</th>\n",
              "      <td>0.0</td>\n",
              "      <td>1</td>\n",
              "    </tr>\n",
              "    <tr>\n",
              "      <th>763</th>\n",
              "      <td>0.0</td>\n",
              "      <td>1</td>\n",
              "    </tr>\n",
              "    <tr>\n",
              "      <th>741</th>\n",
              "      <td>0.0</td>\n",
              "      <td>1</td>\n",
              "    </tr>\n",
              "    <tr>\n",
              "      <th>94</th>\n",
              "      <td>0.0</td>\n",
              "      <td>1</td>\n",
              "    </tr>\n",
              "    <tr>\n",
              "      <th>324</th>\n",
              "      <td>0.0</td>\n",
              "      <td>1</td>\n",
              "    </tr>\n",
              "    <tr>\n",
              "      <th>562</th>\n",
              "      <td>0.0</td>\n",
              "      <td>1</td>\n",
              "    </tr>\n",
              "    <tr>\n",
              "      <th>653</th>\n",
              "      <td>0.0</td>\n",
              "      <td>1</td>\n",
              "    </tr>\n",
              "  </tbody>\n",
              "</table>\n",
              "</div>\n",
              "      <button class=\"colab-df-convert\" onclick=\"convertToInteractive('df-41392dbc-9454-495f-9c57-40ce02dd4a57')\"\n",
              "              title=\"Convert this dataframe to an interactive table.\"\n",
              "              style=\"display:none;\">\n",
              "        \n",
              "  <svg xmlns=\"http://www.w3.org/2000/svg\" height=\"24px\"viewBox=\"0 0 24 24\"\n",
              "       width=\"24px\">\n",
              "    <path d=\"M0 0h24v24H0V0z\" fill=\"none\"/>\n",
              "    <path d=\"M18.56 5.44l.94 2.06.94-2.06 2.06-.94-2.06-.94-.94-2.06-.94 2.06-2.06.94zm-11 1L8.5 8.5l.94-2.06 2.06-.94-2.06-.94L8.5 2.5l-.94 2.06-2.06.94zm10 10l.94 2.06.94-2.06 2.06-.94-2.06-.94-.94-2.06-.94 2.06-2.06.94z\"/><path d=\"M17.41 7.96l-1.37-1.37c-.4-.4-.92-.59-1.43-.59-.52 0-1.04.2-1.43.59L10.3 9.45l-7.72 7.72c-.78.78-.78 2.05 0 2.83L4 21.41c.39.39.9.59 1.41.59.51 0 1.02-.2 1.41-.59l7.78-7.78 2.81-2.81c.8-.78.8-2.07 0-2.86zM5.41 20L4 18.59l7.72-7.72 1.47 1.35L5.41 20z\"/>\n",
              "  </svg>\n",
              "      </button>\n",
              "      \n",
              "  <style>\n",
              "    .colab-df-container {\n",
              "      display:flex;\n",
              "      flex-wrap:wrap;\n",
              "      gap: 12px;\n",
              "    }\n",
              "\n",
              "    .colab-df-convert {\n",
              "      background-color: #E8F0FE;\n",
              "      border: none;\n",
              "      border-radius: 50%;\n",
              "      cursor: pointer;\n",
              "      display: none;\n",
              "      fill: #1967D2;\n",
              "      height: 32px;\n",
              "      padding: 0 0 0 0;\n",
              "      width: 32px;\n",
              "    }\n",
              "\n",
              "    .colab-df-convert:hover {\n",
              "      background-color: #E2EBFA;\n",
              "      box-shadow: 0px 1px 2px rgba(60, 64, 67, 0.3), 0px 1px 3px 1px rgba(60, 64, 67, 0.15);\n",
              "      fill: #174EA6;\n",
              "    }\n",
              "\n",
              "    [theme=dark] .colab-df-convert {\n",
              "      background-color: #3B4455;\n",
              "      fill: #D2E3FC;\n",
              "    }\n",
              "\n",
              "    [theme=dark] .colab-df-convert:hover {\n",
              "      background-color: #434B5C;\n",
              "      box-shadow: 0px 1px 3px 1px rgba(0, 0, 0, 0.15);\n",
              "      filter: drop-shadow(0px 1px 2px rgba(0, 0, 0, 0.3));\n",
              "      fill: #FFFFFF;\n",
              "    }\n",
              "  </style>\n",
              "\n",
              "      <script>\n",
              "        const buttonEl =\n",
              "          document.querySelector('#df-41392dbc-9454-495f-9c57-40ce02dd4a57 button.colab-df-convert');\n",
              "        buttonEl.style.display =\n",
              "          google.colab.kernel.accessAllowed ? 'block' : 'none';\n",
              "\n",
              "        async function convertToInteractive(key) {\n",
              "          const element = document.querySelector('#df-41392dbc-9454-495f-9c57-40ce02dd4a57');\n",
              "          const dataTable =\n",
              "            await google.colab.kernel.invokeFunction('convertToInteractive',\n",
              "                                                     [key], {});\n",
              "          if (!dataTable) return;\n",
              "\n",
              "          const docLinkHtml = 'Like what you see? Visit the ' +\n",
              "            '<a target=\"_blank\" href=https://colab.research.google.com/notebooks/data_table.ipynb>data table notebook</a>'\n",
              "            + ' to learn more about interactive tables.';\n",
              "          element.innerHTML = '';\n",
              "          dataTable['output_type'] = 'display_data';\n",
              "          await google.colab.output.renderOutput(dataTable, element);\n",
              "          const docLink = document.createElement('div');\n",
              "          docLink.innerHTML = docLinkHtml;\n",
              "          element.appendChild(docLink);\n",
              "        }\n",
              "      </script>\n",
              "    </div>\n",
              "  </div>\n",
              "  "
            ],
            "text/plain": [
              "      200_BOTTOM_champ_winrate  200_BOTTOM_champ_games_played\n",
              "783                        0.0                              4\n",
              "1184                       0.0                              3\n",
              "544                        0.0                              2\n",
              "989                        0.0                              2\n",
              "926                        0.0                              2\n",
              "820                        0.0                              2\n",
              "810                        0.0                              2\n",
              "710                        0.0                              2\n",
              "577                        0.0                              2\n",
              "14                         0.0                              2\n",
              "296                        0.0                              2\n",
              "378                        0.0                              1\n",
              "248                        0.0                              1\n",
              "1181                       0.0                              1\n",
              "1131                       0.0                              1\n",
              "158                        0.0                              1\n",
              "933                        0.0                              1\n",
              "235                        0.0                              1\n",
              "841                        0.0                              1\n",
              "263                        0.0                              1\n",
              "356                        0.0                              1\n",
              "292                        0.0                              1\n",
              "763                        0.0                              1\n",
              "741                        0.0                              1\n",
              "94                         0.0                              1\n",
              "324                        0.0                              1\n",
              "562                        0.0                              1\n",
              "653                        0.0                              1"
            ]
          },
          "metadata": {},
          "execution_count": 133
        }
      ]
    },
    {
      "cell_type": "code",
      "source": [
        "temp_df = df[[\"200_BOTTOM_champ_winrate\", \"200_BOTTOM_champ_games_played\", \"winning_team\"]]\n",
        "temp_df = temp_df[df[\"200_BOTTOM_champ_winrate\"] > 0.99]\n",
        "temp_df[\"winning_team\"].value_counts()"
      ],
      "metadata": {
        "colab": {
          "base_uri": "https://localhost:8080/"
        },
        "id": "bUsInid_rIlX",
        "outputId": "1fb25c99-8c92-40b0-ae85-6d09d9d37400"
      },
      "execution_count": null,
      "outputs": [
        {
          "output_type": "execute_result",
          "data": {
            "text/plain": [
              "200    15\n",
              "Name: winning_team, dtype: int64"
            ]
          },
          "metadata": {},
          "execution_count": 134
        }
      ]
    },
    {
      "cell_type": "code",
      "source": [
        "temp_df = df[[\"200_BOTTOM_champ_winrate\", \"200_BOTTOM_champ_games_played\", \"winning_team\"]]\n",
        "temp_df = temp_df[df[\"200_BOTTOM_champ_winrate\"] < 0.01]\n",
        "temp_df[\"winning_team\"].value_counts()"
      ],
      "metadata": {
        "colab": {
          "base_uri": "https://localhost:8080/"
        },
        "id": "sWaRCfIKru-c",
        "outputId": "6b763c9a-2bb7-494f-fb47-8034b6679911"
      },
      "execution_count": null,
      "outputs": [
        {
          "output_type": "execute_result",
          "data": {
            "text/plain": [
              "100    28\n",
              "Name: winning_team, dtype: int64"
            ]
          },
          "metadata": {},
          "execution_count": 135
        }
      ]
    },
    {
      "cell_type": "code",
      "source": [
        "temp_df = df[[\"200_BOTTOM_champ_winrate\", \"200_BOTTOM_champ_games_played\", \"winning_team\"]]\n",
        "temp_df = temp_df[df[\"200_BOTTOM_champ_winrate\"].isnull()]\n",
        "temp_df[\"winning_team\"].value_counts()"
      ],
      "metadata": {
        "colab": {
          "base_uri": "https://localhost:8080/"
        },
        "id": "bUX5N6_u-ugC",
        "outputId": "fd3466de-c19e-4303-c196-cf453b85cc8d"
      },
      "execution_count": null,
      "outputs": [
        {
          "output_type": "execute_result",
          "data": {
            "text/plain": [
              "100    82\n",
              "200    72\n",
              "Name: winning_team, dtype: int64"
            ]
          },
          "metadata": {},
          "execution_count": 137
        }
      ]
    },
    {
      "cell_type": "markdown",
      "source": [
        "It seems that when a player has a high champion winrate they only win their games. Also if they have low winrate they're likely to lose as well.\n",
        "\n",
        "### Reasoning\n",
        "\n",
        "However, this is most likely because we collected data after the game gets played.\n",
        "\n",
        "For example, if a person played 1 game with a champion, and won, and we collected the statistics after the fact, then it will say they have 1 game played on that champion, with a 100% winrate(which is the game we are scraping)\n",
        "\n",
        "Therefore, it would be reasonable to try dealing with outliers by setting champ_wr values for a player to either:\n",
        "\n",
        " - The mean of champ_wr\n",
        " - 50%(theoretical probability of winning a League game)\n",
        " - Their ranked winrate(in which we will have to make a new variable wr that is wins/wins+losses)"
      ],
      "metadata": {
        "id": "r_ohdFxCr3xi"
      }
    },
    {
      "cell_type": "markdown",
      "source": [
        "# Dealing with NA values\n",
        "\n",
        "I'm going to fill them with mean values for now.\n",
        "\n",
        "I will prioritize feature selection/engineering"
      ],
      "metadata": {
        "id": "cFpIgkRxnoEN"
      }
    },
    {
      "cell_type": "code",
      "source": [
        "# NA Values\n",
        "a = df.isnull().sum(axis=0)\n",
        "\n",
        "na_count = total = a.sort_values(ascending=False)\n",
        "\n",
        "na_percent = (df.isnull().sum()/df.isnull().count()).sort_values(ascending=False)\n",
        "\n",
        "missing_data = pd.concat([na_count, na_percent], axis=1, keys=[\"Total\", \"Percent\"])\n",
        "\n",
        "missing_data.head(20)"
      ],
      "metadata": {
        "colab": {
          "base_uri": "https://localhost:8080/",
          "height": 677
        },
        "id": "QF5lw0qRnmM2",
        "outputId": "c520b53a-14ef-48bd-cfb8-9035726eb019"
      },
      "execution_count": null,
      "outputs": [
        {
          "output_type": "execute_result",
          "data": {
            "text/html": [
              "\n",
              "  <div id=\"df-71d8923f-b07e-460e-85c0-f14a3c805a0e\">\n",
              "    <div class=\"colab-df-container\">\n",
              "      <div>\n",
              "<style scoped>\n",
              "    .dataframe tbody tr th:only-of-type {\n",
              "        vertical-align: middle;\n",
              "    }\n",
              "\n",
              "    .dataframe tbody tr th {\n",
              "        vertical-align: top;\n",
              "    }\n",
              "\n",
              "    .dataframe thead th {\n",
              "        text-align: right;\n",
              "    }\n",
              "</style>\n",
              "<table border=\"1\" class=\"dataframe\">\n",
              "  <thead>\n",
              "    <tr style=\"text-align: right;\">\n",
              "      <th></th>\n",
              "      <th>Total</th>\n",
              "      <th>Percent</th>\n",
              "    </tr>\n",
              "  </thead>\n",
              "  <tbody>\n",
              "    <tr>\n",
              "      <th>200_BOTTOM_champ_winrate</th>\n",
              "      <td>154</td>\n",
              "      <td>0.1232</td>\n",
              "    </tr>\n",
              "    <tr>\n",
              "      <th>100_BOTTOM_champ_winrate</th>\n",
              "      <td>149</td>\n",
              "      <td>0.1192</td>\n",
              "    </tr>\n",
              "    <tr>\n",
              "      <th>200_JUNGLE_champ_winrate</th>\n",
              "      <td>86</td>\n",
              "      <td>0.0688</td>\n",
              "    </tr>\n",
              "    <tr>\n",
              "      <th>100_JUNGLE_champ_winrate</th>\n",
              "      <td>80</td>\n",
              "      <td>0.0640</td>\n",
              "    </tr>\n",
              "    <tr>\n",
              "      <th>100_TOP_champ_winrate</th>\n",
              "      <td>47</td>\n",
              "      <td>0.0376</td>\n",
              "    </tr>\n",
              "    <tr>\n",
              "      <th>200_TOP_champ_winrate</th>\n",
              "      <td>39</td>\n",
              "      <td>0.0312</td>\n",
              "    </tr>\n",
              "    <tr>\n",
              "      <th>200_MIDDLE_champ_winrate</th>\n",
              "      <td>18</td>\n",
              "      <td>0.0144</td>\n",
              "    </tr>\n",
              "    <tr>\n",
              "      <th>100_MIDDLE_champ_winrate</th>\n",
              "      <td>11</td>\n",
              "      <td>0.0088</td>\n",
              "    </tr>\n",
              "    <tr>\n",
              "      <th>200_UTILITY_champ_winrate</th>\n",
              "      <td>7</td>\n",
              "      <td>0.0056</td>\n",
              "    </tr>\n",
              "    <tr>\n",
              "      <th>100_UTILITY_champ_winrate</th>\n",
              "      <td>4</td>\n",
              "      <td>0.0032</td>\n",
              "    </tr>\n",
              "    <tr>\n",
              "      <th>200_MIDDLE_role_total_played</th>\n",
              "      <td>1</td>\n",
              "      <td>0.0008</td>\n",
              "    </tr>\n",
              "    <tr>\n",
              "      <th>200_MIDDLE_role_wr</th>\n",
              "      <td>1</td>\n",
              "      <td>0.0008</td>\n",
              "    </tr>\n",
              "    <tr>\n",
              "      <th>100_BOTTOM_avg_cs</th>\n",
              "      <td>0</td>\n",
              "      <td>0.0000</td>\n",
              "    </tr>\n",
              "    <tr>\n",
              "      <th>100_BOTTOM_positions_played</th>\n",
              "      <td>0</td>\n",
              "      <td>0.0000</td>\n",
              "    </tr>\n",
              "    <tr>\n",
              "      <th>100_BOTTOM_goldpm</th>\n",
              "      <td>0</td>\n",
              "      <td>0.0000</td>\n",
              "    </tr>\n",
              "    <tr>\n",
              "      <th>100_BOTTOM_avg_kp</th>\n",
              "      <td>0</td>\n",
              "      <td>0.0000</td>\n",
              "    </tr>\n",
              "    <tr>\n",
              "      <th>100_BOTTOM_avg_kda</th>\n",
              "      <td>0</td>\n",
              "      <td>0.0000</td>\n",
              "    </tr>\n",
              "    <tr>\n",
              "      <th>100_BOTTOM_dmgpm</th>\n",
              "      <td>0</td>\n",
              "      <td>0.0000</td>\n",
              "    </tr>\n",
              "    <tr>\n",
              "      <th>100_BOTTOM_dmg_to_obj_pm</th>\n",
              "      <td>0</td>\n",
              "      <td>0.0000</td>\n",
              "    </tr>\n",
              "    <tr>\n",
              "      <th>100_BOTTOM_avg_vision</th>\n",
              "      <td>0</td>\n",
              "      <td>0.0000</td>\n",
              "    </tr>\n",
              "  </tbody>\n",
              "</table>\n",
              "</div>\n",
              "      <button class=\"colab-df-convert\" onclick=\"convertToInteractive('df-71d8923f-b07e-460e-85c0-f14a3c805a0e')\"\n",
              "              title=\"Convert this dataframe to an interactive table.\"\n",
              "              style=\"display:none;\">\n",
              "        \n",
              "  <svg xmlns=\"http://www.w3.org/2000/svg\" height=\"24px\"viewBox=\"0 0 24 24\"\n",
              "       width=\"24px\">\n",
              "    <path d=\"M0 0h24v24H0V0z\" fill=\"none\"/>\n",
              "    <path d=\"M18.56 5.44l.94 2.06.94-2.06 2.06-.94-2.06-.94-.94-2.06-.94 2.06-2.06.94zm-11 1L8.5 8.5l.94-2.06 2.06-.94-2.06-.94L8.5 2.5l-.94 2.06-2.06.94zm10 10l.94 2.06.94-2.06 2.06-.94-2.06-.94-.94-2.06-.94 2.06-2.06.94z\"/><path d=\"M17.41 7.96l-1.37-1.37c-.4-.4-.92-.59-1.43-.59-.52 0-1.04.2-1.43.59L10.3 9.45l-7.72 7.72c-.78.78-.78 2.05 0 2.83L4 21.41c.39.39.9.59 1.41.59.51 0 1.02-.2 1.41-.59l7.78-7.78 2.81-2.81c.8-.78.8-2.07 0-2.86zM5.41 20L4 18.59l7.72-7.72 1.47 1.35L5.41 20z\"/>\n",
              "  </svg>\n",
              "      </button>\n",
              "      \n",
              "  <style>\n",
              "    .colab-df-container {\n",
              "      display:flex;\n",
              "      flex-wrap:wrap;\n",
              "      gap: 12px;\n",
              "    }\n",
              "\n",
              "    .colab-df-convert {\n",
              "      background-color: #E8F0FE;\n",
              "      border: none;\n",
              "      border-radius: 50%;\n",
              "      cursor: pointer;\n",
              "      display: none;\n",
              "      fill: #1967D2;\n",
              "      height: 32px;\n",
              "      padding: 0 0 0 0;\n",
              "      width: 32px;\n",
              "    }\n",
              "\n",
              "    .colab-df-convert:hover {\n",
              "      background-color: #E2EBFA;\n",
              "      box-shadow: 0px 1px 2px rgba(60, 64, 67, 0.3), 0px 1px 3px 1px rgba(60, 64, 67, 0.15);\n",
              "      fill: #174EA6;\n",
              "    }\n",
              "\n",
              "    [theme=dark] .colab-df-convert {\n",
              "      background-color: #3B4455;\n",
              "      fill: #D2E3FC;\n",
              "    }\n",
              "\n",
              "    [theme=dark] .colab-df-convert:hover {\n",
              "      background-color: #434B5C;\n",
              "      box-shadow: 0px 1px 3px 1px rgba(0, 0, 0, 0.15);\n",
              "      filter: drop-shadow(0px 1px 2px rgba(0, 0, 0, 0.3));\n",
              "      fill: #FFFFFF;\n",
              "    }\n",
              "  </style>\n",
              "\n",
              "      <script>\n",
              "        const buttonEl =\n",
              "          document.querySelector('#df-71d8923f-b07e-460e-85c0-f14a3c805a0e button.colab-df-convert');\n",
              "        buttonEl.style.display =\n",
              "          google.colab.kernel.accessAllowed ? 'block' : 'none';\n",
              "\n",
              "        async function convertToInteractive(key) {\n",
              "          const element = document.querySelector('#df-71d8923f-b07e-460e-85c0-f14a3c805a0e');\n",
              "          const dataTable =\n",
              "            await google.colab.kernel.invokeFunction('convertToInteractive',\n",
              "                                                     [key], {});\n",
              "          if (!dataTable) return;\n",
              "\n",
              "          const docLinkHtml = 'Like what you see? Visit the ' +\n",
              "            '<a target=\"_blank\" href=https://colab.research.google.com/notebooks/data_table.ipynb>data table notebook</a>'\n",
              "            + ' to learn more about interactive tables.';\n",
              "          element.innerHTML = '';\n",
              "          dataTable['output_type'] = 'display_data';\n",
              "          await google.colab.output.renderOutput(dataTable, element);\n",
              "          const docLink = document.createElement('div');\n",
              "          docLink.innerHTML = docLinkHtml;\n",
              "          element.appendChild(docLink);\n",
              "        }\n",
              "      </script>\n",
              "    </div>\n",
              "  </div>\n",
              "  "
            ],
            "text/plain": [
              "                              Total  Percent\n",
              "200_BOTTOM_champ_winrate        154   0.1232\n",
              "100_BOTTOM_champ_winrate        149   0.1192\n",
              "200_JUNGLE_champ_winrate         86   0.0688\n",
              "100_JUNGLE_champ_winrate         80   0.0640\n",
              "100_TOP_champ_winrate            47   0.0376\n",
              "200_TOP_champ_winrate            39   0.0312\n",
              "200_MIDDLE_champ_winrate         18   0.0144\n",
              "100_MIDDLE_champ_winrate         11   0.0088\n",
              "200_UTILITY_champ_winrate         7   0.0056\n",
              "100_UTILITY_champ_winrate         4   0.0032\n",
              "200_MIDDLE_role_total_played      1   0.0008\n",
              "200_MIDDLE_role_wr                1   0.0008\n",
              "100_BOTTOM_avg_cs                 0   0.0000\n",
              "100_BOTTOM_positions_played       0   0.0000\n",
              "100_BOTTOM_goldpm                 0   0.0000\n",
              "100_BOTTOM_avg_kp                 0   0.0000\n",
              "100_BOTTOM_avg_kda                0   0.0000\n",
              "100_BOTTOM_dmgpm                  0   0.0000\n",
              "100_BOTTOM_dmg_to_obj_pm          0   0.0000\n",
              "100_BOTTOM_avg_vision             0   0.0000"
            ]
          },
          "metadata": {},
          "execution_count": 77
        }
      ]
    },
    {
      "cell_type": "code",
      "source": [
        "df.fillna(df.mean(), inplace=True)\n",
        "\n",
        "df.isnull().sum(axis=0).sort_values(ascending=False)"
      ],
      "metadata": {
        "colab": {
          "base_uri": "https://localhost:8080/"
        },
        "id": "TuVHs3p07eIz",
        "outputId": "54b09127-d344-4e29-b89d-f7217036d8a7"
      },
      "execution_count": null,
      "outputs": [
        {
          "output_type": "execute_result",
          "data": {
            "text/plain": [
              "200_UTILITY_champ_winrate      0\n",
              "100_BOTTOM_positions_played    0\n",
              "100_BOTTOM_wins                0\n",
              "100_BOTTOM_lp                  0\n",
              "100_BOTTOM_rank                0\n",
              "                              ..\n",
              "200_JUNGLE_tier                0\n",
              "200_JUNGLE_wr                  0\n",
              "200_JUNGLE_dmg_to_obj_pm       0\n",
              "200_JUNGLE_dmgpm               0\n",
              "gameid                         0\n",
              "Length: 232, dtype: int64"
            ]
          },
          "metadata": {},
          "execution_count": 78
        }
      ]
    },
    {
      "cell_type": "markdown",
      "source": [
        "# Feature Engineering\n",
        "\n",
        "My knowledge of feature engineering is rudimentary at best. I know how to perform transformations on data, and not much else. My attempt at feature engineering did not result in much.\n",
        "\n",
        "I plan(ned) to go through:\n",
        " - all champ winrates(champ_winrate)\n",
        " - all ranked wr(wr)\n",
        "\n",
        "Some other things I will probably look at, but are less important\n",
        " - lp(lp)\n",
        " - average kda across past 10 games(avg_kda)"
      ],
      "metadata": {
        "id": "zs26cWk_8CiX"
      }
    },
    {
      "cell_type": "markdown",
      "source": [
        "## Champ winrates\n",
        "\n",
        "It seems like most champ winrates have a similar distribution.\n",
        "\n",
        "I considered many transformations for normality, but none of them really worked.\n",
        "\n",
        "In addition, since I am not doing linear regression, there isn't an assumption that data should be normally distributed(if I'm correct). Sources also tell me that non-normal data doesn't affect the accuracy of a classification model too much."
      ],
      "metadata": {
        "id": "Z7Mk8Tor9IK3"
      }
    },
    {
      "cell_type": "code",
      "source": [
        "for team in [\"100\", \"200\"]:\n",
        "  for role in [\"TOP\", \"MIDDLE\", \"BOTTOM\", \"JUNGLE\", \"UTILITY\"]:\n",
        "    var = team + \"_\" + role + \"_champ_winrate\"\n",
        "    sns.displot(df[var])\n",
        "    fig = plt.figure() # creates a new figure\n",
        "    res = stats.probplot(df[var], plot=plt)"
      ],
      "metadata": {
        "colab": {
          "base_uri": "https://localhost:8080/",
          "height": 1000
        },
        "id": "wswShQNQt-64",
        "outputId": "bc9eb92a-045e-4cd0-8eb1-146d89b08b6d"
      },
      "execution_count": null,
      "outputs": [
        {
          "output_type": "display_data",
          "data": {
            "image/png": "[encoded data removed]",
            "text/plain": [
              "<Figure size 360x360 with 1 Axes>"
            ]
          },
          "metadata": {
            "needs_background": "light"
          }
        },
        {
          "output_type": "display_data",
          "data": {
            "image/png": "[encoded data removed]",
            "text/plain": [
              "<Figure size 432x288 with 1 Axes>"
            ]
          },
          "metadata": {
            "needs_background": "light"
          }
        },
        {
          "output_type": "display_data",
          "data": {
            "image/png": "[encoded data removed]",
            "text/plain": [
              "<Figure size 360x360 with 1 Axes>"
            ]
          },
          "metadata": {
            "needs_background": "light"
          }
        },
        {
          "output_type": "display_data",
          "data": {
            "image/png": "[encoded data removed]",
            "text/plain": [
              "<Figure size 432x288 with 1 Axes>"
            ]
          },
          "metadata": {
            "needs_background": "light"
          }
        },
        {
          "output_type": "display_data",
          "data": {
            "image/png": "[encoded data removed]",
            "text/plain": [
              "<Figure size 360x360 with 1 Axes>"
            ]
          },
          "metadata": {
            "needs_background": "light"
          }
        },
        {
          "output_type": "display_data",
          "data": {
            "image/png": "[encoded data removed]",
            "text/plain": [
              "<Figure size 432x288 with 1 Axes>"
            ]
          },
          "metadata": {
            "needs_background": "light"
          }
        },
        {
          "output_type": "display_data",
          "data": {
            "image/png": "[encoded data removed]",
            "text/plain": [
              "<Figure size 360x360 with 1 Axes>"
            ]
          },
          "metadata": {
            "needs_background": "light"
          }
        },
        {
          "output_type": "display_data",
          "data": {
            "image/png": "[encoded data removed]",
            "text/plain": [
              "<Figure size 432x288 with 1 Axes>"
            ]
          },
          "metadata": {
            "needs_background": "light"
          }
        },
        {
          "output_type": "display_data",
          "data": {
            "image/png": "[encoded data removed]",
            "text/plain": [
              "<Figure size 360x360 with 1 Axes>"
            ]
          },
          "metadata": {
            "needs_background": "light"
          }
        },
        {
          "output_type": "display_data",
          "data": {
            "image/png": "[encoded data removed]",
            "text/plain": [
              "<Figure size 432x288 with 1 Axes>"
            ]
          },
          "metadata": {
            "needs_background": "light"
          }
        },
        {
          "output_type": "display_data",
          "data": {
            "image/png": "[encoded data removed]",
            "text/plain": [
              "<Figure size 360x360 with 1 Axes>"
            ]
          },
          "metadata": {
            "needs_background": "light"
          }
        },
        {
          "output_type": "display_data",
          "data": {
            "image/png": "[encoded data removed]",
            "text/plain": [
              "<Figure size 432x288 with 1 Axes>"
            ]
          },
          "metadata": {
            "needs_background": "light"
          }
        },
        {
          "output_type": "display_data",
          "data": {
            "image/png": "[encoded data removed]",
            "text/plain": [
              "<Figure size 360x360 with 1 Axes>"
            ]
          },
          "metadata": {
            "needs_background": "light"
          }
        },
        {
          "output_type": "display_data",
          "data": {
            "image/png": "[encoded data removed]",
            "text/plain": [
              "<Figure size 432x288 with 1 Axes>"
            ]
          },
          "metadata": {
            "needs_background": "light"
          }
        },
        {
          "output_type": "display_data",
          "data": {
            "image/png": "[encoded data removed]",
            "text/plain": [
              "<Figure size 360x360 with 1 Axes>"
            ]
          },
          "metadata": {
            "needs_background": "light"
          }
        },
        {
          "output_type": "display_data",
          "data": {
            "image/png": "[encoded data removed]",
            "text/plain": [
              "<Figure size 432x288 with 1 Axes>"
            ]
          },
          "metadata": {
            "needs_background": "light"
          }
        },
        {
          "output_type": "display_data",
          "data": {
            "image/png": "[encoded data removed]",
            "text/plain": [
              "<Figure size 360x360 with 1 Axes>"
            ]
          },
          "metadata": {
            "needs_background": "light"
          }
        },
        {
          "output_type": "display_data",
          "data": {
            "image/png": "[encoded data removed]",
            "text/plain": [
              "<Figure size 432x288 with 1 Axes>"
            ]
          },
          "metadata": {
            "needs_background": "light"
          }
        },
        {
          "output_type": "display_data",
          "data": {
            "image/png": "[encoded data removed]",
            "text/plain": [
              "<Figure size 360x360 with 1 Axes>"
            ]
          },
          "metadata": {
            "needs_background": "light"
          }
        },
        {
          "output_type": "display_data",
          "data": {
            "image/png": "[encoded data removed]",
            "text/plain": [
              "<Figure size 432x288 with 1 Axes>"
            ]
          },
          "metadata": {
            "needs_background": "light"
          }
        }
      ]
    },
    {
      "cell_type": "code",
      "source": [
        "var = df[\"100_TOP_champ_winrate\"]\n",
        "print(\"Skewness:\", var.skew())\n",
        "print(\"Kurtosis:\", var.kurt())"
      ],
      "metadata": {
        "colab": {
          "base_uri": "https://localhost:8080/"
        },
        "id": "VoqStB8rC0Q5",
        "outputId": "f456ce69-f5dc-4aa8-b37e-50aa7c9c10e8"
      },
      "execution_count": null,
      "outputs": [
        {
          "output_type": "stream",
          "name": "stdout",
          "text": [
            "Skewness: -0.4091123609594853\n",
            "Kurtosis: 4.765411664861839\n"
          ]
        }
      ]
    },
    {
      "cell_type": "markdown",
      "source": [
        "So this one seems negatively skewed, and has high kurtosis, meaning that tails are populated. I will experiment with transformations now."
      ],
      "metadata": {
        "id": "zi8axMoCC-va"
      }
    },
    {
      "cell_type": "code",
      "source": [
        "no_zeroes = df[df[\"100_TOP_champ_winrate\"] > 0]\n",
        "logged_example = np.log(no_zeroes[\"100_TOP_champ_winrate\"])\n",
        "# logged_example = np.sqrt(df[\"100_TOP_champ_winrate\"])\n",
        "# tmp = 1/(df[\"100_TOP_champ_winrate\"] + 1)\n",
        "# logged_example = np.log1p(df[\"100_TOP_champ_winrate\"]*1000)\n",
        "sns.displot(df[\"100_TOP_champ_winrate\"])\n",
        "fig = plt.figure() # creates a new figure\n",
        "res = stats.probplot(df[\"100_TOP_champ_winrate\"], plot=plt)\n",
        "sns.displot(logged_example)\n",
        "fig = plt.figure() # creates a new figure\n",
        "res = stats.probplot(logged_example, plot=plt)"
      ],
      "metadata": {
        "colab": {
          "base_uri": "https://localhost:8080/",
          "height": 1000
        },
        "id": "u_aZwKey8aYQ",
        "outputId": "a1cfc5a6-ca4f-4ad4-afd1-f869f5c42d39"
      },
      "execution_count": null,
      "outputs": [
        {
          "output_type": "display_data",
          "data": {
            "image/png": "[encoded data removed]",
            "text/plain": [
              "<Figure size 360x360 with 1 Axes>"
            ]
          },
          "metadata": {
            "needs_background": "light"
          }
        },
        {
          "output_type": "display_data",
          "data": {
            "image/png": "[encoded data removed]",
            "text/plain": [
              "<Figure size 432x288 with 1 Axes>"
            ]
          },
          "metadata": {
            "needs_background": "light"
          }
        },
        {
          "output_type": "display_data",
          "data": {
            "image/png": "[encoded data removed]",
            "text/plain": [
              "<Figure size 360x360 with 1 Axes>"
            ]
          },
          "metadata": {
            "needs_background": "light"
          }
        },
        {
          "output_type": "display_data",
          "data": {
            "image/png": "[encoded data removed]",
            "text/plain": [
              "<Figure size 432x288 with 1 Axes>"
            ]
          },
          "metadata": {
            "needs_background": "light"
          }
        }
      ]
    },
    {
      "cell_type": "code",
      "source": [
        "var = logged_example\n",
        "print(\"type\", type(var))\n",
        "print(\"Skewness:\", var.skew())\n",
        "print(\"Kurtosis:\", var.kurt())"
      ],
      "metadata": {
        "colab": {
          "base_uri": "https://localhost:8080/"
        },
        "id": "6ySK2_MZEXNv",
        "outputId": "291c36c2-081e-46db-8f88-39124b4bac0d"
      },
      "execution_count": null,
      "outputs": [
        {
          "output_type": "stream",
          "name": "stdout",
          "text": [
            "type <class 'pandas.core.series.Series'>\n",
            "Skewness: -0.8335365789853033\n",
            "Kurtosis: 4.578403118004994\n"
          ]
        }
      ]
    },
    {
      "cell_type": "code",
      "source": [
        "from scipy.stats import boxcox"
      ],
      "metadata": {
        "id": "LlCYWuPXDqha"
      },
      "execution_count": null,
      "outputs": []
    },
    {
      "cell_type": "code",
      "source": [
        "no_zeroes = df[df[\"100_TOP_champ_winrate\"] > 0]\n",
        "no_zeroes = no_zeroes[\"100_TOP_champ_winrate\"]\n",
        "yes_zeroes = df[df[\"100_TOP_champ_winrate\"] <= 0]\n",
        "yes_zeroes = yes_zeroes[\"100_TOP_champ_winrate\"]"
      ],
      "metadata": {
        "id": "Hh6wdbzrGFNS"
      },
      "execution_count": null,
      "outputs": []
    },
    {
      "cell_type": "code",
      "source": [
        "var = no_zeroes\n",
        "# bcx_target, lam = boxcox(var)\n",
        "\n",
        "# print(\"lambda:\", str(lam))\n",
        "\n",
        "adjusted_var = np.log1p(var)\n",
        "\n",
        "# lam is the best lambda for the distribution\n",
        "\n",
        "var = pd.concat([pd.Series(adjusted_var), yes_zeroes])\n",
        "\n",
        "sns.displot(var)\n",
        "fig = plt.figure() # creates a new figure\n",
        "res = stats.probplot(var, plot=plt)"
      ],
      "metadata": {
        "colab": {
          "base_uri": "https://localhost:8080/",
          "height": 647
        },
        "id": "wx8llvWCDy9w",
        "outputId": "8db56635-8f81-4e77-d660-6e90cd08e349"
      },
      "execution_count": null,
      "outputs": [
        {
          "output_type": "display_data",
          "data": {
            "image/png": "[encoded data removed]",
            "text/plain": [
              "<Figure size 360x360 with 1 Axes>"
            ]
          },
          "metadata": {
            "needs_background": "light"
          }
        },
        {
          "output_type": "display_data",
          "data": {
            "image/png": "[encoded data removed]",
            "text/plain": [
              "<Figure size 432x288 with 1 Axes>"
            ]
          },
          "metadata": {
            "needs_background": "light"
          }
        }
      ]
    },
    {
      "cell_type": "markdown",
      "source": [
        "# LP\n",
        "\n",
        "While other variables typically range 0-1, or have a low range(as they represent some sort of ratio), LP can go to the thousands. I thought that applying a transformation to this variable might help, so I tried a few.\n",
        "\n",
        "None of them helped me achieve normality, but later I decided to use the log1p transformation to bring the scale of the variable closer to that of the others."
      ],
      "metadata": {
        "id": "B2zc75xm7La3"
      }
    },
    {
      "cell_type": "code",
      "source": [
        "var = df[\"100_MIDDLE_lp\"]\n",
        "\n",
        "sns.displot(var)\n",
        "fig = plt.figure() # creates a new figure\n",
        "res = stats.probplot(var, plot=plt)"
      ],
      "metadata": {
        "colab": {
          "base_uri": "https://localhost:8080/",
          "height": 647
        },
        "id": "7mFdSPwx7PMk",
        "outputId": "7986aa2c-0142-41b7-f72a-8269bd608e94"
      },
      "execution_count": null,
      "outputs": [
        {
          "output_type": "display_data",
          "data": {
            "image/png": "[encoded data removed]",
            "text/plain": [
              "<Figure size 360x360 with 1 Axes>"
            ]
          },
          "metadata": {
            "needs_background": "light"
          }
        },
        {
          "output_type": "display_data",
          "data": {
            "image/png": "[encoded data removed]",
            "text/plain": [
              "<Figure size 432x288 with 1 Axes>"
            ]
          },
          "metadata": {
            "needs_background": "light"
          }
        }
      ]
    },
    {
      "cell_type": "code",
      "source": [
        "# Log transformations are typically good for skewed variables, so I'll try that.\n",
        "\n",
        "var = np.log1p(df[\"100_MIDDLE_lp\"])\n",
        "\n",
        "sns.displot(var)\n",
        "fig = plt.figure() # creates a new figure\n",
        "res = stats.probplot(var, plot=plt)"
      ],
      "metadata": {
        "colab": {
          "base_uri": "https://localhost:8080/",
          "height": 647
        },
        "id": "IgWZey907dms",
        "outputId": "5d1c9858-ea31-4a8c-dbc3-5264eb30062d"
      },
      "execution_count": null,
      "outputs": [
        {
          "output_type": "display_data",
          "data": {
            "image/png": "[encoded data removed]",
            "text/plain": [
              "<Figure size 360x360 with 1 Axes>"
            ]
          },
          "metadata": {
            "needs_background": "light"
          }
        },
        {
          "output_type": "display_data",
          "data": {
            "image/png": "[encoded data removed]",
            "text/plain": [
              "<Figure size 432x288 with 1 Axes>"
            ]
          },
          "metadata": {
            "needs_background": "light"
          }
        }
      ]
    },
    {
      "cell_type": "code",
      "source": [
        "var = np.log1p(df[\"100_MIDDLE_lp\"])\n",
        "var = (var - var.mean())/var.std()\n",
        "var = var[var > 0]\n",
        "sns.distplot(var, fit=norm)\n",
        "fig = plt.figure() # creates a new figure\n",
        "res = stats.probplot(var, plot=plt)"
      ],
      "metadata": {
        "colab": {
          "base_uri": "https://localhost:8080/",
          "height": 613
        },
        "id": "p5pY_CCr7-ID",
        "outputId": "248a8372-e083-4806-ad2f-f83ae6b5bef4"
      },
      "execution_count": null,
      "outputs": [
        {
          "output_type": "stream",
          "name": "stderr",
          "text": [
            "/usr/local/lib/python3.7/dist-packages/seaborn/distributions.py:2619: FutureWarning: `distplot` is a deprecated function and will be removed in a future version. Please adapt your code to use either `displot` (a figure-level function with similar flexibility) or `histplot` (an axes-level function for histograms).\n",
            "  warnings.warn(msg, FutureWarning)\n"
          ]
        },
        {
          "output_type": "display_data",
          "data": {
            "image/png": "[encoded data removed]",
            "text/plain": [
              "<Figure size 432x288 with 1 Axes>"
            ]
          },
          "metadata": {
            "needs_background": "light"
          }
        },
        {
          "output_type": "display_data",
          "data": {
            "image/png": "[encoded data removed]",
            "text/plain": [
              "<Figure size 432x288 with 1 Axes>"
            ]
          },
          "metadata": {
            "needs_background": "light"
          }
        }
      ]
    },
    {
      "cell_type": "markdown",
      "source": [
        "# Further Data Wrangling/Processing\n",
        "\n",
        "Finally, I decided to proceed with the basic data wrangling that I did in my previous notebook. I will research cross-validation and ensemble learning(which is already achieved through the Random Forst Classifier, I believe) for now."
      ],
      "metadata": {
        "id": "MDSUzccbqS1l"
      }
    },
    {
      "cell_type": "code",
      "source": [
        "# REMOVE ALL OBJECT DTYPES\n",
        "\n",
        "object_type = df.dtypes == object\n",
        "indexes_to_drop = object_type[object_type == True].index\n",
        "df.drop(indexes_to_drop, axis=1, inplace=True)"
      ],
      "metadata": {
        "id": "mnv00Lg6qf3y"
      },
      "execution_count": null,
      "outputs": []
    },
    {
      "cell_type": "code",
      "source": [
        "# CREATE TRAINING AND TESTING SETS\n",
        "\n",
        "msk = np.random.rand(len(df)) < 0.7\n",
        "train = df[msk]\n",
        "test = df[~msk]\n",
        "print(len(test), len(train))"
      ],
      "metadata": {
        "colab": {
          "base_uri": "https://localhost:8080/"
        },
        "id": "FVo8Nk5_reRB",
        "outputId": "00072146-9418-4206-f49c-4646e5cdc384"
      },
      "execution_count": null,
      "outputs": [
        {
          "output_type": "stream",
          "name": "stdout",
          "text": [
            "357 893\n"
          ]
        }
      ]
    },
    {
      "cell_type": "code",
      "source": [
        "# GET X AND Y\n",
        "\n",
        "train_x = train.drop(\"winning_team\", axis=1)\n",
        "train_y = train[\"winning_team\"]\n",
        "\n",
        "test_x = test.drop(\"winning_team\", axis=1)\n",
        "test_y = test[\"winning_team\"]"
      ],
      "metadata": {
        "id": "wGuO0ey9r2V0"
      },
      "execution_count": null,
      "outputs": []
    },
    {
      "cell_type": "markdown",
      "source": [
        "# Models/k-fold cross validation\n",
        "\n",
        "Here, I tried fine tuning my Random Forest Classification model, while using cross-validation to better evaluate the accuracy of each model."
      ],
      "metadata": {
        "id": "GzZnQ-8SsRDS"
      }
    },
    {
      "cell_type": "code",
      "source": [
        "from sklearn.ensemble import RandomForestClassifier\n",
        "import sklearn.metrics as metrics\n",
        "from sklearn.model_selection import cross_val_score\n",
        "from sklearn.model_selection import KFold"
      ],
      "metadata": {
        "id": "yUWZEcddsWnI"
      },
      "execution_count": null,
      "outputs": []
    },
    {
      "cell_type": "code",
      "source": [
        "k = 5\n",
        "kf = KFold(n_splits=k, random_state=None)\n",
        "\n",
        "random_state = 7\n",
        "n_estimators = 100\n",
        "\n",
        "model = RandomForestClassifier(random_state=random_state, n_estimators = n_estimators)\n",
        "\n",
        "result = cross_val_score(model , train_x, train_y, cv = kf)\n",
        "\n",
        "print(\"Avg accuracy: {}\".format(result.mean()))"
      ],
      "metadata": {
        "colab": {
          "base_uri": "https://localhost:8080/"
        },
        "id": "DX4_HCN4sakI",
        "outputId": "7b67a659-06d3-404d-f160-771428dff07c"
      },
      "execution_count": null,
      "outputs": [
        {
          "output_type": "stream",
          "name": "stdout",
          "text": [
            "Avg accuracy: 0.7928818027744649\n"
          ]
        }
      ]
    },
    {
      "cell_type": "code",
      "source": [
        "k = 5\n",
        "kf = KFold(n_splits=k, random_state=None)\n",
        "\n",
        "random_state = 7\n",
        "n_estimators = 100\n",
        "\n",
        "model = RandomForestClassifier(random_state=random_state, criterion=\"entropy\", n_estimators = n_estimators)\n",
        "\n",
        "result = cross_val_score(model , train_x, train_y, cv = kf)\n",
        "\n",
        "print(\"Avg accuracy: {}\".format(result.mean()))"
      ],
      "metadata": {
        "colab": {
          "base_uri": "https://localhost:8080/"
        },
        "id": "9VKRPeuStThH",
        "outputId": "bfcd761c-df8e-460c-fcaa-e3e94444e94c"
      },
      "execution_count": null,
      "outputs": [
        {
          "output_type": "stream",
          "name": "stdout",
          "text": [
            "Avg accuracy: 0.7985123344422823\n"
          ]
        }
      ]
    },
    {
      "cell_type": "code",
      "source": [
        "# TRYING LESS VARIABLES\n",
        "\n",
        "def get_all_vars(to_append):\n",
        "  lst = []\n",
        "  for team in [\"100\", \"200\"]:\n",
        "    for role in [\"TOP\", \"MIDDLE\", \"BOTTOM\", \"JUNGLE\", \"UTILITY\"]:\n",
        "      lst.append(team + \"_\" + role + \"_\" + to_append)\n",
        "  return lst\n",
        "\n",
        "vars = get_all_vars(\"champ_winrate\") + get_all_vars(\"wr\") + get_all_vars(\"hotstreak\") + get_all_vars(\"avg_kda\") + get_all_vars(\"lp\") + get_all_vars(\"role_wr\")\n",
        "\n",
        "train_x_tmp = train_x[vars]"
      ],
      "metadata": {
        "id": "b4X28Jj_t5M1"
      },
      "execution_count": null,
      "outputs": []
    },
    {
      "cell_type": "markdown",
      "source": [
        "I decided to try applying a simple transformation to the \"lp\" variables"
      ],
      "metadata": {
        "id": "LIL1hSQ_C1PC"
      }
    },
    {
      "cell_type": "code",
      "source": [
        "print(train_x_tmp[\"100_MIDDLE_lp\"].mean(), train_x_tmp[\"100_MIDDLE_lp\"].max(), train_x_tmp[\"100_MIDDLE_lp\"].min())"
      ],
      "metadata": {
        "colab": {
          "base_uri": "https://localhost:8080/"
        },
        "id": "qVBMQhfo2fLs",
        "outputId": "579aab69-6f34-441c-856a-ad8c177e60d2"
      },
      "execution_count": null,
      "outputs": [
        {
          "output_type": "stream",
          "name": "stdout",
          "text": [
            "189.14669652855542 1470 0\n"
          ]
        }
      ]
    },
    {
      "cell_type": "code",
      "source": [
        "tmp_var = np.log10(train_x_tmp[\"100_MIDDLE_lp\"] + 1)\n",
        "print(tmp_var.mean(), tmp_var.max(), tmp_var.min())"
      ],
      "metadata": {
        "colab": {
          "base_uri": "https://localhost:8080/"
        },
        "id": "p8Qm4rV-2u_O",
        "outputId": "83bb187c-7ab7-4443-8033-d0411ba8f771"
      },
      "execution_count": null,
      "outputs": [
        {
          "output_type": "stream",
          "name": "stdout",
          "text": [
            "1.8421416986690444 3.16761267272753 0.0\n"
          ]
        }
      ]
    },
    {
      "cell_type": "code",
      "source": [
        "train_x_tmp2 = train_x_tmp.copy()\n",
        "for variable in get_all_vars(\"lp\"):\n",
        "  train_x_tmp2[variable] = np.log1p(train_x_tmp2[variable])\n",
        "print(train_x_tmp2[\"100_MIDDLE_lp\"].mean(), train_x_tmp2[\"100_MIDDLE_lp\"].max(), train_x_tmp2[\"100_MIDDLE_lp\"].min())"
      ],
      "metadata": {
        "colab": {
          "base_uri": "https://localhost:8080/"
        },
        "id": "c7lZzGN13AID",
        "outputId": "4c287fff-5f32-4db5-db53-021f8b2281e6"
      },
      "execution_count": null,
      "outputs": [
        {
          "output_type": "stream",
          "name": "stdout",
          "text": [
            "4.241688014538061 7.293697720601438 0.0\n"
          ]
        }
      ]
    },
    {
      "cell_type": "code",
      "source": [
        "k = 5\n",
        "kf = KFold(n_splits=k, random_state=None)\n",
        "set_to_train_on = train_x_tmp2\n",
        "\n",
        "random_state = 7\n",
        "n_estimators = 150\n",
        "criterion=\"entropy\"\n",
        "min_samples_leaf=1  # this seems to make thins a bit better, higher numbers > lower score\n",
        "min_samples_split=2  # lower numbers didn't do anything, higher numbers seem to decrease the score\n",
        "\n",
        "model = RandomForestClassifier(random_state=random_state, \n",
        "                               criterion=criterion, \n",
        "                               min_samples_leaf=min_samples_leaf,\n",
        "                               min_samples_split=min_samples_split,\n",
        "                               n_estimators = n_estimators)\n",
        "\n",
        "result = cross_val_score(model , set_to_train_on, train_y, cv = kf)\n",
        "\n",
        "print(\"Avg accuracy: {}\".format(result.mean()))"
      ],
      "metadata": {
        "colab": {
          "base_uri": "https://localhost:8080/"
        },
        "id": "tc432xEYutvP",
        "outputId": "56275cd2-48ed-49e9-89e1-8ec75b8f5e31"
      },
      "execution_count": null,
      "outputs": [
        {
          "output_type": "stream",
          "name": "stdout",
          "text": [
            "Avg accuracy: 0.8141359613332495\n"
          ]
        }
      ]
    },
    {
      "cell_type": "markdown",
      "source": [
        "### Description of RandomForestClassifier Parameters\n",
        " - random_state is basically like setting a seed\n",
        " - n_estimators is the number of trees in the forest\n",
        " - criterion is gini(impurity) or entropy\n",
        " - min_samples_leaf is minimum number of samples in a leaf(default 1)\n",
        " - min_samples_split is min samples required to do a split(default 2)"
      ],
      "metadata": {
        "id": "a-a6z9U1vo5A"
      }
    },
    {
      "cell_type": "markdown",
      "source": [
        "## My Process(Things that I've tried)\n",
        "\n",
        "Selecting highest correlated variables and adding more estimators allowed the accuracy to reach over 80%. Some of the other variables were poorly processed, so omitting them increased the accuracy of the model.\n",
        "\n",
        "Changing min_samples_leaf and min_samples_split didn't change the cross validation score by much. Making them too high decreased the cross validation score, probably due to underfitting. This suggests that the model is not overfitting too much, which makes sense, as the dataset is quite small.\n",
        "\n",
        "Logging LP added around .2 to the cross-validation score(my reasoning was that the other variables typically ranged from 0 to 1, but lp would average 100, so I tried to scale LP down).\n",
        "\n",
        "## Things to try in the future\n",
        "\n",
        "Try adding more variables to be considered by the model, by cleaning more variables.\n",
        "\n",
        "Get more data(working on that currently)\n",
        "\n",
        "Make a new variable called ranked_wr or something that is equal to wins/(wins+losses), adjust missing and outlier champ_wr, wr, etc. and look at the correlation matrix again.\n",
        "\n",
        "*(basically take the other variables and use them to create more descriptive ones)*\n"
      ],
      "metadata": {
        "id": "ZibC9OaQ6CgP"
      }
    },
    {
      "cell_type": "markdown",
      "source": [
        "# Recap\n",
        "\n",
        "In this notebook, I've tried:\n",
        "\n",
        " - Cross Validation\n",
        " - Tuning my model\n",
        " - Logistic Regression, instead of classification model (I've seen other league predictors created using logistic regression, so I will research it later and try it out.)"
      ],
      "metadata": {
        "id": "ot96VqZfICkK"
      }
    },
    {
      "cell_type": "markdown",
      "source": [
        "## Summary of my research on cross-validation\n",
        "\n",
        "Cross validation is basically just a better way of estimating how your model will perform on unseen data. You separate the data into n parts, train models on n-1 parts, and validate it on the final part. You train multiple models, each using one of the parts as the \"validation set.\" You can then report the accuracy of each model, find the average accuracy, etc.\n",
        "\n",
        "This allows you to better fine-tune models and stuff, resulting in a better model. Therefore, we should tune the model while we cross-validate.\n",
        "\n",
        "Then, you train the final model on all of the data, and then test it."
      ],
      "metadata": {
        "id": "jYR76Do-MV-j"
      }
    }
  ]
}